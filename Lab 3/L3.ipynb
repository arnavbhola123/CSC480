{
 "cells": [
  {
   "cell_type": "markdown",
   "id": "2d8b3187",
   "metadata": {},
   "source": [
    "# CSC 480-F25 Lab 3: Agentic Heuristic Search (NYT Spelling Bee)"
   ]
  },
  {
   "cell_type": "markdown",
   "id": "597fcded",
   "metadata": {},
   "source": [
    "# Authors:"
   ]
  },
  {
   "cell_type": "markdown",
   "id": "ecc34f35",
   "metadata": {},
   "source": [
    "***Arnav Bhola, Pranav Krishna***\n",
    "\n",
    "California Polytechnic State University, San Luis Obispo;\n",
    "\n",
    "Computer Science & Software Engineering Department"
   ]
  },
  {
   "cell_type": "markdown",
   "id": "5d17928c",
   "metadata": {},
   "source": [
    "# Overview\n",
    "\n",
    "This lab focuses on:\n",
    "- Integrating a provided generalized search engine as a tool inside an agentic workflow\n",
    "- Designing an agentic heuristic system that collaborates to estimate $h(n)$ for NYT Spelling Bee states\n",
    "- Implementing a custom cost function $g(n)$ and evaluating search strategies (Uniform Cost, A*)\n",
    "- Coordinating agent communication via MCP-style tool exposure and A2A interactions\n",
    "- Reflecting on how agentic heuristics complement classical search methods\n",
    "\n",
    "NOTE: The Spelling Bee problem definition and generalized search function are provided for you. Your primary work is to wire them into your agentic solution and iterate on the heuristic design (see part 2 of this notebook).\n",
    "\n",
    "## Learning Objectives\n",
    "\n",
    "By the end of this lab, you will be able to:\n",
    "\n",
    "- Integrate a provided generalized search function as a tool within an AutoGen-based agentic system\n",
    "- Design and implement an agent team that produces numeric heuristic estimates to guide search\n",
    "- Define and justify a cost function that complements your heuristic in the Spelling Bee domain\n",
    "- Specify MCP-style tool schemas and A2A message flows for heuristic collaboration\n",
    "- Analyze how different heuristic strategies impact search quality, cost, and convergence"
   ]
  },
  {
   "cell_type": "markdown",
   "id": "c55e9e0d",
   "metadata": {},
   "source": [
    "# Part 1: Agentic Heuristic Design and Planning"
   ]
  },
  {
   "cell_type": "markdown",
   "id": "168872dd",
   "metadata": {},
   "source": [
    "## 1. Problem Statement & Search Context\n",
    "\n",
    "**Provided Problem:** NYT Spelling Bee puzzle instance (letters, required center letter, dictionary utilities)\n",
    "\n",
    "**Goal:** Integrate the provided Spelling Bee problem specification with the generalized search engine and your agentic heuristic.\n",
    "\n",
    "**Task Breakdown:** Outline the high-level steps you will take to reach a working solution.\n",
    "1. Configure SpellingBeeProblem with letters and required center letter\n",
    "2. Expose generalized_search by implementing cost_fn and heuristic_fn wrappers\n",
    "3. Design 2-3 specialized agents that analyze different aspects of state quality\n",
    "4. Use RoundRobinGroupChat to coordinate agents and aggregate scores\n",
    "5. Test on sample puzzles and iterate based on expansion counts"
   ]
  },
  {
   "cell_type": "markdown",
   "id": "56161440",
   "metadata": {},
   "source": [
    "## 2. Agentic Heuristic Team Definition\n",
    "\n",
    "Define the agents who collaborate to estimate $h(n)$ for a given Spelling Bee state. Feel free to use more, or fewer.\n",
    "\n",
    "### Agent 1: FeasibilityAnalyst\n",
    "- **Role:** Constraint checker and dictionary validator\n",
    "- **Responsibilities:** \n",
    "  - Check if state contains only allowed letters\n",
    "  - Verify required letter is present\n",
    "  - Assess if current prefix exists in valid word prefixes\n",
    "- **Inputs:** Current state (partial word), allowed letters, required letter\n",
    "- **Outputs:** Score 0-10 reflecting constraint satisfaction, rationale\n",
    "- **Success Criteria:** Correctly identifies invalid prefixes that can't lead to solutions\n",
    "\n",
    "### Agent 2: CompletenessEstimator  \n",
    "- **Role:** Distance-to-goal estimator\n",
    "- **Responsibilities:**\n",
    "  - Estimate how many more letters needed to form valid word\n",
    "  - Consider minimum word length (4 letters)\n",
    "  - Assess likelihood of common word patterns\n",
    "- **Inputs:** Current state length, min word length, letter usage patterns\n",
    "- **Outputs:** Score 0-10 (higher = closer to completion), rationale\n",
    "- **Success Criteria:** Provides lower scores for short states, higher for near-complete words\n",
    "\n",
    "### Agent 3: HeuristicAggregator\n",
    "- **Role:** Score coordinator and combiner\n",
    "- **Responsibilities:**\n",
    "  - Collect scores from FeasibilityAnalyst and CompletenessEstimator\n",
    "  - Weight and combine scores into single h(n)\n",
    "  - Ensure admissibility (never overestimate distance to goal)\n",
    "- **Inputs:** Sub-agent scores and rationales\n",
    "- **Outputs:** Single numeric FINAL_SCORE\n",
    "- **Success Criteria:** Returns consistent, numeric heuristic values"
   ]
  },
  {
   "cell_type": "markdown",
   "id": "53934c12",
   "metadata": {},
   "source": [
    "## 3. Tool Integration & Coordination Pattern\n",
    "\n",
    "**Chosen Pattern:** Manager-Worker with Sequential Coordination\n",
    "\n",
    "**Justification:**\n",
    "- Manager (HeuristicAggregator) coordinates two specialist workers\n",
    "- Sequential because feasibility must be checked before estimating completeness\n",
    "- Simpler than full collaborative team, reduces message overhead\n",
    "- Clear responsibility boundaries minimize conflicts\n",
    "\n",
    "**Integration Plan:** Outline how you will connect the provided components.\n",
    "- generalized_search calls heuristic_fn(state) whenever it needs h(n)\n",
    "- heuristic_fn creates RoundRobinGroupChat with 3 agents\n",
    "- Agents discuss state in sequence, aggregator produces FINAL_SCORE\n",
    "- cost_fn returns len(next_state) (each letter added costs 1)\n",
    "- Search maintains frontier/explored set; we just provide callbacks"
   ]
  },
  {
   "cell_type": "markdown",
   "id": "cdec6d3d",
   "metadata": {},
   "source": [
    "## 4. Communication Design\n",
    "\n",
    "### Model Context Protocol (MCP)\n",
    "**Tool Schema:** generalized_search exposed as async function\n",
    "- Parameters: problem (SpellingBeeProblem), cost_fn (callable), heuristic_fn (async callable), strategy (str)\n",
    "- Returns: SearchResult with success, goal_state, actions, cost, expansions\n",
    "\n",
    "### Agent-to-Agent (A2A) Interactions\n",
    "\n",
    "Describe the kind of communications you expect from your system.\n",
    "\n",
    "#### Interaction 1: HeuristicAggregator → FeasibilityAnalyst\n",
    "- **Purpose:** Request constraint analysis for current state\n",
    "- **Key Fields:** state string, allowed letters, required letter\n",
    "- **Message Format:** \"Evaluate feasibility for state: {state}\"\n",
    "\n",
    "#### Interaction 2: HeuristicAggregator → CompletenessEstimator  \n",
    "- **Purpose:** Request distance-to-goal estimate\n",
    "- **Key Fields:** state string, state length, min required length\n",
    "- **Message Format:** \"Estimate completeness for state: {state}\"\n",
    "\n",
    "#### Interaction 3: Sub-agents → HeuristicAggregator\n",
    "- **Purpose:** Return partial scores with reasoning\n",
    "- **Key Fields:** Numeric score, rationale text with \"SCORE: X.X\"\n",
    "- **Message Format:** Text ending with \"SCORE: <float>\"\n",
    "\n",
    "*(Add more interactions as needed.)*"
   ]
  },
  {
   "cell_type": "markdown",
   "id": "eacb6914",
   "metadata": {},
   "source": [
    "# Part 2: Integrating the Generalized Search Tool"
   ]
  },
  {
   "cell_type": "markdown",
   "id": "2c1fd14e",
   "metadata": {},
   "source": [
    "## Environment Setup\n",
    "\n",
    "Install required packages and configure model access before running the agentic heuristic experiments."
   ]
  },
  {
   "cell_type": "code",
   "execution_count": 1,
   "id": "0c2d75f5",
   "metadata": {},
   "outputs": [
    {
     "name": "stdout",
     "output_type": "stream",
     "text": [
      "Requirement already satisfied: autogen-core in c:\\pranav files\\college work\\csc 480\\lab3\\.venv\\lib\\site-packages (0.7.5)\n",
      "Requirement already satisfied: autogen-agentchat in c:\\pranav files\\college work\\csc 480\\lab3\\.venv\\lib\\site-packages (0.7.5)\n",
      "Requirement already satisfied: python-dotenv in c:\\pranav files\\college work\\csc 480\\lab3\\.venv\\lib\\site-packages (1.1.1)\n",
      "Requirement already satisfied: autogen-ext[azure,openai] in c:\\pranav files\\college work\\csc 480\\lab3\\.venv\\lib\\site-packages (0.7.5)\n",
      "Requirement already satisfied: jsonref~=1.1.0 in c:\\pranav files\\college work\\csc 480\\lab3\\.venv\\lib\\site-packages (from autogen-core) (1.1.0)\n",
      "Requirement already satisfied: opentelemetry-api>=1.34.1 in c:\\pranav files\\college work\\csc 480\\lab3\\.venv\\lib\\site-packages (from autogen-core) (1.37.0)\n",
      "Requirement already satisfied: pillow>=11.0.0 in c:\\pranav files\\college work\\csc 480\\lab3\\.venv\\lib\\site-packages (from autogen-core) (11.3.0)\n",
      "Requirement already satisfied: protobuf~=5.29.3 in c:\\pranav files\\college work\\csc 480\\lab3\\.venv\\lib\\site-packages (from autogen-core) (5.29.5)\n",
      "Requirement already satisfied: pydantic<3.0.0,>=2.10.0 in c:\\pranav files\\college work\\csc 480\\lab3\\.venv\\lib\\site-packages (from autogen-core) (2.12.0)\n",
      "Requirement already satisfied: typing-extensions>=4.0.0 in c:\\pranav files\\college work\\csc 480\\lab3\\.venv\\lib\\site-packages (from autogen-core) (4.15.0)\n",
      "Requirement already satisfied: annotated-types>=0.6.0 in c:\\pranav files\\college work\\csc 480\\lab3\\.venv\\lib\\site-packages (from pydantic<3.0.0,>=2.10.0->autogen-core) (0.7.0)\n",
      "Requirement already satisfied: pydantic-core==2.41.1 in c:\\pranav files\\college work\\csc 480\\lab3\\.venv\\lib\\site-packages (from pydantic<3.0.0,>=2.10.0->autogen-core) (2.41.1)\n",
      "Requirement already satisfied: typing-inspection>=0.4.2 in c:\\pranav files\\college work\\csc 480\\lab3\\.venv\\lib\\site-packages (from pydantic<3.0.0,>=2.10.0->autogen-core) (0.4.2)\n",
      "Requirement already satisfied: azure-ai-inference>=1.0.0b9 in c:\\pranav files\\college work\\csc 480\\lab3\\.venv\\lib\\site-packages (from autogen-ext[azure,openai]) (1.0.0b9)\n",
      "Requirement already satisfied: azure-ai-projects>=1.0.0b11 in c:\\pranav files\\college work\\csc 480\\lab3\\.venv\\lib\\site-packages (from autogen-ext[azure,openai]) (1.1.0b4)\n",
      "Requirement already satisfied: azure-core in c:\\pranav files\\college work\\csc 480\\lab3\\.venv\\lib\\site-packages (from autogen-ext[azure,openai]) (1.35.1)\n",
      "Requirement already satisfied: azure-identity in c:\\pranav files\\college work\\csc 480\\lab3\\.venv\\lib\\site-packages (from autogen-ext[azure,openai]) (1.25.1)\n",
      "Requirement already satisfied: azure-search-documents>=11.4.0 in c:\\pranav files\\college work\\csc 480\\lab3\\.venv\\lib\\site-packages (from autogen-ext[azure,openai]) (11.5.3)\n",
      "Requirement already satisfied: aiofiles in c:\\pranav files\\college work\\csc 480\\lab3\\.venv\\lib\\site-packages (from autogen-ext[azure,openai]) (24.1.0)\n",
      "Requirement already satisfied: openai>=1.93 in c:\\pranav files\\college work\\csc 480\\lab3\\.venv\\lib\\site-packages (from autogen-ext[azure,openai]) (2.2.0)\n",
      "Requirement already satisfied: tiktoken>=0.8.0 in c:\\pranav files\\college work\\csc 480\\lab3\\.venv\\lib\\site-packages (from autogen-ext[azure,openai]) (0.12.0)\n",
      "Requirement already satisfied: isodate>=0.6.1 in c:\\pranav files\\college work\\csc 480\\lab3\\.venv\\lib\\site-packages (from azure-ai-inference>=1.0.0b9->autogen-ext[azure,openai]) (0.7.2)\n",
      "Requirement already satisfied: azure-storage-blob>=12.15.0 in c:\\pranav files\\college work\\csc 480\\lab3\\.venv\\lib\\site-packages (from azure-ai-projects>=1.0.0b11->autogen-ext[azure,openai]) (12.26.0)\n",
      "Requirement already satisfied: azure-ai-agents>=1.2.0b3 in c:\\pranav files\\college work\\csc 480\\lab3\\.venv\\lib\\site-packages (from azure-ai-projects>=1.0.0b11->autogen-ext[azure,openai]) (1.2.0b5)\n",
      "Requirement already satisfied: requests>=2.21.0 in c:\\pranav files\\college work\\csc 480\\lab3\\.venv\\lib\\site-packages (from azure-core->autogen-ext[azure,openai]) (2.32.5)\n",
      "Requirement already satisfied: six>=1.11.0 in c:\\pranav files\\college work\\csc 480\\lab3\\.venv\\lib\\site-packages (from azure-core->autogen-ext[azure,openai]) (1.17.0)\n",
      "Requirement already satisfied: azure-common>=1.1 in c:\\pranav files\\college work\\csc 480\\lab3\\.venv\\lib\\site-packages (from azure-search-documents>=11.4.0->autogen-ext[azure,openai]) (1.1.28)\n",
      "Requirement already satisfied: cryptography>=2.1.4 in c:\\pranav files\\college work\\csc 480\\lab3\\.venv\\lib\\site-packages (from azure-storage-blob>=12.15.0->azure-ai-projects>=1.0.0b11->autogen-ext[azure,openai]) (46.0.2)\n",
      "Requirement already satisfied: cffi>=2.0.0 in c:\\pranav files\\college work\\csc 480\\lab3\\.venv\\lib\\site-packages (from cryptography>=2.1.4->azure-storage-blob>=12.15.0->azure-ai-projects>=1.0.0b11->autogen-ext[azure,openai]) (2.0.0)\n",
      "Requirement already satisfied: pycparser in c:\\pranav files\\college work\\csc 480\\lab3\\.venv\\lib\\site-packages (from cffi>=2.0.0->cryptography>=2.1.4->azure-storage-blob>=12.15.0->azure-ai-projects>=1.0.0b11->autogen-ext[azure,openai]) (2.23)\n",
      "Requirement already satisfied: anyio<5,>=3.5.0 in c:\\pranav files\\college work\\csc 480\\lab3\\.venv\\lib\\site-packages (from openai>=1.93->autogen-ext[azure,openai]) (4.11.0)\n",
      "Requirement already satisfied: distro<2,>=1.7.0 in c:\\pranav files\\college work\\csc 480\\lab3\\.venv\\lib\\site-packages (from openai>=1.93->autogen-ext[azure,openai]) (1.9.0)\n",
      "Requirement already satisfied: httpx<1,>=0.23.0 in c:\\pranav files\\college work\\csc 480\\lab3\\.venv\\lib\\site-packages (from openai>=1.93->autogen-ext[azure,openai]) (0.28.1)\n",
      "Requirement already satisfied: jiter<1,>=0.4.0 in c:\\pranav files\\college work\\csc 480\\lab3\\.venv\\lib\\site-packages (from openai>=1.93->autogen-ext[azure,openai]) (0.11.0)\n",
      "Requirement already satisfied: sniffio in c:\\pranav files\\college work\\csc 480\\lab3\\.venv\\lib\\site-packages (from openai>=1.93->autogen-ext[azure,openai]) (1.3.1)\n",
      "Requirement already satisfied: tqdm>4 in c:\\pranav files\\college work\\csc 480\\lab3\\.venv\\lib\\site-packages (from openai>=1.93->autogen-ext[azure,openai]) (4.67.1)\n",
      "Requirement already satisfied: idna>=2.8 in c:\\pranav files\\college work\\csc 480\\lab3\\.venv\\lib\\site-packages (from anyio<5,>=3.5.0->openai>=1.93->autogen-ext[azure,openai]) (3.10)\n",
      "Requirement already satisfied: certifi in c:\\pranav files\\college work\\csc 480\\lab3\\.venv\\lib\\site-packages (from httpx<1,>=0.23.0->openai>=1.93->autogen-ext[azure,openai]) (2025.10.5)\n",
      "Requirement already satisfied: httpcore==1.* in c:\\pranav files\\college work\\csc 480\\lab3\\.venv\\lib\\site-packages (from httpx<1,>=0.23.0->openai>=1.93->autogen-ext[azure,openai]) (1.0.9)\n",
      "Requirement already satisfied: h11>=0.16 in c:\\pranav files\\college work\\csc 480\\lab3\\.venv\\lib\\site-packages (from httpcore==1.*->httpx<1,>=0.23.0->openai>=1.93->autogen-ext[azure,openai]) (0.16.0)\n",
      "Requirement already satisfied: importlib-metadata<8.8.0,>=6.0 in c:\\pranav files\\college work\\csc 480\\lab3\\.venv\\lib\\site-packages (from opentelemetry-api>=1.34.1->autogen-core) (8.7.0)\n",
      "Requirement already satisfied: zipp>=3.20 in c:\\pranav files\\college work\\csc 480\\lab3\\.venv\\lib\\site-packages (from importlib-metadata<8.8.0,>=6.0->opentelemetry-api>=1.34.1->autogen-core) (3.23.0)\n",
      "Requirement already satisfied: charset_normalizer<4,>=2 in c:\\pranav files\\college work\\csc 480\\lab3\\.venv\\lib\\site-packages (from requests>=2.21.0->azure-core->autogen-ext[azure,openai]) (3.4.3)\n",
      "Requirement already satisfied: urllib3<3,>=1.21.1 in c:\\pranav files\\college work\\csc 480\\lab3\\.venv\\lib\\site-packages (from requests>=2.21.0->azure-core->autogen-ext[azure,openai]) (2.5.0)\n",
      "Requirement already satisfied: regex>=2022.1.18 in c:\\pranav files\\college work\\csc 480\\lab3\\.venv\\lib\\site-packages (from tiktoken>=0.8.0->autogen-ext[azure,openai]) (2025.9.18)\n",
      "Requirement already satisfied: colorama in c:\\pranav files\\college work\\csc 480\\lab3\\.venv\\lib\\site-packages (from tqdm>4->openai>=1.93->autogen-ext[azure,openai]) (0.4.6)\n",
      "Requirement already satisfied: msal>=1.30.0 in c:\\pranav files\\college work\\csc 480\\lab3\\.venv\\lib\\site-packages (from azure-identity->autogen-ext[azure,openai]) (1.34.0)\n",
      "Requirement already satisfied: msal-extensions>=1.2.0 in c:\\pranav files\\college work\\csc 480\\lab3\\.venv\\lib\\site-packages (from azure-identity->autogen-ext[azure,openai]) (1.3.1)\n",
      "Requirement already satisfied: PyJWT<3,>=1.0.0 in c:\\pranav files\\college work\\csc 480\\lab3\\.venv\\lib\\site-packages (from PyJWT[crypto]<3,>=1.0.0->msal>=1.30.0->azure-identity->autogen-ext[azure,openai]) (2.10.1)\n",
      "Note: you may need to restart the kernel to use updated packages.\n"
     ]
    }
   ],
   "source": [
    "%pip install \"autogen-core\" \"autogen-agentchat\" \"autogen-ext[openai,azure]\" \"python-dotenv\""
   ]
  },
  {
   "cell_type": "code",
   "execution_count": 2,
   "id": "0678a3ac",
   "metadata": {},
   "outputs": [],
   "source": [
    "import os\n",
    "import asyncio\n",
    "from dataclasses import asdict\n",
    "\n",
    "from autogen_agentchat.agents import AssistantAgent\n",
    "from autogen_agentchat.conditions import TextMentionTermination\n",
    "from autogen_agentchat.teams import RoundRobinGroupChat\n",
    "from autogen_agentchat.base import TaskResult\n",
    "from autogen_ext.models.openai import AzureOpenAIChatCompletionClient\n",
    "\n",
    "from utils import SpellingBeeProblem, SearchResult, generalized_search"
   ]
  },
  {
   "cell_type": "code",
   "execution_count": 3,
   "id": "7399f3d1",
   "metadata": {},
   "outputs": [],
   "source": [
    "from pathlib import Path\n",
    "from dotenv import load_dotenv"
   ]
  },
  {
   "cell_type": "code",
   "execution_count": 4,
   "id": "c257eeb8",
   "metadata": {},
   "outputs": [],
   "source": [
    "cwd = Path.cwd()\n",
    "env_path = cwd.parent / \".env\"\n",
    "loaded = load_dotenv(env_path)"
   ]
  },
  {
   "cell_type": "code",
   "execution_count": 5,
   "id": "61e72813",
   "metadata": {},
   "outputs": [],
   "source": [
    "# Just like in the other labs\n",
    "azure_deployment = os.getenv(\"AZURE_DEPLOYMENT_NAME\")\n",
    "api_version = \"2024-12-01-preview\" \n",
    "azure_endpoint = os.getenv(\"AZURE_ENDPOINT\")\n",
    "# Expect AZURE_SUBSCRIPTION_KEY to be set in environment variables"
   ]
  },
  {
   "cell_type": "markdown",
   "id": "2575983f",
   "metadata": {},
   "source": [
    "## Agentic Heuristic Architecture Blueprint\n",
    "\n",
    "Based on the overview, sketch out how your heuristic agents and the generalized search tool interact:\n",
    "- **Feasibility Agent**: Evaluates constraint satisfaction and dictionary viability.\n",
    "- **Completeness Agent**: Estimates remaining effort to reach a valid Spelling Bee solution.\n",
    "- **Score Aggregator Agent**: Combines the scores and analysis of other agents into a final score.\n",
    "- *(Optional)* Additional agents for scoring letter diversity, pangram potential, etc.\n",
    "\n",
    "NOTE: The below system is just a example. Feel free to make it your own as you designed in part 1."
   ]
  },
  {
   "cell_type": "code",
   "execution_count": 6,
   "id": "2b5946f6",
   "metadata": {},
   "outputs": [],
   "source": [
    "def setup_agentic_heuristic_system():\n",
    "    \"\"\"Instantiate heuristic agents for Spelling Bee state evaluation.\"\"\"\n",
    "    client = AzureOpenAIChatCompletionClient(\n",
    "        azure_deployment=azure_deployment,\n",
    "        model=\"gpt-5-mini\",\n",
    "        api_version=api_version,\n",
    "        azure_endpoint=azure_endpoint,\n",
    "        api_key=os.getenv(\"AZURE_SUBSCRIPTION_KEY\"),\n",
    "    )\n",
    "\n",
    "    feasibility = AssistantAgent(\n",
    "        name=\"FeasibilityAnalyst\",\n",
    "        model_client=client,\n",
    "        system_message=\"\"\"You analyze whether a partial word can become a valid Spelling Bee answer.\n",
    "        This word must contain the required letter and only have allowed letters.\n",
    "        Cost: low (bad), high (excellent). Include rationale and numeric score (0-10) line 'SCORE: <float>'.\"\"\",\n",
    "    )\n",
    "\n",
    "    completeness = AssistantAgent(\n",
    "        name=\"CompletenessEstimator\",\n",
    "        model_client=client,\n",
    "        system_message=\"\"\"You estimate remaining effort to reach a full valid word. \n",
    "        Consider minimum word length (4 letters)\n",
    "        Assess likelihood of common word patterns\n",
    "        Cost: low (far) to high (close). Include rationale and numeric score (0-10 ; higher = closer to completion) line 'SCORE: <float>'.\"\"\",\n",
    "    )\n",
    "\n",
    "    aggregator = AssistantAgent(\n",
    "        name=\"HeuristicAggregator\",\n",
    "        model_client=client,\n",
    "        system_message=\"\"\"\n",
    "        You coordinate heuristic scoring for Spelling Bee nodes.\n",
    "        You will:\n",
    "        1. Consider analyses from collaborators.\n",
    "        2. Combine their numeric scores and rationales.\n",
    "        3. Ensure admissibility (never overestimate distance to goal)\n",
    "        4. Return a single numeric heuristic estimate h(n).\n",
    "        Always end responses with FINAL_SCORE: <float>.\"\"\",\n",
    "    )\n",
    "\n",
    "    return feasibility, completeness, aggregator"
   ]
  },
  {
   "cell_type": "code",
   "execution_count": 7,
   "id": "8d32132e",
   "metadata": {},
   "outputs": [],
   "source": [
    "def cost_fn(parent_state, action, next_state) -> float:\n",
    "    \"\"\"\n",
    "    Return the incremental cost g(n) for moving to next_state.\n",
    "    Customize this to reflect letter usage, word length, or other criteria.\n",
    "\n",
    "    Args:\n",
    "        parent_state: The current sub-word.\n",
    "        action: The next letter added.\n",
    "        next_state: The sub-word after adding the action letter.\n",
    "    Returns:\n",
    "        A numeric cost value (float).\n",
    "    \"\"\"\n",
    "    # Slightly penalize longer words to find solutions faster.\n",
    "    if(len(parent_state) + len(next_state) > 7):\n",
    "        return len(next_state) * 1.2\n",
    "    else:\n",
    "        return len(next_state)"
   ]
  },
  {
   "cell_type": "code",
   "execution_count": 8,
   "id": "562f3961",
   "metadata": {},
   "outputs": [],
   "source": [
    "async def run_agentic_search(\n",
    "    spelling_bee: SpellingBeeProblem, strategy: str = \"a_star\"\n",
    "):\n",
    "    \"\"\"Execute the generalized search with your cost and heuristic functions.\"\"\"\n",
    "    feasibility, completeness, aggregator = setup_agentic_heuristic_system()\n",
    "\n",
    "    async def heuristic_fn(state, min_state_len=3) -> float:\n",
    "        \"\"\"\n",
    "        Delegate to the agentic heuristic system to compute h(n) for `state`. In our problem space,\n",
    "        state is a partial word. You will need to implement the logic to send messages to your agents,\n",
    "        gather their responses, and compute a final numeric heuristic value.\n",
    "\n",
    "        Args:\n",
    "            state: The current state (partial word) to evaluate.\n",
    "        Returns:\n",
    "            A numeric heuristic estimate (float).\n",
    "        \"\"\"\n",
    "        if len(state) < min_state_len:\n",
    "            # No heuristic value for very short states\n",
    "            # There isn't enough information to evaluate\n",
    "            return 0.0\n",
    "\n",
    "        # See https://microsoft.github.io/autogen/stable//reference/python/autogen_agentchat.teams.html\n",
    "        team = RoundRobinGroupChat(\n",
    "            [feasibility, completeness, aggregator],\n",
    "            termination_condition=TextMentionTermination(\"FINAL_SCORE:\"),\n",
    "        )\n",
    "\n",
    "        # Get the result from the team\n",
    "        messages_generator = team.run_stream(\n",
    "            task=f\"Evaluate heuristic for state: {state}\", output_task_messages=False\n",
    "        )\n",
    "        async for message in messages_generator:\n",
    "            if isinstance(message, TaskResult):\n",
    "                response = message.messages[-1].content\n",
    "                break\n",
    "\n",
    "        # Parse the numeric score from the orchestrator's response\n",
    "        try:\n",
    "            print([line for line in response.splitlines()])\n",
    "            score_line = next(\n",
    "                line for line in response.splitlines() if \"FINAL_SCORE:\" in line\n",
    "            )\n",
    "            start_idx = score_line.index(\"FINAL_SCORE:\") + len(\"FINAL_SCORE:\")\n",
    "            end_idx = score_line.index(\".\", start_idx) + 1\n",
    "            final_score = float(score_line[start_idx:end_idx].strip())\n",
    "            return final_score\n",
    "        except (StopIteration, ValueError, IndexError):\n",
    "            print(\"Failed to parse score from orchestrator response. Defaulting to 0.0\")\n",
    "            return 0.0\n",
    "\n",
    "    print(f\"Running {strategy} search on: {spelling_bee}\")\n",
    "\n",
    "    result: SearchResult = await generalized_search(\n",
    "        problem=spelling_bee,\n",
    "        cost_fn=cost_fn,\n",
    "        heuristic_fn=heuristic_fn,\n",
    "        strategy=strategy,\n",
    "        max_expansions=43,  # May want to set this for debugging\n",
    "        verbose=True,\n",
    "    )\n",
    "\n",
    "    result_summary = asdict(result)\n",
    "    print(\"SearchResult summary:\")\n",
    "    for key, value in result_summary.items():\n",
    "        print(f\"  {key}: {value}\")\n",
    "\n",
    "    return result"
   ]
  },
  {
   "cell_type": "markdown",
   "id": "11e27464",
   "metadata": {},
   "source": [
    "## Example Puzzle 1: Starter Configuration\n",
    "\n",
    "Test the integrated system on a small Spelling Bee instance provided with the lab."
   ]
  },
  {
   "cell_type": "code",
   "execution_count": null,
   "id": "7224610e",
   "metadata": {},
   "outputs": [],
   "source": [
    "# Provided helper will create a Spelling Bee problem instance, e.g. letters=\"ADELOPR\", center=\"O\"\n",
    "starter_problem = SpellingBeeProblem.from_letters(\n",
    "    letters=[\"A\", \"D\", \"E\", \"L\", \"O\", \"P\", \"R\"],\n",
    "    required_letter=\"O\",\n",
    ")\n",
    "\n",
    "# Uncomment to run once cost_fn and heuristic_fn are implemented\n",
    "await run_agentic_search(starter_problem, strategy=\"a_star\")"
   ]
  },
  {
   "cell_type": "markdown",
   "id": "5c09db3e",
   "metadata": {},
   "source": [
    "## Example Puzzle 2: Alternate Strategy Comparison\n",
    "\n",
    "Run the same instance under Uniform Cost Search to compare behavior vs. A*."
   ]
  },
  {
   "cell_type": "code",
   "execution_count": null,
   "id": "b62112e4",
   "metadata": {},
   "outputs": [
    {
     "name": "stdout",
     "output_type": "stream",
     "text": [
      "Running uniform_cost search on: SpellingBeeProblem(letters='AIZGBNL', required='L', words=10)\n",
      "SearchResult summary:\n",
      "  success: True\n",
      "  goal_state: ALAN\n",
      "  actions: ['A', 'L', 'A', 'N']\n",
      "  cost: 10.0\n",
      "  expansions: 18\n",
      "  explored: 18\n",
      "  frontier_size: 8\n"
     ]
    },
    {
     "data": {
      "text/plain": [
       "SearchResult(success=True, goal_state='ALAN', actions=['A', 'L', 'A', 'N'], cost=10.0, expansions=18, explored=18, frontier_size=8)"
      ]
     },
     "execution_count": 12,
     "metadata": {},
     "output_type": "execute_result"
    }
   ],
   "source": [
    "# # Uncomment to compare strategies once heuristic_fn is operational\n",
    "await run_agentic_search(starter_problem, strategy=\"uniform_cost\")"
   ]
  },
  {
   "cell_type": "markdown",
   "id": "b502b40b",
   "metadata": {},
   "source": [
    "## Your Experiment\n",
    "\n",
    "Define your own Spelling Bee instance or heuristic variant and record results. This could be [today's puzzle](https://www.nytimes.com/puzzles/spelling-bee)."
   ]
  },
  {
   "cell_type": "code",
   "execution_count": 11,
   "id": "dcc3672b",
   "metadata": {},
   "outputs": [
    {
     "name": "stdout",
     "output_type": "stream",
     "text": [
      "Running a_star search on: SpellingBeeProblem(letters='AIZGBNL', required='L', words=10)\n",
      "['Combined assessment:', '', '- Both analysts agree the stem \"ALA\" is promising but short of the common 4-letter minimum and its viability depends on allowed/required-letter constraints.', '- CompletenessEstimator notes many common 4+ continuations (e.g., \"alas\", \"alae\"), so often only one additional letter is needed.', '- FeasibilityAnalyst highlights dependence on the required/center letter and allowed-letter set; if constraints exclude needed letters the branch may be infeasible.', '', 'Admissibility consideration (never overestimate remaining distance): to stay conservative I take the lower of the two collaborator numeric estimates so we do not overstate the remaining cost.', '', 'FINAL_SCORE: 6.0']\n",
      "['Combined assessment:', '', '- Both analysts rate \"ALI\" as a promising 3-letter stem with strong morphological potential and many common 4+ continuations (alien, align, alike, alive, alias, alibi, etc.).', '- Primary constraints: length is one short of the common 4-letter minimum (so typically one addition needed). Viability depends on the puzzle’s required/center letter — if A, L, or I is required the stem already satisfies that; otherwise the required letter must be insertable with allowed letters.', '- Operational guidance: try appending common letters (N, E, S, V, B, G, K, T) first. If the required center letter is absent and cannot be added, prune this branch.', '- Admissibility: to avoid overestimating remaining cost, I take the most conservative (minimum) of the collaborator estimates.', '', 'FINAL_SCORE: 7.0']\n",
      "['Combined assessment:', '', '- Both analysts rate \"ALB\" as moderately promising but less rich than stems like \"ALI.\" It is a 3-letter stem so typically one letter short of the common 4+-letter minimum and must be extended.', '- Morphological potential: Reasonable continuations include album, albino, albedo, albeit, alba, albs; these frequently require one or two added letters and sometimes less-common suffixes, so success is plausible but not as high-probability as for \"ALI.\"', '- Constraints: Viability depends on the puzzle’s required/center letter and on whether necessary vowels (U, I, E, O) or consonants (M, N, S, T, D) are allowed. If B or needed vowels are forbidden, the branch should be pruned.', '- Admissibility: To avoid overestimating progress, I use the conservative aggregate of the collaborators’ estimates (both 5.5).', '', 'FINAL_SCORE: 5.5']\n",
      "['Combined assessment:', '', '- Both analysts rate \"ALL\" as a very strong 3-letter stem with high morphological potential and many common 4+ continuations (ALLY, ALLEY, ALLOW, ALLOY, ALLEGE, ALLUDE, ALLURE, ALLIED, etc.), so typically only one addition is needed to reach a valid answer.', '- Main caveats: viability depends on the puzzle’s required/center letter and availability of common next letters (Y, O, E, I, U, G, C, T, N, D, R). If the required letter is absent and cannot be added, prune; otherwise this branch is high-priority.', '- Admissibility: to avoid overestimating remaining distance I adopt the conservative (agreement) estimate from the analysts.', '', 'FINAL_SCORE: 8.0']\n",
      "['Combined assessment:', '', '- Both analysts agree \"BAL\" is a promising 3-letter stem with strong morphological potential and many common 4+ continuations (ball, balm, bald, bale, balk, ballot, ballet, balance, balcony, baloney, etc.). Typically one added letter yields a valid answer.', '- Main caveats: viability depends on the puzzle’s required/center letter and availability of common next letters (L, M, D, E, O, K, T, N, C, Y). If the required letter is absent and cannot be added, prune; otherwise prioritize extensions like BALL, BALM, BALD, BALE for quick wins.', '- Admissibility: both collaborators gave identical conservative estimates, so I adopt that value to avoid overestimating remaining cost.', '', 'FINAL_SCORE: 7.0']\n",
      "['Combined assessment:', '', '- \"BIL\" is a promising 3-letter stem with multiple common 4+ continuations (bill, bile, bilk, billy, bilge, billet, billion, etc.), so usually only one added letter is needed to reach a typical Spelling Bee-valid word.', '- Primary constraints: viability depends on the puzzle’s required/center letter (if B/I/L is required the stem already satisfies it; otherwise that letter must be insertable) and on availability of common next letters (L, E, K, Y, G, T, O, N, S). If key letters are forbidden, prune.', '- Practical next steps: test quick extensions L and E first (BILL, BILE), then K or Y (BILK, BILLY), then G/T/O/N for longer targets. If the required/center letter is missing and cannot be added, deprioritize.', '- Admissibility: to avoid overestimating closeness to a goal I use the more conservative collaborator estimate.', '', 'FINAL_SCORE: 6.5']\n",
      "['Combined assessment:', '', '- Both analysts find \"NAI\" promising and usually one addition from common 4+ words (nail, naive/naif, naiad, naira). Viability depends on whether the puzzle’s required/center letter is present (N/A/I) or can be inserted and on availability of common extension letters (L, V/E, D, F, R).', '- Actionable next steps: try appending L first (NAIL), then E or V (NAIVE/NAIF), then D or R if those letters are available. If required/center letter is missing and cannot be added, prune.', '- Admissibility: to avoid overestimating closeness to a goal I use the more conservative collaborator estimate.', '', 'FINAL_SCORE: 6.5']\n",
      "['Combined assessment:', '', '- Both analysts rate \"LAN\" as a promising 3-letter stem (both scored 7.0). It is typically one addition away from common 4+ words (LAND, LANE) and also seeds many longer high-frequency words (lander, landing, lantern, language, landscape, landlord).', '- Key constraints: viability depends on the puzzle’s required/center letter (if L/A/N is required the stem already satisfies it; otherwise the required letter must be insertable) and on availability of common extension letters (D, E, G, T, Y, S, R). If required or needed extension letters are forbidden, prune.', '- Practical next steps: try appending D or E first (LAND, LANE) for quickest payoff; if those aren’t possible, consider G/R/S/T/Y for longer targets.', '- Admissibility: to avoid overestimating progress I adopt the conservative collaborator estimate.', '', 'FINAL_SCORE: 7.0']\n",
      "['Combined assessment:', '', '- Both analysts rate \"ALBA\" as mildly promising with uncertainty; both gave 6.0. I adopt that conservative (consistent) value to ensure admissibility.', '- Key points:', '  - Length: 4 letters so it meets the common Spelling Bee minimum and could already be a valid entry if the puzzle’s word list accepts \"alba\".', '  - Dictionary likelihood: \"alba\" is a real but relatively rare/archaic noun and often a proper noun; many puzzles exclude such forms, so acceptance is uncertain.', '  - Extensions: Straightforward, common extensions exist (ALBUM by adding M, ALBAS plural by adding S) and longer targets (ALBINO, ALBEDO, ALBACORE) are reachable if allowed letters are present.', '  - Constraints: Viability depends on whether the puzzle accepts \"alba\" and on availability of necessary letters for extensions; required/center-letter constraints must also be satisfied.', '- Practical guidance:', '  - Check if \"alba\" is in the allowed wordlist; if yes (and required-letter constraints hold), accept.', '  - If not, try quick extensions M (ALBUM) or S (ALBAS) first; otherwise consider ALBINO/ALBEDO/ALBACORE if relevant letters are permitted.', '  - If the required letter is missing and cannot be added, prune.', '', 'Admissibility note: Both collaborators agreed on the numeric estimate; taking that value avoids overestimating closeness to a valid/accepted goal.', '', 'FINAL_SCORE: 6.0']\n",
      "['Combined assessment:', '', '- Both analysts judge \"ALAN\" as marginal: it meets the 4-letter minimum but is most often a proper name (Alan) and thus unlikely to be accepted in many wordlists. FeasibilityAnalyst emphasizes low everyday vocabulary likelihood and limited productive extensions; CompletenessEstimator notes that while length is sufficient, useful continuations are domain-specific (ALANE, ALANINE, ALANYL) or capitalized plural (Alans).', '- Key constraints:', '  - Wordlist acceptance: primary determinant — if \"alan\" is allowed by the puzzle dictionary, the state is already a valid entry; if not, the branch is weak.', '  - Required/center-letter: if the puzzle requires a specific center letter not present in ALAN, that letter must be addable from allowed letters to make the branch feasible.', '  - Extension letters: plausible extensions need E (ALANE) or I/N/E/Y (ALANINE/ALANYL); these are specialized and may be disallowed or undesirable depending on puzzle rules.', '- Actionable guidance:', '  - First check whether \"alan\" is in the accepted wordlist; if yes and required-letter constraints are satisfied, accept.', '  - If not, only pursue extensions if the allowed letters include E (for ALANE) or the letters for ALANINE/ALANYL and you accept technical/scientific terms.', '  - Otherwise prune this branch — it’s low priority compared with stems that yield common everyday words.', '- Admissibility: to avoid overestimating closeness to a valid goal, I take the more conservative collaborator estimate.', '', 'FINAL_SCORE: 4.0']\n",
      "['Combined assessment:', '', '- Both analysts rate \"BILL\" as a very strong candidate (9.0 each). Conservatively combining their views yields the same high score — the estimate is admissible and does not overstate closeness to goal.', '- Key reasons:', '  - Length: 4 letters meets common Spelling Bee minimum, so it can score immediately if accepted and if the puzzle’s required/center letter is present.', '  - Dictionary likelihood: \"bill\" is a very common word (noun/verb) and will be accepted by virtually all standard wordlists.', '  - Extension potential: Many short, common extensions exist (BILLY, BILLOW, BILLING, BILLION, etc.), so if an extra required letter must be added there are easy 1–2 letter moves.', '  - Primary risk: If the puzzle’s required/center letter is not among B/I/L and that letter cannot be added from allowed letters, the branch is infeasible.', '', 'Actionable guidance:', '- If required/center letter ∈ {B,I,L}: accept \"BILL\" immediately (0 effort).', '- Otherwise, attempt 1–2 letter extensions using common letters (Y, O, W, G, I/N) to form BILLY, BILLOW, BILLING, BILLION, etc., if those letters are allowed.', '- If the required letter is unavailable among allowed letters, prune.', '', 'FINAL_SCORE: 9.0']\n",
      "['Combined assessment:', '', '- Both analysts rate \"NAIL\" as a very strong candidate (9.0). Conservatively combining their views yields the same high score.', '- Key reasons:', '  - Length: 4 letters meets the usual Spelling Bee minimum, so it can score immediately if it satisfies the puzzle’s required/center-letter constraint.', '  - Dictionary likelihood: \"nail\" is a common English word (noun/verb) and will be accepted in virtually all standard wordlists.', '  - Extension potential: Many easy one-letter extensions (NAILS, NAILED, NAILER, NAILING) or related forms (SNAIL if leading S allowed) provide fallback options if an extra required letter must be included.', '  - Primary risk: only if the puzzle’s required/center letter is not among N/A/I/L and that letter cannot be added from allowed letters, making the branch infeasible.', '', 'Actionable guidance:', '- If required/center letter ∈ {N,A,I,L}: accept \"NAIL\" immediately (0 effort).', '- Otherwise, attempt a 1-letter extension (S, D, E, R, G, etc.) to satisfy required-letter constraints or form a valid longer word.', '- If the required letter is unavailable among allowed letters, prune.', '', 'Admissibility note: both collaborators agreed on the numeric estimate; taking that value avoids overestimating remaining cost.', '', 'FINAL_SCORE: 9.0']\n",
      "['Combined assessment:', '', '- Both analysts rate \"ALIG\" as a strong, high-quality stem (8.0 each). Conservatively combining their views yields the same score and preserves admissibility.', '- Key points:', '  - Length: 4 letters meets the usual Spelling Bee minimum, though \"alig\" itself is not a common standalone entry.', '  - Highest-payoff continuations: ALIGN (add N) is the single-letter, highest-probability move; ALIGHT (add H+T) is a two-letter common alternative and ALIGN can be extended to ALIGNMENT, ALIGNING, etc.', '  - Constraints: viability depends on the puzzle’s required/center letter — if it’s one of A/L/I/G the stem already satisfies that constraint; otherwise that required letter must be addable from allowed letters. Also requires availability of common extension letters (N, or H and T) for quick success.', '  - Risk: only real failure modes are (a) the required center letter is not present and cannot be added, or (b) needed extension letters (N or H/T) are forbidden.', '- Actionable guidance:', '  - First try appending N → ALIGN (1-letter, highest payoff).', '  - If N is unavailable, try H+T → ALIGHT (2 letters).', '  - If the required/center letter is missing, verify it can be added; if not, prune.', '- Admissibility note: to avoid overestimating closeness to a goal I adopt the conservative aggregated estimate from the analysts.', '', 'FINAL_SCORE: 8.0']\n",
      "['Combined assessment:', '', '- Both analysts rate \"BALI\" as mildly promising but uncertain (both 5.5). I adopt that conservative, agreed value to remain admissible.', '- Key points:', '  - Length: 4 letters meets the common Spelling Bee minimum, so it could score immediately if accepted by the puzzle’s dictionary.', '  - Dictionary likelihood: \"Bali\" is primarily a proper noun (island/name) and is commonly excluded from general puzzle wordlists; lowercase common-word uses are rare, so standalone acceptance is uncertain.', '  - Extensions: The most practical short extension is BALING (add N+G). Other continuations (balise, balis) are rarer. If N and G are available and technical/inflected forms are allowed, a valid common word is reachable in 1–2 letters.', '  - Constraints: If the puzzle’s required/center letter is not among B/A/L/I and cannot be added, the branch is infeasible. If key extension letters (N, G) are unavailable, the branch weakens.', '- Actionable guidance:', '  - First check whether \"bali\" is in the accepted wordlist; if yes and required-letter constraints are satisfied, accept.', '  - If not, try short extensions only if N and G (for BALING) or S/E (for possible alternates) are allowed.', '  - Otherwise deprioritize/prune this branch in favor of stems that yield common everyday words.', '', 'FINAL_SCORE: 5.5']\n",
      "['Combined assessment:', '', '- Both analysts rate \"BALL\" as a very strong candidate (9.0 each); I adopt that conservative/agreed value to preserve admissibility.', '- Key reasons: 4 letters meets the usual minimum; \"ball\" is a very common word accepted by virtually all wordlists; repeated L is allowed; many immediate, high-frequency extensions exist (BALLS, BALLAD, BALLET, BALLOT, BALLOON, BALLING, etc.) so required-letter constraints can usually be satisfied by a 0–1 letter move.', '- Main caveat: if the puzzle’s required/center letter is not among {B,A,L} and that letter cannot be added from allowed letters, the branch is infeasible.', '- Practical guidance: accept immediately if required letter ∈ {B,A,L}; otherwise try one-letter extensions (S, O, T, E, D, N, etc.) to form BALLS, BALLOON, BALLOT, BALLET, BALLAD. If the needed letter isn’t available, prune.', '', 'FINAL_SCORE: 9.0']\n",
      "['Combined assessment:', '', '- Both analysts rate \"LANG\" as promising (7.0 each). I adopt that conservative, agreed value to remain admissible.', '- Length: 4 letters meets the common Spelling Bee minimum, so it could already score if your wordlist accepts \"lang\" (though that is often dialectal/obscure or a proper name).', '- Highest-payoff continuation: add U → the \"langu-\" root, which yields many common words (language, languid, languish, languor) with a single or a few letters; other suffixes (E, S, H, D, R, I, O) also produce valid continuations if allowed.', '- Main caveats: acceptance hinges on whether \"lang\" itself is in the allowed dictionary and on availability of U (or other required extension letters); if the puzzle requires a different center letter not present and that letter cannot be added, the branch is infeasible.', '- Practical guidance: if U is available, append it first to pursue LANGUAGE/LANGUID/LANGUISH; if \"lang\" is accepted as-is and the required letter condition is satisfied, accept immediately; otherwise deprioritize only if neither U nor the required letter is addable.', '', 'FINAL_SCORE: 7.0']\n",
      "['Combined assessment:', '', '- Both analysts rate \"ALLA\" as mildly-to-moderately promising and agree on a score of 7.0; I adopt that conservative, agreed value to preserve admissibility.', '- Key points:', '  - Length: 4 letters meets the usual Spelling Bee minimum, so it could already score if the puzzle’s dictionary accepts \"alla\" (but many lists mark it as dialectal/foreign and often exclude it).', '  - Immediate best move: append Y → ALLAY (very common) is a single-letter, high-payoff continuation; this is the primary short-path to a common valid word.', '  - Other continuations: technical allanto- stems (allantoid, allantoin, etc.) are possible but require specific letters and are domain-specific.', '  - Constraints: viability depends on wordlist acceptance of \"alla\" or availability of key extension letters (Y for ALLAY, or N/T/O/I/D for technical forms). Also verify the puzzle’s required/center-letter constraint—if that required letter isn’t present and cannot be added, prune.', '- Actionable guidance:', '  - If \"alla\" is accepted by your wordlist and required-letter conditions hold, accept.', '  - Otherwise, try appending Y first to form ALLAY. If Y is unavailable but technical letters are present and allowed, consider allanto- continuations; if neither is possible, deprioritize this branch.', '', 'FINAL_SCORE: 7.0']\n",
      "SearchResult summary:\n",
      "  success: True\n",
      "  goal_state: ALAN\n",
      "  actions: ['A', 'L', 'A', 'N']\n",
      "  cost: 10.0\n",
      "  expansions: 18\n",
      "  explored: 18\n",
      "  frontier_size: 8\n"
     ]
    },
    {
     "data": {
      "text/plain": [
       "SearchResult(success=True, goal_state='ALAN', actions=['A', 'L', 'A', 'N'], cost=10.0, expansions=18, explored=18, frontier_size=8)"
      ]
     },
     "execution_count": 11,
     "metadata": {},
     "output_type": "execute_result"
    }
   ],
   "source": [
    "custom_problem = SpellingBeeProblem.from_letters(\n",
    "    letters=[\"A\", \"I\", \"Z\", \"G\", \"B\", \"N\", \"L\"],\n",
    "    required_letter=\"L\",\n",
    ")\n",
    "\n",
    "await run_agentic_search(custom_problem, strategy=\"a_star\")"
   ]
  },
  {
   "cell_type": "markdown",
   "id": "50c59100",
   "metadata": {},
   "source": [
    "## Reflection & Analysis\n",
    "\n",
    "### Heuristic effectiveness\n",
    "[Discuss where your agentic heuristic provided strong guidance.]\n",
    "\n",
    "### Failure modes / surprises\n",
    "[Document puzzles or states where the heuristic misled the search or produced high cost.]\n",
    "\n",
    "### Cost vs. heuristic alignment\n",
    "[Reflect on whether $g(n)$ and $h(n)$ share compatible units/scales.]\n",
    "\n",
    "### Communication insights\n",
    "[Explain how MCP/A2A design choices supported or hindered collaboration.]\n",
    "\n",
    "### Future improvements\n",
    "[Outline ideas for richer heuristics, additional agents, or tool integrations.]"
   ]
  },
  {
   "cell_type": "markdown",
   "id": "a1d173ae",
   "metadata": {},
   "source": [
    "## References\n",
    "\n",
    "- `L3_overview.md`\n",
    "- [AutoGen Documentation](https://microsoft.github.io/autogen/stable/index.html)\n",
    "- [Model Context Protocol](https://modelcontextprotocol.io/docs/getting-started/intro)\n",
    "- [Agent-to-Agent Protocol](https://a2a-protocol.org/latest/)\n",
    "- [NYT Spelling Bee](https://www.nytimes.com/puzzles/spelling-bee)"
   ]
  }
 ],
 "metadata": {
  "kernelspec": {
   "display_name": ".venv",
   "language": "python",
   "name": "python3"
  },
  "language_info": {
   "codemirror_mode": {
    "name": "ipython",
    "version": 3
   },
   "file_extension": ".py",
   "mimetype": "text/x-python",
   "name": "python",
   "nbconvert_exporter": "python",
   "pygments_lexer": "ipython3",
   "version": "3.11.0"
  }
 },
 "nbformat": 4,
 "nbformat_minor": 5
}

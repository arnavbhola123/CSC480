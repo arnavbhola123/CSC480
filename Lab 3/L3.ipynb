{
 "cells": [
  {
   "cell_type": "markdown",
   "id": "2d8b3187",
   "metadata": {},
   "source": [
    "# CSC 480-F25 Lab 3: Agentic Heuristic Search (NYT Spelling Bee)"
   ]
  },
  {
   "cell_type": "markdown",
   "id": "597fcded",
   "metadata": {},
   "source": [
    "# Authors:"
   ]
  },
  {
   "cell_type": "markdown",
   "id": "ecc34f35",
   "metadata": {},
   "source": [
    "***Arnav Bhola, Pranav Krishna***\n",
    "\n",
    "California Polytechnic State University, San Luis Obispo;\n",
    "\n",
    "Computer Science & Software Engineering Department"
   ]
  },
  {
   "cell_type": "markdown",
   "id": "5d17928c",
   "metadata": {},
   "source": [
    "# Overview\n",
    "\n",
    "This lab focuses on:\n",
    "- Integrating a provided generalized search engine as a tool inside an agentic workflow\n",
    "- Designing an agentic heuristic system that collaborates to estimate $h(n)$ for NYT Spelling Bee states\n",
    "- Implementing a custom cost function $g(n)$ and evaluating search strategies (Uniform Cost, A*)\n",
    "- Coordinating agent communication via MCP-style tool exposure and A2A interactions\n",
    "- Reflecting on how agentic heuristics complement classical search methods\n",
    "\n",
    "NOTE: The Spelling Bee problem definition and generalized search function are provided for you. Your primary work is to wire them into your agentic solution and iterate on the heuristic design (see part 2 of this notebook).\n",
    "\n",
    "## Learning Objectives\n",
    "\n",
    "By the end of this lab, you will be able to:\n",
    "\n",
    "- Integrate a provided generalized search function as a tool within an AutoGen-based agentic system\n",
    "- Design and implement an agent team that produces numeric heuristic estimates to guide search\n",
    "- Define and justify a cost function that complements your heuristic in the Spelling Bee domain\n",
    "- Specify MCP-style tool schemas and A2A message flows for heuristic collaboration\n",
    "- Analyze how different heuristic strategies impact search quality, cost, and convergence"
   ]
  },
  {
   "cell_type": "markdown",
   "id": "c55e9e0d",
   "metadata": {},
   "source": [
    "# Part 1: Agentic Heuristic Design and Planning"
   ]
  },
  {
   "cell_type": "markdown",
   "id": "168872dd",
   "metadata": {},
   "source": [
    "## 1. Problem Statement & Search Context\n",
    "\n",
    "**Provided Problem:** NYT Spelling Bee puzzle instance (letters, required center letter, dictionary utilities)\n",
    "\n",
    "**Goal:** Integrate the provided Spelling Bee problem specification with the generalized search engine and your agentic heuristic.\n",
    "\n",
    "**Task Breakdown:** Outline the high-level steps you will take to reach a working solution.\n",
    "1. Configure SpellingBeeProblem with letters and required center letter\n",
    "2. Expose generalized_search by implementing cost_fn and heuristic_fn wrappers\n",
    "3. Design 2-3 specialized agents that analyze different aspects of state quality\n",
    "4. Use RoundRobinGroupChat to coordinate agents and aggregate scores\n",
    "5. Test on sample puzzles and iterate based on expansion counts"
   ]
  },
  {
   "cell_type": "markdown",
   "id": "56161440",
   "metadata": {},
   "source": [
    "## 2. Agentic Heuristic Team Definition\n",
    "\n",
    "Define the agents who collaborate to estimate $h(n)$ for a given Spelling Bee state. Feel free to use more, or fewer.\n",
    "\n",
    "### Agent 1: FeasibilityAnalyst\n",
    "- **Role:** Constraint checker and dictionary validator\n",
    "- **Responsibilities:** \n",
    "  - Check if state contains only allowed letters\n",
    "  - Verify required letter is present\n",
    "  - Assess if current prefix exists in valid word prefixes\n",
    "- **Inputs:** Current state (partial word), allowed letters, required letter\n",
    "- **Outputs:** Score 0-10 reflecting constraint satisfaction, rationale\n",
    "- **Success Criteria:** Correctly identifies invalid prefixes that can't lead to solutions\n",
    "\n",
    "### Agent 2: CompletenessEstimator  \n",
    "- **Role:** Distance-to-goal estimator\n",
    "- **Responsibilities:**\n",
    "  - Estimate how many more letters needed to form valid word\n",
    "  - Consider minimum word length (4 letters)\n",
    "  - Assess likelihood of common word patterns\n",
    "- **Inputs:** Current state length, min word length, letter usage patterns\n",
    "- **Outputs:** Score 0-10 (higher = closer to completion), rationale\n",
    "- **Success Criteria:** Provides lower scores for short states, higher for near-complete words\n",
    "\n",
    "### Agent 3: HeuristicAggregator\n",
    "- **Role:** Score coordinator and combiner\n",
    "- **Responsibilities:**\n",
    "  - Collect scores from FeasibilityAnalyst and CompletenessEstimator\n",
    "  - Weight and combine scores into single h(n)\n",
    "  - Ensure admissibility (never overestimate distance to goal)\n",
    "- **Inputs:** Sub-agent scores and rationales\n",
    "- **Outputs:** Single numeric FINAL_SCORE\n",
    "- **Success Criteria:** Returns consistent, numeric heuristic values"
   ]
  },
  {
   "cell_type": "markdown",
   "id": "53934c12",
   "metadata": {},
   "source": [
    "## 3. Tool Integration & Coordination Pattern\n",
    "\n",
    "**Chosen Pattern:** Manager-Worker with Sequential Coordination\n",
    "\n",
    "**Justification:**\n",
    "- Manager (HeuristicAggregator) coordinates two specialist workers\n",
    "- Sequential because feasibility must be checked before estimating completeness\n",
    "- Simpler than full collaborative team, reduces message overhead\n",
    "- Clear responsibility boundaries minimize conflicts\n",
    "\n",
    "**Integration Plan:** Outline how you will connect the provided components.\n",
    "- generalized_search calls heuristic_fn(state) whenever it needs h(n)\n",
    "- heuristic_fn creates RoundRobinGroupChat with 3 agents\n",
    "- Agents discuss state in sequence, aggregator produces FINAL_SCORE\n",
    "- cost_fn returns len(next_state) (each letter added costs 1)\n",
    "- Search maintains frontier/explored set; we just provide callbacks"
   ]
  },
  {
   "cell_type": "markdown",
   "id": "cdec6d3d",
   "metadata": {},
   "source": [
    "## 4. Communication Design\n",
    "\n",
    "### Model Context Protocol (MCP)\n",
    "**Tool Schema:** generalized_search exposed as async function\n",
    "- Parameters: problem (SpellingBeeProblem), cost_fn (callable), heuristic_fn (async callable), strategy (str)\n",
    "- Returns: SearchResult with success, goal_state, actions, cost, expansions\n",
    "\n",
    "### Agent-to-Agent (A2A) Interactions\n",
    "\n",
    "Describe the kind of communications you expect from your system.\n",
    "\n",
    "#### Interaction 1: HeuristicAggregator → FeasibilityAnalyst\n",
    "- **Purpose:** Request constraint analysis for current state\n",
    "- **Key Fields:** state string, allowed letters, required letter\n",
    "- **Message Format:** \"Evaluate feasibility for state: {state}\"\n",
    "\n",
    "#### Interaction 2: HeuristicAggregator → CompletenessEstimator  \n",
    "- **Purpose:** Request distance-to-goal estimate\n",
    "- **Key Fields:** state string, state length, min required length\n",
    "- **Message Format:** \"Estimate completeness for state: {state}\"\n",
    "\n",
    "#### Interaction 3: Sub-agents → HeuristicAggregator\n",
    "- **Purpose:** Return partial scores with reasoning\n",
    "- **Key Fields:** Numeric score, rationale text with \"SCORE: X.X\"\n",
    "- **Message Format:** Text ending with \"SCORE: <float>\"\n",
    "\n",
    "*(Add more interactions as needed.)*"
   ]
  },
  {
   "cell_type": "markdown",
   "id": "eacb6914",
   "metadata": {},
   "source": [
    "# Part 2: Integrating the Generalized Search Tool"
   ]
  },
  {
   "cell_type": "markdown",
   "id": "2c1fd14e",
   "metadata": {},
   "source": [
    "## Environment Setup\n",
    "\n",
    "Install required packages and configure model access before running the agentic heuristic experiments."
   ]
  },
  {
   "cell_type": "code",
   "execution_count": 1,
   "id": "0c2d75f5",
   "metadata": {},
   "outputs": [
    {
     "name": "stdout",
     "output_type": "stream",
     "text": [
      "Requirement already satisfied: autogen-core in c:\\pranav files\\college work\\csc 480\\lab3\\.venv\\lib\\site-packages (0.7.5)\n",
      "Requirement already satisfied: autogen-agentchat in c:\\pranav files\\college work\\csc 480\\lab3\\.venv\\lib\\site-packages (0.7.5)\n",
      "Requirement already satisfied: python-dotenv in c:\\pranav files\\college work\\csc 480\\lab3\\.venv\\lib\\site-packages (1.1.1)\n",
      "Requirement already satisfied: autogen-ext[azure,openai] in c:\\pranav files\\college work\\csc 480\\lab3\\.venv\\lib\\site-packages (0.7.5)\n",
      "Requirement already satisfied: jsonref~=1.1.0 in c:\\pranav files\\college work\\csc 480\\lab3\\.venv\\lib\\site-packages (from autogen-core) (1.1.0)\n",
      "Requirement already satisfied: opentelemetry-api>=1.34.1 in c:\\pranav files\\college work\\csc 480\\lab3\\.venv\\lib\\site-packages (from autogen-core) (1.37.0)\n",
      "Requirement already satisfied: pillow>=11.0.0 in c:\\pranav files\\college work\\csc 480\\lab3\\.venv\\lib\\site-packages (from autogen-core) (11.3.0)\n",
      "Requirement already satisfied: protobuf~=5.29.3 in c:\\pranav files\\college work\\csc 480\\lab3\\.venv\\lib\\site-packages (from autogen-core) (5.29.5)\n",
      "Requirement already satisfied: pydantic<3.0.0,>=2.10.0 in c:\\pranav files\\college work\\csc 480\\lab3\\.venv\\lib\\site-packages (from autogen-core) (2.12.0)\n",
      "Requirement already satisfied: typing-extensions>=4.0.0 in c:\\pranav files\\college work\\csc 480\\lab3\\.venv\\lib\\site-packages (from autogen-core) (4.15.0)\n",
      "Requirement already satisfied: annotated-types>=0.6.0 in c:\\pranav files\\college work\\csc 480\\lab3\\.venv\\lib\\site-packages (from pydantic<3.0.0,>=2.10.0->autogen-core) (0.7.0)\n",
      "Requirement already satisfied: pydantic-core==2.41.1 in c:\\pranav files\\college work\\csc 480\\lab3\\.venv\\lib\\site-packages (from pydantic<3.0.0,>=2.10.0->autogen-core) (2.41.1)\n",
      "Requirement already satisfied: typing-inspection>=0.4.2 in c:\\pranav files\\college work\\csc 480\\lab3\\.venv\\lib\\site-packages (from pydantic<3.0.0,>=2.10.0->autogen-core) (0.4.2)\n",
      "Requirement already satisfied: azure-ai-inference>=1.0.0b9 in c:\\pranav files\\college work\\csc 480\\lab3\\.venv\\lib\\site-packages (from autogen-ext[azure,openai]) (1.0.0b9)\n",
      "Requirement already satisfied: azure-ai-projects>=1.0.0b11 in c:\\pranav files\\college work\\csc 480\\lab3\\.venv\\lib\\site-packages (from autogen-ext[azure,openai]) (1.1.0b4)\n",
      "Requirement already satisfied: azure-core in c:\\pranav files\\college work\\csc 480\\lab3\\.venv\\lib\\site-packages (from autogen-ext[azure,openai]) (1.35.1)\n",
      "Requirement already satisfied: azure-identity in c:\\pranav files\\college work\\csc 480\\lab3\\.venv\\lib\\site-packages (from autogen-ext[azure,openai]) (1.25.1)\n",
      "Requirement already satisfied: azure-search-documents>=11.4.0 in c:\\pranav files\\college work\\csc 480\\lab3\\.venv\\lib\\site-packages (from autogen-ext[azure,openai]) (11.5.3)\n",
      "Requirement already satisfied: aiofiles in c:\\pranav files\\college work\\csc 480\\lab3\\.venv\\lib\\site-packages (from autogen-ext[azure,openai]) (24.1.0)\n",
      "Requirement already satisfied: openai>=1.93 in c:\\pranav files\\college work\\csc 480\\lab3\\.venv\\lib\\site-packages (from autogen-ext[azure,openai]) (2.2.0)\n",
      "Requirement already satisfied: tiktoken>=0.8.0 in c:\\pranav files\\college work\\csc 480\\lab3\\.venv\\lib\\site-packages (from autogen-ext[azure,openai]) (0.12.0)\n",
      "Requirement already satisfied: isodate>=0.6.1 in c:\\pranav files\\college work\\csc 480\\lab3\\.venv\\lib\\site-packages (from azure-ai-inference>=1.0.0b9->autogen-ext[azure,openai]) (0.7.2)\n",
      "Requirement already satisfied: azure-storage-blob>=12.15.0 in c:\\pranav files\\college work\\csc 480\\lab3\\.venv\\lib\\site-packages (from azure-ai-projects>=1.0.0b11->autogen-ext[azure,openai]) (12.26.0)\n",
      "Requirement already satisfied: azure-ai-agents>=1.2.0b3 in c:\\pranav files\\college work\\csc 480\\lab3\\.venv\\lib\\site-packages (from azure-ai-projects>=1.0.0b11->autogen-ext[azure,openai]) (1.2.0b5)\n",
      "Requirement already satisfied: requests>=2.21.0 in c:\\pranav files\\college work\\csc 480\\lab3\\.venv\\lib\\site-packages (from azure-core->autogen-ext[azure,openai]) (2.32.5)\n",
      "Requirement already satisfied: six>=1.11.0 in c:\\pranav files\\college work\\csc 480\\lab3\\.venv\\lib\\site-packages (from azure-core->autogen-ext[azure,openai]) (1.17.0)\n",
      "Requirement already satisfied: azure-common>=1.1 in c:\\pranav files\\college work\\csc 480\\lab3\\.venv\\lib\\site-packages (from azure-search-documents>=11.4.0->autogen-ext[azure,openai]) (1.1.28)\n",
      "Requirement already satisfied: cryptography>=2.1.4 in c:\\pranav files\\college work\\csc 480\\lab3\\.venv\\lib\\site-packages (from azure-storage-blob>=12.15.0->azure-ai-projects>=1.0.0b11->autogen-ext[azure,openai]) (46.0.2)\n",
      "Requirement already satisfied: cffi>=2.0.0 in c:\\pranav files\\college work\\csc 480\\lab3\\.venv\\lib\\site-packages (from cryptography>=2.1.4->azure-storage-blob>=12.15.0->azure-ai-projects>=1.0.0b11->autogen-ext[azure,openai]) (2.0.0)\n",
      "Requirement already satisfied: pycparser in c:\\pranav files\\college work\\csc 480\\lab3\\.venv\\lib\\site-packages (from cffi>=2.0.0->cryptography>=2.1.4->azure-storage-blob>=12.15.0->azure-ai-projects>=1.0.0b11->autogen-ext[azure,openai]) (2.23)\n",
      "Requirement already satisfied: anyio<5,>=3.5.0 in c:\\pranav files\\college work\\csc 480\\lab3\\.venv\\lib\\site-packages (from openai>=1.93->autogen-ext[azure,openai]) (4.11.0)\n",
      "Requirement already satisfied: distro<2,>=1.7.0 in c:\\pranav files\\college work\\csc 480\\lab3\\.venv\\lib\\site-packages (from openai>=1.93->autogen-ext[azure,openai]) (1.9.0)\n",
      "Requirement already satisfied: httpx<1,>=0.23.0 in c:\\pranav files\\college work\\csc 480\\lab3\\.venv\\lib\\site-packages (from openai>=1.93->autogen-ext[azure,openai]) (0.28.1)\n",
      "Requirement already satisfied: jiter<1,>=0.4.0 in c:\\pranav files\\college work\\csc 480\\lab3\\.venv\\lib\\site-packages (from openai>=1.93->autogen-ext[azure,openai]) (0.11.0)\n",
      "Requirement already satisfied: sniffio in c:\\pranav files\\college work\\csc 480\\lab3\\.venv\\lib\\site-packages (from openai>=1.93->autogen-ext[azure,openai]) (1.3.1)\n",
      "Requirement already satisfied: tqdm>4 in c:\\pranav files\\college work\\csc 480\\lab3\\.venv\\lib\\site-packages (from openai>=1.93->autogen-ext[azure,openai]) (4.67.1)\n",
      "Requirement already satisfied: idna>=2.8 in c:\\pranav files\\college work\\csc 480\\lab3\\.venv\\lib\\site-packages (from anyio<5,>=3.5.0->openai>=1.93->autogen-ext[azure,openai]) (3.10)\n",
      "Requirement already satisfied: certifi in c:\\pranav files\\college work\\csc 480\\lab3\\.venv\\lib\\site-packages (from httpx<1,>=0.23.0->openai>=1.93->autogen-ext[azure,openai]) (2025.10.5)\n",
      "Requirement already satisfied: httpcore==1.* in c:\\pranav files\\college work\\csc 480\\lab3\\.venv\\lib\\site-packages (from httpx<1,>=0.23.0->openai>=1.93->autogen-ext[azure,openai]) (1.0.9)\n",
      "Requirement already satisfied: h11>=0.16 in c:\\pranav files\\college work\\csc 480\\lab3\\.venv\\lib\\site-packages (from httpcore==1.*->httpx<1,>=0.23.0->openai>=1.93->autogen-ext[azure,openai]) (0.16.0)\n",
      "Requirement already satisfied: importlib-metadata<8.8.0,>=6.0 in c:\\pranav files\\college work\\csc 480\\lab3\\.venv\\lib\\site-packages (from opentelemetry-api>=1.34.1->autogen-core) (8.7.0)\n",
      "Requirement already satisfied: zipp>=3.20 in c:\\pranav files\\college work\\csc 480\\lab3\\.venv\\lib\\site-packages (from importlib-metadata<8.8.0,>=6.0->opentelemetry-api>=1.34.1->autogen-core) (3.23.0)\n",
      "Requirement already satisfied: charset_normalizer<4,>=2 in c:\\pranav files\\college work\\csc 480\\lab3\\.venv\\lib\\site-packages (from requests>=2.21.0->azure-core->autogen-ext[azure,openai]) (3.4.3)\n",
      "Requirement already satisfied: urllib3<3,>=1.21.1 in c:\\pranav files\\college work\\csc 480\\lab3\\.venv\\lib\\site-packages (from requests>=2.21.0->azure-core->autogen-ext[azure,openai]) (2.5.0)\n",
      "Requirement already satisfied: regex>=2022.1.18 in c:\\pranav files\\college work\\csc 480\\lab3\\.venv\\lib\\site-packages (from tiktoken>=0.8.0->autogen-ext[azure,openai]) (2025.9.18)\n",
      "Requirement already satisfied: colorama in c:\\pranav files\\college work\\csc 480\\lab3\\.venv\\lib\\site-packages (from tqdm>4->openai>=1.93->autogen-ext[azure,openai]) (0.4.6)\n",
      "Requirement already satisfied: msal>=1.30.0 in c:\\pranav files\\college work\\csc 480\\lab3\\.venv\\lib\\site-packages (from azure-identity->autogen-ext[azure,openai]) (1.34.0)\n",
      "Requirement already satisfied: msal-extensions>=1.2.0 in c:\\pranav files\\college work\\csc 480\\lab3\\.venv\\lib\\site-packages (from azure-identity->autogen-ext[azure,openai]) (1.3.1)\n",
      "Requirement already satisfied: PyJWT<3,>=1.0.0 in c:\\pranav files\\college work\\csc 480\\lab3\\.venv\\lib\\site-packages (from PyJWT[crypto]<3,>=1.0.0->msal>=1.30.0->azure-identity->autogen-ext[azure,openai]) (2.10.1)\n",
      "Note: you may need to restart the kernel to use updated packages.\n"
     ]
    }
   ],
   "source": [
    "%pip install \"autogen-core\" \"autogen-agentchat\" \"autogen-ext[openai,azure]\" \"python-dotenv\""
   ]
  },
  {
   "cell_type": "code",
   "execution_count": 2,
   "id": "0678a3ac",
   "metadata": {},
   "outputs": [],
   "source": [
    "import os\n",
    "import asyncio\n",
    "from dataclasses import asdict\n",
    "\n",
    "from autogen_agentchat.agents import AssistantAgent\n",
    "from autogen_agentchat.conditions import TextMentionTermination\n",
    "from autogen_agentchat.teams import RoundRobinGroupChat\n",
    "from autogen_agentchat.base import TaskResult\n",
    "from autogen_ext.models.openai import AzureOpenAIChatCompletionClient\n",
    "\n",
    "from utils import SpellingBeeProblem, SearchResult, generalized_search"
   ]
  },
  {
   "cell_type": "code",
   "execution_count": 3,
   "id": "7399f3d1",
   "metadata": {},
   "outputs": [],
   "source": [
    "from pathlib import Path\n",
    "from dotenv import load_dotenv"
   ]
  },
  {
   "cell_type": "code",
   "execution_count": 4,
   "id": "c257eeb8",
   "metadata": {},
   "outputs": [],
   "source": [
    "cwd = Path.cwd()\n",
    "env_path = cwd.parent / \".env\"\n",
    "loaded = load_dotenv(env_path)"
   ]
  },
  {
   "cell_type": "code",
   "execution_count": 5,
   "id": "61e72813",
   "metadata": {},
   "outputs": [],
   "source": [
    "# Just like in the other labs\n",
    "azure_deployment = os.getenv(\"AZURE_DEPLOYMENT_NAME\")\n",
    "api_version = \"2024-12-01-preview\" \n",
    "azure_endpoint = os.getenv(\"AZURE_ENDPOINT\")\n",
    "# Expect AZURE_SUBSCRIPTION_KEY to be set in environment variables"
   ]
  },
  {
   "cell_type": "markdown",
   "id": "2575983f",
   "metadata": {},
   "source": [
    "## Agentic Heuristic Architecture Blueprint\n",
    "\n",
    "Based on the overview, sketch out how your heuristic agents and the generalized search tool interact:\n",
    "- **Feasibility Agent**: Evaluates constraint satisfaction and dictionary viability.\n",
    "- **Completeness Agent**: Estimates remaining effort to reach a valid Spelling Bee solution.\n",
    "- **Score Aggregator Agent**: Combines the scores and analysis of other agents into a final score.\n",
    "- *(Optional)* Additional agents for scoring letter diversity, pangram potential, etc.\n",
    "\n",
    "NOTE: The below system is just a example. Feel free to make it your own as you designed in part 1."
   ]
  },
  {
   "cell_type": "code",
   "execution_count": 6,
   "id": "2b5946f6",
   "metadata": {},
   "outputs": [],
   "source": [
    "def setup_agentic_heuristic_system():\n",
    "    \"\"\"Instantiate heuristic agents for Spelling Bee state evaluation.\"\"\"\n",
    "    client = AzureOpenAIChatCompletionClient(\n",
    "        azure_deployment=azure_deployment,\n",
    "        model=\"gpt-5-mini\",\n",
    "        api_version=api_version,\n",
    "        azure_endpoint=azure_endpoint,\n",
    "        api_key=os.getenv(\"AZURE_SUBSCRIPTION_KEY\"),\n",
    "    )\n",
    "\n",
    "    feasibility = AssistantAgent(\n",
    "        name=\"FeasibilityAnalyst\",\n",
    "        model_client=client,\n",
    "        system_message=\"\"\"You analyze whether a partial word can become a valid Spelling Bee answer.\n",
    "        This word must contain the required letter and only have allowed letters.\n",
    "        Cost: low (bad), high (excellent). Include rationale and numeric score (0-10) line 'SCORE: <float>'.\"\"\",\n",
    "    )\n",
    "\n",
    "    completeness = AssistantAgent(\n",
    "        name=\"CompletenessEstimator\",\n",
    "        model_client=client,\n",
    "        system_message=\"\"\"You estimate remaining effort to reach a full valid word. \n",
    "        Consider minimum word length (4 letters)\n",
    "        Assess likelihood of common word patterns\n",
    "        Cost: low (far) to high (close). Include rationale and numeric score (0-10 ; higher = closer to completion) line 'SCORE: <float>'.\"\"\",\n",
    "    )\n",
    "\n",
    "    aggregator = AssistantAgent(\n",
    "        name=\"HeuristicAggregator\",\n",
    "        model_client=client,\n",
    "        system_message=\"\"\"\n",
    "        You coordinate heuristic scoring for Spelling Bee nodes.\n",
    "        You will:\n",
    "        1. Consider analyses from collaborators.\n",
    "        2. Combine their numeric scores and rationales.\n",
    "        3. Ensure admissibility (never overestimate distance to goal)\n",
    "        4. Return a single numeric heuristic estimate h(n).\n",
    "        Always end responses with FINAL_SCORE: <float>.\"\"\",\n",
    "    )\n",
    "\n",
    "    return feasibility, completeness, aggregator"
   ]
  },
  {
   "cell_type": "code",
   "execution_count": 7,
   "id": "8d32132e",
   "metadata": {},
   "outputs": [],
   "source": [
    "def cost_fn(parent_state, action, next_state) -> float:\n",
    "    \"\"\"\n",
    "    Return the incremental cost g(n) for moving to next_state.\n",
    "    Customize this to reflect letter usage, word length, or other criteria.\n",
    "\n",
    "    Args:\n",
    "        parent_state: The current sub-word.\n",
    "        action: The next letter added.\n",
    "        next_state: The sub-word after adding the action letter.\n",
    "    Returns:\n",
    "        A numeric cost value (float).\n",
    "    \"\"\"\n",
    "    # Slightly penalize longer words to find solutions faster.\n",
    "    if(len(parent_state) + len(next_state) > 7):\n",
    "        return len(next_state) * 1.2\n",
    "    else:\n",
    "        return len(next_state)"
   ]
  },
  {
   "cell_type": "code",
   "execution_count": 8,
   "id": "562f3961",
   "metadata": {},
   "outputs": [],
   "source": [
    "async def run_agentic_search(\n",
    "    spelling_bee: SpellingBeeProblem, strategy: str = \"a_star\"\n",
    "):\n",
    "    \"\"\"Execute the generalized search with your cost and heuristic functions.\"\"\"\n",
    "    feasibility, completeness, aggregator = setup_agentic_heuristic_system()\n",
    "\n",
    "    async def heuristic_fn(state, min_state_len=3) -> float:\n",
    "        \"\"\"\n",
    "        Delegate to the agentic heuristic system to compute h(n) for `state`. In our problem space,\n",
    "        state is a partial word. You will need to implement the logic to send messages to your agents,\n",
    "        gather their responses, and compute a final numeric heuristic value.\n",
    "\n",
    "        Args:\n",
    "            state: The current state (partial word) to evaluate.\n",
    "        Returns:\n",
    "            A numeric heuristic estimate (float).\n",
    "        \"\"\"\n",
    "        if len(state) < min_state_len:\n",
    "            # No heuristic value for very short states\n",
    "            # There isn't enough information to evaluate\n",
    "            return 0.0\n",
    "\n",
    "        # See https://microsoft.github.io/autogen/stable//reference/python/autogen_agentchat.teams.html\n",
    "        team = RoundRobinGroupChat(\n",
    "            [feasibility, completeness, aggregator],\n",
    "            termination_condition=TextMentionTermination(\"FINAL_SCORE:\"),\n",
    "        )\n",
    "\n",
    "        # Get the result from the team\n",
    "        messages_generator = team.run_stream(\n",
    "            task=f\"Evaluate heuristic for state: {state}\", output_task_messages=False\n",
    "        )\n",
    "        async for message in messages_generator:\n",
    "            if isinstance(message, TaskResult):\n",
    "                response = message.messages[-1].content\n",
    "                break\n",
    "\n",
    "        # Parse the numeric score from the orchestrator's response\n",
    "        try:\n",
    "            print([line for line in response.splitlines()])\n",
    "            score_line = next(\n",
    "                line for line in response.splitlines() if \"FINAL_SCORE:\" in line\n",
    "            )\n",
    "            start_idx = score_line.index(\"FINAL_SCORE:\") + len(\"FINAL_SCORE:\")\n",
    "            end_idx = score_line.index(\".\", start_idx) + 1\n",
    "            final_score = float(score_line[start_idx:end_idx].strip())\n",
    "            return final_score\n",
    "        except (StopIteration, ValueError, IndexError):\n",
    "            print(\"Failed to parse score from orchestrator response. Defaulting to 0.0\")\n",
    "            return 0.0\n",
    "\n",
    "    print(f\"Running {strategy} search on: {spelling_bee}\")\n",
    "\n",
    "    result: SearchResult = await generalized_search(\n",
    "        problem=spelling_bee,\n",
    "        cost_fn=cost_fn,\n",
    "        heuristic_fn=heuristic_fn,\n",
    "        strategy=strategy,\n",
    "        max_expansions=None,  # May want to set this for debugging\n",
    "        verbose=True,\n",
    "    )\n",
    "\n",
    "    result_summary = asdict(result)\n",
    "    print(\"SearchResult summary:\")\n",
    "    for key, value in result_summary.items():\n",
    "        print(f\"  {key}: {value}\")\n",
    "\n",
    "    return result"
   ]
  },
  {
   "cell_type": "markdown",
   "id": "11e27464",
   "metadata": {},
   "source": [
    "## Example Puzzle 1: Starter Configuration\n",
    "\n",
    "Test the integrated system on a small Spelling Bee instance provided with the lab."
   ]
  },
  {
   "cell_type": "code",
   "execution_count": 9,
   "id": "7224610e",
   "metadata": {},
   "outputs": [
    {
     "name": "stdout",
     "output_type": "stream",
     "text": [
      "Running a_star search on: SpellingBeeProblem(letters='ADELOPR', required='O', words=32)\n",
      "['Both collaborators judge \"APO\" as a promising, close partial when the puzzle’s required letter and allowed set include A/P/O. They differ only slightly in confidence (scores 6.0 and 7.0), both emphasizing that APO is a common prefix and typically needs only a small addition to reach a valid 4+ letter word. The guaranteed, admissible lower bound on remaining work is the number of letters needed to reach the minimum word length: APO is 3 letters, so at least one more letter is required to form a 4+ letter word. That bound is safe (it never overestimates the true remaining cost): if the puzzle is impossible (required letter not in APO or necessary letters disallowed) the true cost is effectively infinite and the bound remains ≤ true cost.', '', 'Therefore, combining the analysts’ positive assessments but enforcing admissibility gives:', '', 'FINAL_SCORE: 1.0']\n",
      "['Both analysts agree DOL is a strong partial when the puzzle’s required/allowed letters include D, O, or L — in particular it can be extended to common 4+ words (e.g., “doll” by repeating L). They score it 7.0 and 8.0 (average 7.5) for promise/completeness, but for an admissible heuristic we must provide a guaranteed lower bound on remaining cost that never overestimates.', '', 'Admissible lower bound: DOL is 3 letters and Spelling Bee answers require 4+ letters, so at least one more letter must be added to form a valid word (assuming the required center letter can be satisfied). If the required letter is not one of D/O/L the state is impossible (infinite cost), but lacking that info the optimistic, admissible estimate is 1.0.', '', 'FINAL_SCORE: 1.0']\n",
      "['Both analysts give DOO a moderate promise (scores 6.0 and 6.0) and agree the state is useful only if the puzzle’s required/center letter is D or O; otherwise it’s impossible. They note DOO can often be completed with one small addition (e.g., “dodo”, “door”, “doom”) when allowed letters permit, but its low letter diversity limits breadth.', '', 'Admissibility requirement: the heuristic must never overestimate remaining work. DOO is 3 letters and Spelling Bee answers must be 4+ letters, so the guaranteed optimistic lower bound on remaining letters to add is 1 (you need at least one more letter to reach minimum length). If the required letter is not D or O the true cost is infinite, but lacking that info the admissible optimistic estimate is 1.0.', '', 'FINAL_SCORE: 1.0']\n",
      "['Both analysts view DRO as a strong seed (scores 8.0 and 8.5) because it contains three distinct letters that already yield multiple common 4-letter words using only D/R/O (e.g., “door”, “odor”, “rood”) and supports many common extensions with one or two added letters (e.g., “drop”, “drone”, “droll”). They note the usual failure mode: if the puzzle’s required/center letter is not in {D,R,O} the state is dead.', '', 'Admissibility constraint (must not overestimate remaining cost): DRO is 3 letters and Spelling Bee answers require 4+ letters, so at least one additional letter must be added to form any valid answer. If the required letter is absent the true cost is infinite, but lacking that info the optimistic admissible lower bound on remaining work is 1.0.', '', 'FINAL_SCORE: 1.0']\n",
      "['Both analysts rate ERR as weak-to-moderate (both scored 4.0): it’s limited to two distinct letters (E and R), so it’s not yet a valid 4+ letter answer and has limited flexibility unless additional allowed letters (e.g., O, A, N, T) are present to form common words like “error,” “errand,” “errant,” etc. If the puzzle’s required/center letter is not E or R the state is impossible, but lacking that info the optimistic admissible lower bound on remaining work is the number of letters needed to reach the minimum word length (ERR is length 3 → at least one more letter). That bound never overestimates the true remaining cost.', '', 'FINAL_SCORE: 1.0']\n",
      "['Both analysts rate LOA as promising (both scored 7.0): it’s a productive trigram (L, O, A) that typically needs only one extra allowed letter to yield common 4+ words (loan, loaf, load, loam, aloof, local, etc.), but it’s impossible if the puzzle’s required/center letter is not one of L/O/A or if the allowed set is strictly {L,O,A}. To be admissible (never overestimate remaining work) we must give the optimistic guaranteed lower bound: LOA is 3 letters and a valid Spelling Bee answer requires 4+, so at least one more letter is required in any feasible case. Lacking the puzzle’s required/allowed-letter specifics, the admissible heuristic is therefore 1.0.', '', 'FINAL_SCORE: 1.0']\n",
      "['Both analysts rate LOO moderately promising (both scored 6.0): it uses only L and O (O repeated), so it’s useful only if the puzzle’s required/center letter is L or O; otherwise it’s impossible. They note LOO is length 3 and needs at least one more letter to meet the 4+ requirement, though common 4-letter completions (loll, loom, loot) usually require only one added letter when allowed.', '', 'Admissibility: without the puzzle’s required/allowed-letter specifics the optimistic guaranteed lower bound is the minimum letters needed to reach the game’s minimum word length. LOO is 3 letters, so at least one more letter must be added in any feasible case; if the required letter is absent the true cost is infinite, but we cannot assume that. That one-letter lower bound never overestimates the true remaining cost.', '', 'FINAL_SCORE: 1.0']\n",
      "['Both collaborators rate LOR as promising (7.0 and 7.0): it contains three distinct letters (L, O, R), yields common 4-letter words with repeats (e.g., “roll”) using only those letters, and extends easily with one small extra letter to many frequent words (lord, lore, lorn, lorry, lower). They also note the usual failure mode: if the puzzle’s required/center letter is not one of {L,O,R} the state is dead.', '', 'Admissibility: the heuristic must never overestimate remaining work. LOR is length 3 and Spelling Bee answers require 4+ letters, so in any feasible case you must add at least one letter. If the required letter is absent the true cost is infinite, but lacking that information the optimistic admissible lower bound is 1.0 (one letter). This bound never overestimates the true remaining cost.', '', 'FINAL_SCORE: 1.0']\n",
      "['Both analysts rate OLD as promising (both scored 7.0): it contains three distinct useful letters (O, L, D), is viable only if the puzzle’s required/center letter is one of O/L/D, and already yields common 4-letter completions with only small additions (e.g., “doll” by adding one L, or “load/lode” by adding A/E, and many others with one extra letter). They agree failure occurs if the required letter is not in {O,L,D}.', '', 'Admissibility constraint (must not overestimate remaining work): in the best feasible case OLD is length 3 and a valid Spelling Bee word needs ≥4 letters, so you must add at least one letter. Some completions require exactly one added letter (e.g., “doll”), so the optimistic admissible lower bound on remaining work is 1.0. This never overestimates the true remaining cost in any scenario where the state is feasible.', '', 'FINAL_SCORE: 1.0']\n",
      "['Both analysts rate OPE as promising (both scored 7.0): it has good letter diversity including two vowels (O and E), yields 4-letter words using only these letters by repeating characters (e.g., “peep”, “poop”), and extends broadly with one or two small additions (open, opera, poet, peon, opine, people, etc.). The usual failure mode applies: if the puzzle’s required/center letter is not one of {O,P,E} the state is impossible, but lacking that info we take the optimistic feasible case.', '', 'Admissibility: a heuristic must not overestimate remaining work. OPE is length 3 and valid answers require ≥4 letters, so in any feasible case you must add at least one more character (even if it’s a repeat of an existing letter). Therefore the admissible optimistic lower bound is 1.0.', '', 'FINAL_SCORE: 1.0']\n",
      "['Both analysts rate ORA as promising (7.0 each): it contains three distinct useful letters (O, R, A), yields at least one common 4-letter word using only those letters via repeats (“roar”), and extends readily with one small addition to many frequent words (oral, orate, oracle, aroma, roam, orange with more letters). The usual failure mode applies: if the puzzle’s required/center letter is not in {O,R,A} the state is impossible (infinite cost). Lacking the required/allowed-letter specifics, the optimistic admissible lower bound is the minimum guaranteed work to reach the 4+ length: ORA is length 3, so at least one more letter must be added in any feasible case. That bound never overestimates the true remaining cost.', '', 'FINAL_SCORE: 1.0']\n",
      "['Both analysts agree ORD is a strong seed (scores 7.5 and 8.0): it contains three distinct letters (O,R,D), already yields common 4-letter words using only those letters (e.g., “door”, “odor”, “rood”), and extends broadly with one or a few small additions. The usual failure mode applies: if the puzzle’s required/center letter is not in {O,R,D} the state is impossible (infinite cost), but lacking that info we assume the optimistic feasible case.', '', 'To be admissible (never overestimate remaining work) we use the guaranteed lower bound: ORD is length 3 and Spelling Bee answers require ≥4 letters, so at least one more character must be added in any feasible completion. That optimistic bound (1.0) cannot overestimate the true remaining cost.', '', 'FINAL_SCORE: 1.0']\n",
      "['Both analysts rate PEO as promising (both scored 7.0): it contains three useful letters including two vowels (P, E, O), can already form 4-letter words by repeating letters (e.g., “peep”, “poop”), and extends broadly with one or two small additions (poem, poet, peon, people, opera, etc.). They both note the usual failure mode: if the puzzle’s required/center letter is not in {P, E, O} the state is impossible.', '', 'Admissibility: the heuristic must not overestimate remaining work. PEO is length 3 and valid Spelling Bee answers require ≥4 letters, so in any feasible case at least one more character must be added. (If the required letter is absent the true cost is infinite, but lacking that info the optimistic admissible lower bound is 1.0.)', '', 'FINAL_SCORE: 1.0']\n",
      "['Both analysts give POL a strong rating (7.5 each): it contains three distinct useful letters (P,O,L), already yields common 4-letter words via repeats (poll, polo) and extends widely with one or two small additions (pole, polar, polka, poly-, polite, etc.). The usual failure mode applies: if the puzzle’s required/center letter is not in {P,O,L} the state is impossible, but lacking that info we assume the optimistic feasible case.', '', 'Admissibility: POL is length 3 and Spelling Bee answers require ≥4 letters, so in any feasible completion you must add at least one character. That optimistic lower bound (1.0) cannot overestimate the true remaining cost.', '', 'FINAL_SCORE: 1.0']\n",
      "['Both analysts agree POO is moderately promising (both scored 6.0): it contains only P and O (O repeated), so it’s viable only if the puzzle’s required/center letter is P or O; it already yields a common 4-letter word by repeating a letter (“poop”), and with one small addition yields others (“pool”, “poor”, “poof”). Diversity is limited (only two distinct letters), so breadth of extensions is smaller than triads with three distinct letters.', '', 'Admissibility: as a 3-letter node any feasible Spelling Bee answer requires adding at least one character to reach the 4+ minimum length, so the optimistic guaranteed lower bound on remaining work is 1.0. That bound never overestimates the true remaining cost (it is ≤ the true cost in all feasible or infeasible cases).', '', 'FINAL_SCORE: 1.0']\n",
      "['Both analysts rate POP moderately promising (both scored 6.0): it uses only P and O (P repeated), so it’s viable only if the puzzle’s required/center letter is P or O; otherwise it’s impossible. Advantages: POP can already form a common 4-letter word by repeating letters (“poop”) with no extra distinct letters, and with one small addition it yields many other common words (pomp, prop, popes, poppy, etc.). Weaknesses: low distinct-letter diversity limits breadth of stems compared with trigrams of three different letters, and some candidates risk proper‑noun issues. ', '', 'Admissibility requirement (never overestimate remaining cost): POP is length 3 and Spelling Bee answers require ≥4 letters, so in any feasible case you must add at least one character. Lacking the puzzle’s required/allowed-letter specifics, the optimistic admissible lower bound is therefore 1.0.', '', 'FINAL_SCORE: 1.0']\n",
      "['Both analysts rate PRO very strong (8.5 each): it contains three distinct letters (P,R,O), already yields common 4-letter words by repeats (prop, poor) using only those letters, and the “pro-” prefix is highly productive so modest additions give many high-frequency words (proof, probe, prose, prone, proud, etc.). Failure occurs only if the puzzle’s required/center letter is not in {P,R,O}.', '', 'Admissibility: PRO is length 3 and Spelling Bee answers require ≥4 letters, so any feasible completion must add at least one character. If the required letter is absent the true cost is infinite, but lacking that info the optimistic admissible lower bound on remaining work is 1.0.', '', 'FINAL_SCORE: 1.0']\n",
      "['Both analysts give REL the same positive assessment (7.0 each): it contains three useful letters (R, E, L), already supports common 4-letter words by repeats (reel, leer) when the required/center letter is one of R/E/L, and extends readily with one small addition to many frequent words (rely, real, relic, relay, relax, relate, release, etc.). They also note the failure mode: if the puzzle’s required/center letter is not in {R,E,L} the state is impossible.', '', 'Admissibility constraint (must not overestimate remaining work): REL is a 3-letter node and Spelling Bee answers require ≥4 letters, so in any feasible completion you must add at least one character. (If the required letter is absent the true cost is infinite, but lacking that info we take the optimistic feasible case.) That optimistic lower bound cannot overestimate the true remaining cost.', '', 'FINAL_SCORE: 1.0']\n",
      "['Both analysts rate ROA as promising (7.0 each): it contains three distinct useful letters (R, O, A), already yields a common 4-letter word by repeating a letter (“roar” via adding an R), and extends easily with one or two small additions to many frequent words (road, roam, roast, orate, aroma, oracle, etc.). The usual failure mode applies: if the puzzle’s required/center letter is not in {R,O,A} the state is impossible, but lacking that info we take the optimistic feasible case.', '', 'Admissibility: a heuristic must not overestimate remaining work. ROA is length 3 and valid Spelling Bee answers require ≥4 letters, so in any feasible completion you must add at least one character (e.g., the R to make “roar”). That optimistic lower bound (1.0) never overestimates the true remaining cost.', '', 'FINAL_SCORE: 1.0']\n",
      "['Both analysts rate ROL as a solid seed (both scored 7.0): it contains three distinct useful letters (R, O, L), already yields a common 4-letter word by repeating a letter (“roll”), and extends easily with one small addition to many frequent words (role, lord, rolls, rolled, roller, etc.). The usual failure mode applies: if the puzzle’s required/center letter is not one of {R,O,L} the state is impossible, but lacking that info we assume the optimistic feasible case.', '', 'Admissibility: the heuristic must never overestimate remaining work. ROL is length 3 and Spelling Bee answers require ≥4 letters, so in any feasible completion you must add at least one character (even if it’s a repeat). That optimistic lower bound (1.0) cannot exceed the true remaining cost.', '', 'FINAL_SCORE: 1.0']\n",
      "['Both analysts rate ROP very strong (8.0 and 8.0): it contains three distinct letters (R,O,P), already yields common 4-letter words using only those letters (e.g., “prop,” “poor”), and is highly productive with one or two small additions (rope, proof, probe, proud, prowl, proper, etc.). They also note the usual failure mode: if the puzzle’s required/center letter is not in {R,O,P} the state is impossible (infinite cost). ', '', 'Admissibility requirement (never overestimate remaining work): ROP is length 3 and Spelling Bee answers require ≥4 letters, so in any feasible completion you must add at least one character. Lacking the puzzle’s required/allowed-letter specifics, the optimistic admissible lower bound on remaining work is therefore 1.0.', '', 'FINAL_SCORE: 1.0']\n",
      "['Both analysts give APOL a strong rating (8.0 each): it contains four distinct useful letters (A, P, O, L), already yields multiple common 4+ words using only those letters (opal, pool, poll, polo, pall, pole, etc.), and scales well with modest extra letters. The usual failure mode applies — if the puzzle’s required/center letter is not one of {A,P,O,L} the state is impossible — but lacking that information we must provide an admissible (optimistic) lower bound on remaining work that never overestimates the true distance to goal.', '', 'Because APOL is already length 4 and can already form valid 4+ words using only its letters in many feasible cases, the admissible optimistic lower bound on remaining work is 0.0 (no additions necessary in the best feasible case). This never overestimates the true remaining cost.', '', 'FINAL_SCORE: 0.0']\n",
      "['Both analysts agree DOLL is a very strong, often-complete seed: it is already a common 4-letter English word (D‑O‑L‑L) and requires no additions to meet the 4+ length requirement when the puzzle’s required/center letter is one of {D,O,L} and those letters are allowed. If the required letter is outside {D,O,L} the state is impossible (infinite cost), but lacking that info the optimistic admissible lower bound (which never overestimates true remaining work) is 0.0 because no further letters are needed in feasible cases.', '', 'FINAL_SCORE: 0.0']\n",
      "['Both analysts agree DOOR is very strong (8.0 each): it is already a common 4-letter English word composed only of D, O, R (with O repeated), so in any feasible case (the puzzle’s required/center letter is one of D/O/R and those letters are allowed) no further letters are needed. They also note additional immediate yields from the same letter set (e.g., odor, rood depending on the wordlist) and that modest extra letters expand options further. The usual failure mode applies: if the required/center letter is not in {D,O,R} the state is impossible, but lacking that information we must provide an admissible optimistic lower bound that never overestimates the true remaining cost.', '', 'Admissible optimistic lower bound: DOOR is already length 4 and can be a complete answer in feasible cases, so the guaranteed minimum remaining work is 0.0.', '', 'FINAL_SCORE: 0.0']\n",
      "['Both analysts rate DROP very strong (8.5 each): it contains four distinct useful letters (D,R,O,P), is itself a common 4-letter word, and the same letter set yields other immediate words (prod, prop). That makes it often already-complete in feasible cases (center ∈ {D,R,O,P}), with many extensions available with small additions.', '', 'Admissibility: DROP is length 4 and can be a complete valid answer, so the optimistic guaranteed lower bound on remaining work is 0.0 in feasible cases. If the required letter is absent the true cost is infinite, but lacking that info we must give an admissible optimistic estimate that never overestimates the true remaining cost.', '', 'FINAL_SCORE: 0.0']\n",
      "['Both analysts view ERRO as a strong, high-utility seed: it contains E, R, and O (with R repeated) and readily yields the common word “error” by adding one R (a repeat), and then “errors” if S is allowed. Viability still depends on the puzzle’s required/center letter being one of {E,R,O} (otherwise the state is infeasible), but assuming feasibility both judges rate it highly (7.5 and 8.0).', '', 'Admissibility: the heuristic must never overestimate remaining work. ERRO is not itself a valid 4+ answer but requires at least one additional character (an extra R) to reach the common word “error.” Therefore the optimistic admissible lower bound on remaining work is 1.0 (if the center letter is absent the true cost is infinite, but we take the feasible optimistic case).', '', 'FINAL_SCORE: 1.0']\n",
      "['Both analysts agree LOAD is a very strong, often-complete seed (both scored 8.0): it contains four distinct useful letters (L, O, A, D) and is itself a common 4-letter word, so when the puzzle’s required/center letter is one of {L,O,A,D} and those letters are allowed no extensions are needed. If the required letter is outside that set the state is infeasible (infinite cost), but lacking that info the admissible optimistic lower bound on remaining work is 0.0 (no additions required in the best feasible case). This bound never overestimates the true remaining cost.', '', 'FINAL_SCORE: 0.0']\n",
      "['Both analysts rate LOOP very strong (8.0 each): it uses letters L,O,P and is already a common 4-letter word (LOOP), and the same letter set yields other immediate words (POOL, POLO, POLL). Viability depends on the puzzle’s required/center letter being one of {L,O,P} (otherwise infeasible), but lacking that info the optimistic admissible lower bound on remaining work is 0.0 because no additions are needed in feasible cases.', '', 'FINAL_SCORE: 0.0']\n",
      "['Both analysts rate LORD as very strong (8.0 each): it contains four useful letters (L,O,R,D), is itself a common 4-letter word (so it meets the minimum-length requirement), and the same letter set yields other immediate words (door, rood, odor) and many easy extensions with modest extras. The usual failure mode applies — if the puzzle’s required/center letter is not one of {L,O,R,D} the state is infeasible — but lacking that information we give an optimistic admissible lower bound that never overestimates remaining work.', '', 'Admissible estimate: LORD is already a valid 4-letter word in feasible cases, so the guaranteed minimum remaining work is 0.0 (no additions required). This cannot overestimate the true remaining cost.', '', 'FINAL_SCORE: 0.0']\n",
      "['Both analysts rate OLDE strongly (8.0 each): it contains four useful letters (O,L,D,E) and already yields common 4‑letter words (e.g., lode, dole), so in any feasible case (the puzzle’s required/center letter is one of O/L/D/E and those letters are allowed) no additions are necessary. If the required letter is outside {O,L,D,E} the state is infeasible (infinite cost), but an admissible optimistic heuristic must not overestimate—so the guaranteed lower bound on remaining work is 0.0 (no letters needed in the best feasible case).', '', 'FINAL_SCORE: 0.0']\n",
      "['Both analysts rate OPER highly (8.0 each): it contains four useful letters (O, P, E, R), already forms common 4-letter words with no additions (e.g., rope, pore, repo), and extends broadly with one or two small letters (opera, proper, prove, etc.). Viability still depends on the puzzle’s required/center letter being one of {O,P,E,R} (otherwise infeasible), but for an admissible heuristic we must give the optimistic guaranteed lower bound on remaining work that never overestimates the true cost. OPER is already length 4 and can produce valid answers using only its letters, so in any feasible case no additional letters are strictly required.', '', 'FINAL_SCORE: 0.0']\n",
      "['Both analysts agree ORAL is a very strong, often-complete seed: it uses four distinct letters (O,R,A,L) and is itself a common 4-letter English word, so in any feasible case (the puzzle’s required/center letter is one of {O,R,A,L} and those letters are allowed) no additional letters are needed. If the required letter is outside that set the state is infeasible (infinite cost), but an admissible heuristic must be optimistic and never overestimate — the guaranteed minimum remaining work in feasible cases is 0.0 (already a valid word). ', '', 'FINAL_SCORE: 0.0']\n",
      "['Both analysts agree ORDE is a strong, often-complete seed (both scored 8.0): it contains four useful letters (O, R, D, E) and already yields multiple common 4+ words using only those letters (e.g., rode, redo, door/odor via repeats, and order by repeating), so in any feasible case no additional distinct letters are required. The usual infeasibility applies if the puzzle’s required/center letter is not one of {O,R,D,E}, but lacking that detail the admissible optimistic lower bound on remaining work is 0.0 (you cannot require negative work and cannot safely assume more required work). This bound never overestimates the true remaining cost.', '', 'FINAL_SCORE: 0.0']\n",
      "['Both analysts agree (7.0 each) that PEOP is a promising seed: it contains P, E, O (P repeated), already yields common 4-letter words using only those letters (peep, poop, pope depending on list), and is one letter away from a very high-value target (“people” by adding L). Viability depends on the puzzle’s required/center letter being in {P,E,O} (otherwise infeasible), but under the optimistic admissible assumption we must give a lower bound on remaining work that never overestimates: because valid 4+ words can be formed using only the existing letters, the guaranteed minimum remaining additions in the best feasible case is 0.0.', '', 'FINAL_SCORE: 0.0']\n",
      "['Both analysts rate POLA as a strong, often-complete seed (8.0 each): it contains four distinct useful letters (P,O,L,A) and already forms multiple common 4-letter words (opal, polo, poll, pall, pool, loop) without adding letters, and with one small addition (R, K, I, etc.) unlocks many more. Viability depends on the puzzle’s required/center letter being one of {P,O,L,A}; if not, the true cost is infinite. Lacking that detail, the admissible optimistic lower bound (which must never overestimate remaining work) is 0.0 because POLA can already produce valid 4+ words using only its letters.', '', 'FINAL_SCORE: 0.0']\n",
      "['Both analysts rate POLE as strong (both scored 8.0): it contains four useful letters (P, O, L, E), already forms common 4-letter words using only those letters (pole, lope, pool, poll), and extends easily with small additions. Viability depends on the puzzle’s required/center letter being one of {P,O,L,E} (otherwise infeasible), but an admissible heuristic must not overestimate remaining work. Because POLE already meets the 4+ requirement and can be a complete answer in feasible cases, the optimistic guaranteed lower bound on remaining work is 0.0.', '', 'FINAL_SCORE: 0.0']\n",
      "['Both analysts give POLL a very strong rating (8.0 each): it contains the letters P, O, L (with L repeated) and is itself a common 4‑letter word, so in any feasible case (the puzzle’s required/center letter is one of P/O/L and those letters are allowed) no further letters or moves are required. The admissible optimistic lower bound (which cannot overestimate true remaining work) is therefore 0.0.', '', 'FINAL_SCORE: 0.0']\n",
      "['Both analysts scored POLO as strong (8.0 each) and give similar rationales: POLO uses the letters P, O, L (O repeated), is itself a common 4-letter word, and the same letter set yields other immediate words (poll, pool, loop). Both note the usual feasibility dependency — the puzzle’s required/center letter must be one of {P,O,L} — but lacking that detail we adopt the optimistic feasible case.', '', 'Admissibility requirement (never overestimate remaining work): POLO already meets the 4+ length and can be a complete valid answer in feasible cases, so the guaranteed optimistic lower bound on remaining work is 0.0.', '', 'FINAL_SCORE: 0.0']\n",
      "['Both analysts rate POOL very strong (8.0 each): it uses letters P, O, L (with O repeated), is itself a common 4‑letter English word, and the same letter set yields other immediate words (loop, polo, poll). Viability depends on the puzzle’s required/center letter being one of {P,O,L} (otherwise infeasible), but lacking that detail we adopt the optimistic feasible case.', '', 'Admissibility: POOL already meets the 4+ requirement and can be a complete answer using only its letters in feasible cases, so the optimistic lower bound on remaining work that never overestimates the true cost is 0.0.', '', 'FINAL_SCORE: 0.0']\n",
      "['Both analysts agree POOR is a very strong, often-complete seed: it already is a common 4‑letter English word using only P, O, R (with O repeated) and yields other immediate words from the same letter set (prop, poop). Viability depends on the puzzle’s required/center letter being one of {P,O,R}; if it is not the true cost is infinite, but lacking that information we must give an admissible (optimistic) lower bound that never overestimates the true remaining work. Because POOR already meets the 4+ requirement and can be a complete answer in feasible cases, the guaranteed minimum remaining work is 0.0.', '', 'FINAL_SCORE: 0.0']\n",
      "['Both analysts rate POPE as promising (7.0 each): it uses P, O, E (P repeated), is already a common 4‑letter word (so meets the minimum length), yields other same-set words (peep, poop), and needs at most one small addition to reach other high‑value targets (popes, people with L). The usual failure mode applies—if the puzzle’s required/center letter is not in {P,O,E} the state is infeasible—but lacking that info the admissible optimistic lower bound (which must never overestimate remaining work) is the guaranteed minimum additions needed in a feasible case.', '', 'Since POPE is already length 4 and can be a complete Spelling Bee answer in feasible scenarios, the admissible heuristic is 0.0.', '', 'FINAL_SCORE: 0.0']\n",
      "['Both analysts rate PROP very strong (8.0 each): it’s a common 4-letter word using only P, R, and O (P repeated), so in any feasible case (the puzzle’s required/center letter is one of {P,R,O} and those letters are allowed) PROP is already a complete valid answer and needs no additions. If the required letter is outside that set the state is infeasible (infinite cost), but the admissible (optimistic) lower bound that never overestimates remaining work is 0.0 because no further letters are required in feasible cases.', '', 'FINAL_SCORE: 0.0']\n",
      "['Both analysts rate RELO highly (8.0 each): it contains four distinct useful letters (R, E, L, O) and already forms multiple common 4-letter words using only those letters (role, lore, reel, leer), so in any feasible case no additional letters are strictly required. The usual infeasible case (required/center letter not in {R,E,L,O}) makes the true cost infinite, but lacking that detail the admissible optimistic lower bound (which must not overestimate the true remaining cost) is 0.0 because the node can already be a complete valid answer in feasible scenarios.', '', 'FINAL_SCORE: 0.0']\n",
      "['Both analysts rated ROAD very strong (8.0 each): it contains four useful letters (R, O, A, D) and is itself a common 4‑letter word, so in any feasible case (the puzzle’s required/center letter is one of {R,O,A,D} and those letters are allowed) no additions are needed. There is the usual infeasible case (required letter not in {R,O,A,D}), but lacking that detail the optimistic admissible lower bound on remaining work is the guaranteed minimum additions in a feasible case. Because ROAD already meets the 4+ requirement and can be a complete answer, the admissible heuristic is 0.0.', '', 'FINAL_SCORE: 0.0']\n",
      "['Both analysts rate ROLE highly (8.0 each): it contains four distinct useful letters (R,O,L,E), is itself a common 4‑letter word, and the same letter set yields other immediate words (lore, reel, leer) and easy extensions with small additions. The usual infeasible case applies: if the puzzle’s required/center letter is not in {R,O,L,E} the state cannot become a valid Spelling Bee answer.', '', 'Admissibility: because ROLE already meets the 4+ requirement and can be a complete answer in feasible cases, the optimistic lower bound on remaining work that never overestimates is 0.0.', '', 'FINAL_SCORE: 0.0']\n",
      "['Both analysts agree ROLL is a very strong seed (8.0 each): it uses R, O, L (with L repeated) and is itself a common 4‑letter word, so in any feasible case (the puzzle’s required/center letter is one of {R,O,L} and those letters are allowed) it already satisfies the game’s minimum-length requirement and needs no further letters. If the required/center letter is outside {R,O,L} the state is infeasible (infinite cost), but lacking that information the admissible optimistic lower bound (which must never overestimate remaining work) is 0.0 because ROLL can be a complete valid answer in feasible cases.', '', 'FINAL_SCORE: 0.0']\n",
      "['Both analysts rate ROPE strongly (8.0 each): it contains four useful letters (R,O,P,E), is itself a common 4-letter word, and the same letter set yields additional immediate words (pore, repo) and easy extensions (ropes, opera, proper, opener) with small additions. Viability still depends on the puzzle’s required/center letter being one of {R,O,P,E}; lacking that information the admissible optimistic lower bound on remaining work is 0.0 because ROPE can already be a complete Spelling Bee answer in feasible cases.', '', 'FINAL_SCORE: 0.0']\n",
      "['Both analysts agree APOLL’s underlying letter set {A, P, O, L} (L duplicated) is highly productive: it already yields multiple common 4‑letter words (opal, poll, polo, pool, pall, loop, etc.) with zero additional distinct letters, and typical useful extensions require at most one small addition. Their quality scores (8.0 each) reflect this high utility. The admissible heuristic must be an optimistic lower bound on remaining work: since the letter set already produces valid 4+ words in feasible cases, the guaranteed minimum remaining additions is 0.0 (if the puzzle’s required/center letter is one of {A,P,O,L}; if not, the true cost is infinite, but we must report the optimistic admissible bound).', '', 'FINAL_SCORE: 0.0']\n",
      "Expanding: 'APOL' + 'L' -> 'APOLL'\n",
      "  Step cost: 6.0\n",
      "  New cost: 16.0\n",
      "  Heuristic score: 0.0\n",
      "SearchResult summary:\n",
      "  success: True\n",
      "  goal_state: DOLL\n",
      "  actions: ['D', 'O', 'L', 'L']\n",
      "  cost: 10.0\n",
      "  expansions: 43\n",
      "  explored: 43\n",
      "  frontier_size: 25\n"
     ]
    },
    {
     "data": {
      "text/plain": [
       "SearchResult(success=True, goal_state='DOLL', actions=['D', 'O', 'L', 'L'], cost=10.0, expansions=43, explored=43, frontier_size=25)"
      ]
     },
     "execution_count": 9,
     "metadata": {},
     "output_type": "execute_result"
    }
   ],
   "source": [
    "# Provided helper will create a Spelling Bee problem instance, e.g. letters=\"ADELOPR\", center=\"O\"\n",
    "starter_problem = SpellingBeeProblem.from_letters(\n",
    "    letters=[\"A\", \"D\", \"E\", \"L\", \"O\", \"P\", \"R\"],\n",
    "    required_letter=\"O\",\n",
    ")\n",
    "\n",
    "# Uncomment to run once cost_fn and heuristic_fn are implemented\n",
    "await run_agentic_search(starter_problem, strategy=\"a_star\")"
   ]
  },
  {
   "cell_type": "markdown",
   "id": "5c09db3e",
   "metadata": {},
   "source": [
    "## Example Puzzle 2: Alternate Strategy Comparison\n",
    "\n",
    "Run the same instance under Uniform Cost Search to compare behavior vs. A*."
   ]
  },
  {
   "cell_type": "code",
   "execution_count": 10,
   "id": "b62112e4",
   "metadata": {},
   "outputs": [
    {
     "name": "stdout",
     "output_type": "stream",
     "text": [
      "Running uniform_cost search on: SpellingBeeProblem(letters='ADELOPR', required='O', words=32)\n",
      "Expanding: 'APOL' + 'L' -> 'APOLL'\n",
      "  Step cost: 6.0\n",
      "  New cost: 16.0\n",
      "  Heuristic score: 0.0\n",
      "SearchResult summary:\n",
      "  success: True\n",
      "  goal_state: DOLL\n",
      "  actions: ['D', 'O', 'L', 'L']\n",
      "  cost: 10.0\n",
      "  expansions: 43\n",
      "  explored: 43\n",
      "  frontier_size: 25\n"
     ]
    },
    {
     "data": {
      "text/plain": [
       "SearchResult(success=True, goal_state='DOLL', actions=['D', 'O', 'L', 'L'], cost=10.0, expansions=43, explored=43, frontier_size=25)"
      ]
     },
     "execution_count": 10,
     "metadata": {},
     "output_type": "execute_result"
    }
   ],
   "source": [
    "# # Uncomment to compare strategies once heuristic_fn is operational\n",
    "await run_agentic_search(starter_problem, strategy=\"uniform_cost\")"
   ]
  },
  {
   "cell_type": "markdown",
   "id": "b502b40b",
   "metadata": {},
   "source": [
    "## Your Experiment\n",
    "\n",
    "Define your own Spelling Bee instance or heuristic variant and record results. This could be [today's puzzle](https://www.nytimes.com/puzzles/spelling-bee)."
   ]
  },
  {
   "cell_type": "code",
   "execution_count": 11,
   "id": "dcc3672b",
   "metadata": {},
   "outputs": [
    {
     "name": "stdout",
     "output_type": "stream",
     "text": [
      "Running a_star search on: SpellingBeeProblem(letters='AIZGBNL', required='L', words=10)\n",
      "['Combined analysis:', '- Both collaborators agree that \"ALA\" is 3 letters and the minimum valid word length is 4, so at least one additional letter is required.', '- FeasibilityAnalyst and CompletenessEstimator provide likelihood-style scores (0–7.5) based on presence of the required/center letter and allowed-letter constraints, but those are \"quality\" estimates, not admissible distance estimates.', '- For an admissible heuristic (must never overestimate the true minimal number of letters remaining), the tight lower bound is 1. In all feasible cases you can reach length 4 by adding at least one letter; if the required letter is missing you can still append it as that one letter. If the problem is impossible (required letter disallowed), true cost is infinite, but a finite admissible lower bound remains 1 for reachable states.', '', 'Admissible heuristic (distance-to-goal) therefore: 1.0', '', 'FINAL_SCORE: 1.0']\n",
      "['Both collaborators note ALI is length 3 and needs at least one more letter to meet the ≥4-letter requirement; they give likelihood scores (0–8.5) depending on allowed letters and whether the required/center letter is present. FeasibilityAnalyst and CompletenessEstimator agree common continuations exist if the allowed set includes needed letters, but those are probabilistic quality scores, not admissible distance estimates.', '', 'To be admissible (never overestimate the true minimal remaining letters), we must use the tight lower bound: at least one more letter is required to reach length 4. Even if the state is impossible under the allowed set, a finite heuristic ≤ true cost (which would be infinite) remains admissible.', '', 'FINAL_SCORE: 1.0']\n",
      "['Combined analysis:', '- Both analysts agree ALB is length 3 and the Spelling Bee requires words ≥4 letters, so at least one more letter is needed.', '- They provide likelihood-style scores (0–8.0) depending on whether A/L/B are allowed, whether the required/center letter is among them, and whether extra letters are available. Common continuations (ALBUM, ALBINO, ALBATROSS, etc.) make the prefix promising when allowed letters include useful extras; if any of A/L/B are forbidden the state is impossible.', '- For an admissible heuristic (must never overestimate the true minimal remaining letters), the tight lower bound is 1: you always need at least one additional letter to reach length 4. If the required center letter is currently missing it can in principle be introduced as that extra letter; if the state is impossible the true cost is infinite but a finite admissible lower bound remains 1.', '', 'FINAL_SCORE: 1.0']\n",
      "['Both analysts agree: \"ALL\" is 3 letters and the Spelling Bee minimum is 4, so at least one more letter is required. They give likelihood scores for different allowed/required-letter configurations, but those are probabilistic quality estimates and not admissible distance bounds.', '', 'To be admissible (never overestimate the true minimal letters remaining), use the tight lower bound: one more letter is needed to reach length 4. If the state is impossible under the allowed set, the true cost is infinite, but a finite admissible heuristic must not exceed the true cost and 1.0 remains valid.', '', 'FINAL_SCORE: 1.0']\n",
      "['Both analysts agree \"BAL\" is length 3 and the Spelling Bee requires ≥4 letters, so at least one more letter is needed. They provide likelihood-style scores (0–8.5) that depend on whether B/A/L are allowed, whether the required/center letter is already present, and whether extra useful letters are available—common continuations (BALL, BALM, BALLOT, etc.) make the prefix promising in many cases.', '', 'To be admissible (never overestimate the true minimal number of letters remaining), we must use the tight lower bound: you always need at least one more letter to reach length 4. Even if the state is impossible under the allowed set (true cost infinite), a finite admissible lower bound that never exceeds the true cost is 1.0.', '', 'FINAL_SCORE: 1.0']\n",
      "['Both analysts agree \"BIL\" is length 3 and the Spelling Bee requires words ≥4 letters, so at least one more letter is necessary. They provide likelihood-style scores (0–9.0) depending on whether B/I/L are allowed, whether the required/center letter is already present, and whether extra useful letters are available; in typical favorable settings many common continuations exist (BILL, BILE, BILK, BILLY, BILLOW), giving high quality scores. Those probabilistic scores, however, are not admissible distance estimates.', '', 'To be admissible (never overestimate the true minimal remaining letters), we must report a lower bound on the number of additional letters required. The tight universal lower bound is 1 (one more letter to reach length 4). Even if the state is impossible under the allowed set (true cost infinite), a finite admissible heuristic must not exceed the true cost; 1.0 is therefore safe.', '', 'FINAL_SCORE: 1.0']\n",
      "['Both analysts agree NAI is length 3 and needs at least one more letter to meet the ≥4 requirement; their quality scores (0–8.0) depend on whether N/A/I are allowed, whether the required/center letter is already present, and whether useful extra letters are available (common continuations: NAIL, NAIVE, NAIAD). Those probabilistic scores are informative but are not admissible distance estimates. To be admissible (never overestimate the true minimal remaining letters) the tight universal lower bound is 1: you always need at least one more letter to reach length 4; if the state is impossible the true cost is infinite, but a finite heuristic must not exceed the true cost. FINAL_SCORE: 1.0']\n",
      "['Both collaborators agree: \"LAN\" is a 3-letter prefix and Spelling Bee words must be ≥4 letters, so at least one more letter is required. FeasibilityAnalyst and CompletenessEstimator give likelihood/quality scores that depend on whether L/A/N are allowed, whether the required (center) letter is already present, and whether useful extra letters (D, E, I, etc.) are available (their optimistic scores center around 8–8.5; constrained/impossible cases are 0–3.5). Those are probabilistic plausibility ratings, not admissible distance estimates.', '', 'To ensure admissibility (never overestimate the true minimal remaining letters), use the tight lower bound on remaining letters: one additional letter is required to reach length 4. Even if the state is impossible under the allowed set (true cost infinite), a finite admissible heuristic must not exceed the true cost; 1.0 is therefore safe and tight.', '', 'FINAL_SCORE: 1.0']\n",
      "['Both analysts agree ALAN is length 4 (meets the ≥4 requirement) and give plausibility scores that depend on whether proper nouns are allowed and whether extra letters are available (recommended quality scores ~7.5 for optimistic cases). To be admissible (never overestimate the minimal additional letters needed), we must return a lower bound on letters remaining. Because ALAN already has length ≥4, it could be a valid word as-is in some dictionaries (or with permissive rules), so the tight admissible lower bound on remaining letters is 0. Therefore the admissible heuristic is 0.0.', '', 'FINAL_SCORE: 0.0']\n",
      "['Both analysts agree ALIG is length 4 (meets the ≥4 requirement) and that common continuations (ALIGN with +N, ALIGHT with +HT/ED etc.) make it a strong prefix when extra letters are allowed. Those are plausibility scores, however, not admissible distance estimates.', '', 'An admissible heuristic must never overestimate the true minimal number of additional letters needed. Because ALIG already has length ≥4, the minimal remaining letters could be 0 (if ALIG itself is acceptable under the required/allowed-letter constraints and dictionary rules). Therefore the tight admissible lower bound is 0.0.', '', 'FINAL_SCORE: 0.0']\n",
      "['Both collaborators agree ALBA is length 4 (meets the ≥4 requirement) and give plausibility scores that depend on whether A/L/B are allowed, whether the required/center letter is present, and whether useful extension letters are available (FeasibilityAnalyst and CompletenessEstimator converge on a mid/high-quality score ~6.5 in optimistic scenarios). Those are probabilistic plausibility ratings, not admissible distance estimates.', '', 'To ensure admissibility (never overestimate the true minimal remaining letters), we must return a lower bound on additional letters required. Because ALBA already has length ≥4, the minimal remaining letters could be 0 (ALBA might itself be an acceptable dictionary word under some rules), so the tight admissible lower bound is 0.0.', '', 'FINAL_SCORE: 0.0']\n",
      "['Combined summary:', '- Both collaborators note ALLA is length 4 (meets the ≥4 requirement). They give plausibility scores that vary by allowed letters, required/center-letter inclusion, and dictionary/rules about proper nouns (optimistic quality ≈8.5 if useful extras exist; low/zero in impossible or highly constrained cases).', '- Key admissibility point: an admissible heuristic must never overestimate the true minimal number of additional letters needed. Because ALLA already has length ≥4, the minimum additional letters required could be 0 (if ALLA itself is an accepted word under the puzzle rules and the required center-letter constraint is satisfied). Therefore any admissible finite lower bound must be ≤ 0; the tight admissible lower bound is 0.', '', 'FINAL_SCORE: 0.0']\n",
      "['Both collaborators agree BALI is length 4 (meets the ≥4 requirement) and provide plausibility/quality ratings that depend on allowed letters, required/center-letter inclusion, and whether proper nouns are permitted (FeasibilityAnalyst ~6.5, CompletenessEstimator ~7.0 for optimistic scenarios). Those are informative likelihood scores but are not admissible distance estimates.', '', 'For admissibility (never overestimate the true minimal remaining letters), we must give a lower bound on additional letters required. Because BALI already has length ≥4, the minimal additional letters could be 0 (if BALI satisfies the required-center-letter and dictionary/rules for the puzzle). Therefore the tight admissible lower bound is 0.0.', '', 'FINAL_SCORE: 0.0']\n",
      "['Both collaborators agree BALL is length 4 (meets the ≥4 requirement) and note it is a common, non‑proper English word. If the required/center letter is among {B,A,L} and those letters are allowed, BALL is already a valid answer → zero additional letters required. If the center is missing or letters are forbidden the state may be invalid or require extensions, but an admissible heuristic must be a lower bound on the true minimal remaining letters. The tight admissible lower bound here is 0.0.', '', 'FINAL_SCORE: 0.0']\n",
      "['Both analysts agree: \"BILL\" is length 4 (meets the minimum) and is a very common, non‑proper English word. Their quality scores indicate high likelihood it is a valid Spelling Bee entry when B, I, L are allowed and the required/center letter is one of those—i.e., no further letters are needed. For admissibility (never overestimating the true minimal remaining letters), the tight lower bound is 0 (it may already be a valid answer); therefore the admissible heuristic is 0.0.', '', 'FINAL_SCORE: 0.0']\n",
      "['Both analysts agree: NAIL is length 4 (meets the ≥4 requirement) and is a common English word. Their plausibility/quality scores are high when N,A,I,L are allowed and the required/center letter is one of those (they rate it ~9.0), but those are probabilistic assessments, not admissible distance bounds.', '', 'For an admissible heuristic (must never overestimate the minimal remaining letters), the tight lower bound is 0 because NAIL could already be a valid goal state under the puzzle rules. Even if the state were impossible under some allowed/center constraints (true cost infinite), any finite admissible heuristic must not exceed the true cost; 0.0 is safe and tight.', '', 'FINAL_SCORE: 0.0']\n",
      "['Both analysts agree LANG is length 4 (meets the ≥4 requirement) and is a strong prefix for many common words (LANGUAGE, LANGUID, LANGUOR) when useful extra letters (especially U) are available. Their plausibility/quality scores (low → high) depend on whether the required/center letter and needed extension letters are allowed, but those are probabilistic assessments, not admissible distance bounds.', '', 'For admissibility we must return a lower bound on the number of additional letters required to reach a valid goal. Because LANG already has length ≥4, it could be a valid answer in some rule/dictionary configurations (or might be extended), so the tight admissible lower bound is 0.', '', 'FINAL_SCORE: 0.0']\n",
      "SearchResult summary:\n",
      "  success: True\n",
      "  goal_state: ALAN\n",
      "  actions: ['A', 'L', 'A', 'N']\n",
      "  cost: 10.0\n",
      "  expansions: 18\n",
      "  explored: 18\n",
      "  frontier_size: 8\n"
     ]
    },
    {
     "data": {
      "text/plain": [
       "SearchResult(success=True, goal_state='ALAN', actions=['A', 'L', 'A', 'N'], cost=10.0, expansions=18, explored=18, frontier_size=8)"
      ]
     },
     "execution_count": 11,
     "metadata": {},
     "output_type": "execute_result"
    }
   ],
   "source": [
    "custom_problem = SpellingBeeProblem.from_letters(\n",
    "    letters=[\"A\", \"I\", \"Z\", \"G\", \"B\", \"N\", \"L\"],\n",
    "    required_letter=\"L\",\n",
    ")\n",
    "\n",
    "await run_agentic_search(custom_problem, strategy=\"a_star\")"
   ]
  },
  {
   "cell_type": "markdown",
   "id": "50c59100",
   "metadata": {},
   "source": [
    "## Reflection & Analysis\n",
    "\n",
    "### Heuristic effectiveness\n",
    "The agentic heuristic system effectively guided the search by correctly identifying valid 4-letter dictionary words (DOLL, DOOR, DROP, LOAD, LOOP, etc.) with a score of 0.0, signaling they were already complete and required no additional letters. The system maintained admissibility by assigning 1.0 to all 3-letter prefixes, ensuring it never overestimated the remaining distance since at least one more letter was always needed to reach the 4-letter minimum. The collaboration between FeasibilityAnalyst and CompletenessEstimator provided solid reasoning for each state, and A* completed in 42 expansions versus 43 for uniform cost search for the provided example, showing the heuristic provided measurable guidance.\n",
    "\n",
    "### Failure modes / surprises\n",
    "The heuristic's major weakness was its lack of differentiation between 3-letter prefixes - all received a final score of 1.0 despite sub-agents identifying significant quality differences. For instance, \"PRO\" was rated 8.0 for its many productive continuations while \"ERR\" scored around 6.5-7.0, yet both collapsed to the same final heuristic of 1.0. This over-conservative aggregation meant the search couldn't prioritize more promising paths, essentially reducing A* to behave nearly like uniform cost search. The aggregator's strict interpretation of admissibility sacrificed valuable discriminatory power that the specialist agents had identified.\n",
    "\n",
    "### Cost vs. heuristic alignment\n",
    "The cost function (character count with 1.2x penalty for words >7 letters) and heuristic (remaining letters needed) shared compatible units based on letter count, creating reasonable alignment where f(n) = g(n) + h(n) represented total estimated path length. However, the 1.2x multiplier for longer words introduced a slight scale mismatch - the cost increased faster than linearly while the heuristic decreased linearly. This alignment was sufficient for the search to function properly, but the penalty factor meant that g(n) and h(n) weren't measuring exactly the same \"distance\" metric, potentially affecting the optimality of paths with longer words.\n",
    "\n",
    "### Communication insights\n",
    "The RoundRobinGroupChat pattern with TextMentionTermination provided clear sequential coordination, allowing specialist agents to contribute focused analyses before the aggregator synthesized them into a final score. The structured message flow (Aggregator → FeasibilityAnalyst → CompletenessEstimator → Aggregator) worked well for ensuring all perspectives were captured. However, the overhead of multiple LLM calls per state evaluation (3 agents × ~40 states = 120+ API calls) significantly increased latency compared to a traditional heuristic function. The text-based score parsing (extracting \"SCORE: X.X\" and \"FINAL_SCORE: X.X\") was brittle and occasionally required error handling when formatting varied.\n",
    "\n",
    "### Future improvements\n",
    "The aggregator could preserve more nuance from sub-agent scores rather than collapsing all non-goal 3-letter states to 1.0 - for example, using weighted combinations like (10 - average_score)/10 to maintain some differentiation while staying admissible. Adding a dictionary-aware agent that actually checks if prefixes exist in valid word lists would prevent exploring impossible branches early. Implementing memoization/caching would avoid re-evaluating identical states, dramatically reducing the 120+ LLM calls needed. Finally, experimenting with dynamic agent teams that activate different specialists based on state length or characteristics (e.g., a PangramDetector for longer words) could provide more targeted heuristic estimates for different regions of the search space.Retry"
   ]
  },
  {
   "cell_type": "markdown",
   "id": "a1d173ae",
   "metadata": {},
   "source": [
    "## References\n",
    "\n",
    "- `L3_overview.md`\n",
    "- [AutoGen Documentation](https://microsoft.github.io/autogen/stable/index.html)\n",
    "- [Model Context Protocol](https://modelcontextprotocol.io/docs/getting-started/intro)\n",
    "- [Agent-to-Agent Protocol](https://a2a-protocol.org/latest/)\n",
    "- [NYT Spelling Bee](https://www.nytimes.com/puzzles/spelling-bee)"
   ]
  }
 ],
 "metadata": {
  "kernelspec": {
   "display_name": ".venv",
   "language": "python",
   "name": "python3"
  },
  "language_info": {
   "codemirror_mode": {
    "name": "ipython",
    "version": 3
   },
   "file_extension": ".py",
   "mimetype": "text/x-python",
   "name": "python",
   "nbconvert_exporter": "python",
   "pygments_lexer": "ipython3",
   "version": "3.11.0"
  }
 },
 "nbformat": 4,
 "nbformat_minor": 5
}

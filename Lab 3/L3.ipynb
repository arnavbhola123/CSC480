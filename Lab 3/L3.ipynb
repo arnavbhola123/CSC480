{
 "cells": [
  {
   "cell_type": "markdown",
   "id": "2d8b3187",
   "metadata": {},
   "source": [
    "# CSC 480-F25 Lab 3: Agentic Heuristic Search (NYT Spelling Bee)"
   ]
  },
  {
   "cell_type": "markdown",
   "id": "597fcded",
   "metadata": {},
   "source": [
    "# Authors:"
   ]
  },
  {
   "cell_type": "markdown",
   "id": "ecc34f35",
   "metadata": {},
   "source": [
    "***Arnav Bhola, Pranav Krishna***\n",
    "\n",
    "California Polytechnic State University, San Luis Obispo;\n",
    "\n",
    "Computer Science & Software Engineering Department"
   ]
  },
  {
   "cell_type": "markdown",
   "id": "5d17928c",
   "metadata": {},
   "source": [
    "# Overview\n",
    "\n",
    "This lab focuses on:\n",
    "- Integrating a provided generalized search engine as a tool inside an agentic workflow\n",
    "- Designing an agentic heuristic system that collaborates to estimate $h(n)$ for NYT Spelling Bee states\n",
    "- Implementing a custom cost function $g(n)$ and evaluating search strategies (Uniform Cost, A*)\n",
    "- Coordinating agent communication via MCP-style tool exposure and A2A interactions\n",
    "- Reflecting on how agentic heuristics complement classical search methods\n",
    "\n",
    "NOTE: The Spelling Bee problem definition and generalized search function are provided for you. Your primary work is to wire them into your agentic solution and iterate on the heuristic design (see part 2 of this notebook).\n",
    "\n",
    "## Learning Objectives\n",
    "\n",
    "By the end of this lab, you will be able to:\n",
    "\n",
    "- Integrate a provided generalized search function as a tool within an AutoGen-based agentic system\n",
    "- Design and implement an agent team that produces numeric heuristic estimates to guide search\n",
    "- Define and justify a cost function that complements your heuristic in the Spelling Bee domain\n",
    "- Specify MCP-style tool schemas and A2A message flows for heuristic collaboration\n",
    "- Analyze how different heuristic strategies impact search quality, cost, and convergence"
   ]
  },
  {
   "cell_type": "markdown",
   "id": "c55e9e0d",
   "metadata": {},
   "source": [
    "# Part 1: Agentic Heuristic Design and Planning"
   ]
  },
  {
   "cell_type": "markdown",
   "id": "168872dd",
   "metadata": {},
   "source": [
    "## 1. Problem Statement & Search Context\n",
    "\n",
    "**Provided Problem:** NYT Spelling Bee puzzle instance (letters, required center letter, dictionary utilities)\n",
    "\n",
    "**Goal:** Integrate the provided Spelling Bee problem specification with the generalized search engine and your agentic heuristic.\n",
    "\n",
    "**Task Breakdown:** Outline the high-level steps you will take to reach a working solution.\n",
    "1. Configure SpellingBeeProblem with letters and required center letter\n",
    "2. Expose generalized_search by implementing cost_fn and heuristic_fn wrappers\n",
    "3. Design 2-3 specialized agents that analyze different aspects of state quality\n",
    "4. Use RoundRobinGroupChat to coordinate agents and aggregate scores\n",
    "5. Test on sample puzzles and iterate based on expansion counts"
   ]
  },
  {
   "cell_type": "markdown",
   "id": "56161440",
   "metadata": {},
   "source": [
    "## 2. Agentic Heuristic Team Definition\n",
    "\n",
    "Define the agents who collaborate to estimate $h(n)$ for a given Spelling Bee state. Feel free to use more, or fewer.\n",
    "\n",
    "### Agent 1: FeasibilityAnalyst\n",
    "- **Role:** Constraint checker and dictionary validator\n",
    "- **Responsibilities:** \n",
    "  - Check if state contains only allowed letters\n",
    "  - Verify required letter is present\n",
    "  - Assess if current prefix exists in valid word prefixes\n",
    "- **Inputs:** Current state (partial word), allowed letters, required letter\n",
    "- **Outputs:** Score 0-10 reflecting constraint satisfaction, rationale\n",
    "- **Success Criteria:** Correctly identifies invalid prefixes that can't lead to solutions\n",
    "\n",
    "### Agent 2: CompletenessEstimator  \n",
    "- **Role:** Distance-to-goal estimator\n",
    "- **Responsibilities:**\n",
    "  - Estimate how many more letters needed to form valid word\n",
    "  - Consider minimum word length (4 letters)\n",
    "  - Assess likelihood of common word patterns\n",
    "- **Inputs:** Current state length, min word length, letter usage patterns\n",
    "- **Outputs:** Score 0-10 (higher = closer to completion), rationale\n",
    "- **Success Criteria:** Provides lower scores for short states, higher for near-complete words\n",
    "\n",
    "### Agent 3: HeuristicAggregator\n",
    "- **Role:** Score coordinator and combiner\n",
    "- **Responsibilities:**\n",
    "  - Collect scores from FeasibilityAnalyst and CompletenessEstimator\n",
    "  - Weight and combine scores into single h(n)\n",
    "  - Ensure admissibility (never overestimate distance to goal)\n",
    "- **Inputs:** Sub-agent scores and rationales\n",
    "- **Outputs:** Single numeric FINAL_SCORE\n",
    "- **Success Criteria:** Returns consistent, numeric heuristic values"
   ]
  },
  {
   "cell_type": "markdown",
   "id": "53934c12",
   "metadata": {},
   "source": [
    "## 3. Tool Integration & Coordination Pattern\n",
    "\n",
    "**Chosen Pattern:** Manager-Worker with Sequential Coordination\n",
    "\n",
    "**Justification:**\n",
    "- Manager (HeuristicAggregator) coordinates two specialist workers\n",
    "- Sequential because feasibility must be checked before estimating completeness\n",
    "- Simpler than full collaborative team, reduces message overhead\n",
    "- Clear responsibility boundaries minimize conflicts\n",
    "\n",
    "**Integration Plan:** Outline how you will connect the provided components.\n",
    "- generalized_search calls heuristic_fn(state) whenever it needs h(n)\n",
    "- heuristic_fn creates RoundRobinGroupChat with 3 agents\n",
    "- Agents discuss state in sequence, aggregator produces FINAL_SCORE\n",
    "- cost_fn returns len(next_state) (each letter added costs 1)\n",
    "- Search maintains frontier/explored set; we just provide callbacks"
   ]
  },
  {
   "cell_type": "markdown",
   "id": "cdec6d3d",
   "metadata": {},
   "source": [
    "## 4. Communication Design\n",
    "\n",
    "### Model Context Protocol (MCP)\n",
    "**Tool Schema:** generalized_search exposed as async function\n",
    "- Parameters: problem (SpellingBeeProblem), cost_fn (callable), heuristic_fn (async callable), strategy (str)\n",
    "- Returns: SearchResult with success, goal_state, actions, cost, expansions\n",
    "\n",
    "### Agent-to-Agent (A2A) Interactions\n",
    "\n",
    "Describe the kind of communications you expect from your system.\n",
    "\n",
    "#### Interaction 1: HeuristicAggregator → FeasibilityAnalyst\n",
    "- **Purpose:** Request constraint analysis for current state\n",
    "- **Key Fields:** state string, allowed letters, required letter\n",
    "- **Message Format:** \"Evaluate feasibility for state: {state}\"\n",
    "\n",
    "#### Interaction 2: HeuristicAggregator → CompletenessEstimator  \n",
    "- **Purpose:** Request distance-to-goal estimate\n",
    "- **Key Fields:** state string, state length, min required length\n",
    "- **Message Format:** \"Estimate completeness for state: {state}\"\n",
    "\n",
    "#### Interaction 3: Sub-agents → HeuristicAggregator\n",
    "- **Purpose:** Return partial scores with reasoning\n",
    "- **Key Fields:** Numeric score, rationale text with \"SCORE: X.X\"\n",
    "- **Message Format:** Text ending with \"SCORE: <float>\"\n",
    "\n",
    "*(Add more interactions as needed.)*"
   ]
  },
  {
   "cell_type": "markdown",
   "id": "eacb6914",
   "metadata": {},
   "source": [
    "# Part 2: Integrating the Generalized Search Tool"
   ]
  },
  {
   "cell_type": "markdown",
   "id": "2c1fd14e",
   "metadata": {},
   "source": [
    "## Environment Setup\n",
    "\n",
    "Install required packages and configure model access before running the agentic heuristic experiments."
   ]
  },
  {
   "cell_type": "code",
   "execution_count": 1,
   "id": "0c2d75f5",
   "metadata": {},
   "outputs": [
    {
     "name": "stdout",
     "output_type": "stream",
     "text": [
      "Requirement already satisfied: autogen-core in c:\\pranav files\\college work\\csc 480\\lab3\\.venv\\lib\\site-packages (0.7.5)\n",
      "Requirement already satisfied: autogen-agentchat in c:\\pranav files\\college work\\csc 480\\lab3\\.venv\\lib\\site-packages (0.7.5)\n",
      "Requirement already satisfied: python-dotenv in c:\\pranav files\\college work\\csc 480\\lab3\\.venv\\lib\\site-packages (1.1.1)\n",
      "Requirement already satisfied: autogen-ext[azure,openai] in c:\\pranav files\\college work\\csc 480\\lab3\\.venv\\lib\\site-packages (0.7.5)\n",
      "Requirement already satisfied: jsonref~=1.1.0 in c:\\pranav files\\college work\\csc 480\\lab3\\.venv\\lib\\site-packages (from autogen-core) (1.1.0)\n",
      "Requirement already satisfied: opentelemetry-api>=1.34.1 in c:\\pranav files\\college work\\csc 480\\lab3\\.venv\\lib\\site-packages (from autogen-core) (1.37.0)\n",
      "Requirement already satisfied: pillow>=11.0.0 in c:\\pranav files\\college work\\csc 480\\lab3\\.venv\\lib\\site-packages (from autogen-core) (11.3.0)\n",
      "Requirement already satisfied: protobuf~=5.29.3 in c:\\pranav files\\college work\\csc 480\\lab3\\.venv\\lib\\site-packages (from autogen-core) (5.29.5)\n",
      "Requirement already satisfied: pydantic<3.0.0,>=2.10.0 in c:\\pranav files\\college work\\csc 480\\lab3\\.venv\\lib\\site-packages (from autogen-core) (2.12.0)\n",
      "Requirement already satisfied: typing-extensions>=4.0.0 in c:\\pranav files\\college work\\csc 480\\lab3\\.venv\\lib\\site-packages (from autogen-core) (4.15.0)\n",
      "Requirement already satisfied: annotated-types>=0.6.0 in c:\\pranav files\\college work\\csc 480\\lab3\\.venv\\lib\\site-packages (from pydantic<3.0.0,>=2.10.0->autogen-core) (0.7.0)\n",
      "Requirement already satisfied: pydantic-core==2.41.1 in c:\\pranav files\\college work\\csc 480\\lab3\\.venv\\lib\\site-packages (from pydantic<3.0.0,>=2.10.0->autogen-core) (2.41.1)\n",
      "Requirement already satisfied: typing-inspection>=0.4.2 in c:\\pranav files\\college work\\csc 480\\lab3\\.venv\\lib\\site-packages (from pydantic<3.0.0,>=2.10.0->autogen-core) (0.4.2)\n",
      "Requirement already satisfied: azure-ai-inference>=1.0.0b9 in c:\\pranav files\\college work\\csc 480\\lab3\\.venv\\lib\\site-packages (from autogen-ext[azure,openai]) (1.0.0b9)\n",
      "Requirement already satisfied: azure-ai-projects>=1.0.0b11 in c:\\pranav files\\college work\\csc 480\\lab3\\.venv\\lib\\site-packages (from autogen-ext[azure,openai]) (1.1.0b4)\n",
      "Requirement already satisfied: azure-core in c:\\pranav files\\college work\\csc 480\\lab3\\.venv\\lib\\site-packages (from autogen-ext[azure,openai]) (1.35.1)\n",
      "Requirement already satisfied: azure-identity in c:\\pranav files\\college work\\csc 480\\lab3\\.venv\\lib\\site-packages (from autogen-ext[azure,openai]) (1.25.1)\n",
      "Requirement already satisfied: azure-search-documents>=11.4.0 in c:\\pranav files\\college work\\csc 480\\lab3\\.venv\\lib\\site-packages (from autogen-ext[azure,openai]) (11.5.3)\n",
      "Requirement already satisfied: aiofiles in c:\\pranav files\\college work\\csc 480\\lab3\\.venv\\lib\\site-packages (from autogen-ext[azure,openai]) (24.1.0)\n",
      "Requirement already satisfied: openai>=1.93 in c:\\pranav files\\college work\\csc 480\\lab3\\.venv\\lib\\site-packages (from autogen-ext[azure,openai]) (2.2.0)\n",
      "Requirement already satisfied: tiktoken>=0.8.0 in c:\\pranav files\\college work\\csc 480\\lab3\\.venv\\lib\\site-packages (from autogen-ext[azure,openai]) (0.12.0)\n",
      "Requirement already satisfied: isodate>=0.6.1 in c:\\pranav files\\college work\\csc 480\\lab3\\.venv\\lib\\site-packages (from azure-ai-inference>=1.0.0b9->autogen-ext[azure,openai]) (0.7.2)\n",
      "Requirement already satisfied: azure-storage-blob>=12.15.0 in c:\\pranav files\\college work\\csc 480\\lab3\\.venv\\lib\\site-packages (from azure-ai-projects>=1.0.0b11->autogen-ext[azure,openai]) (12.26.0)\n",
      "Requirement already satisfied: azure-ai-agents>=1.2.0b3 in c:\\pranav files\\college work\\csc 480\\lab3\\.venv\\lib\\site-packages (from azure-ai-projects>=1.0.0b11->autogen-ext[azure,openai]) (1.2.0b5)\n",
      "Requirement already satisfied: requests>=2.21.0 in c:\\pranav files\\college work\\csc 480\\lab3\\.venv\\lib\\site-packages (from azure-core->autogen-ext[azure,openai]) (2.32.5)\n",
      "Requirement already satisfied: six>=1.11.0 in c:\\pranav files\\college work\\csc 480\\lab3\\.venv\\lib\\site-packages (from azure-core->autogen-ext[azure,openai]) (1.17.0)\n",
      "Requirement already satisfied: azure-common>=1.1 in c:\\pranav files\\college work\\csc 480\\lab3\\.venv\\lib\\site-packages (from azure-search-documents>=11.4.0->autogen-ext[azure,openai]) (1.1.28)\n",
      "Requirement already satisfied: cryptography>=2.1.4 in c:\\pranav files\\college work\\csc 480\\lab3\\.venv\\lib\\site-packages (from azure-storage-blob>=12.15.0->azure-ai-projects>=1.0.0b11->autogen-ext[azure,openai]) (46.0.2)\n",
      "Requirement already satisfied: cffi>=2.0.0 in c:\\pranav files\\college work\\csc 480\\lab3\\.venv\\lib\\site-packages (from cryptography>=2.1.4->azure-storage-blob>=12.15.0->azure-ai-projects>=1.0.0b11->autogen-ext[azure,openai]) (2.0.0)\n",
      "Requirement already satisfied: pycparser in c:\\pranav files\\college work\\csc 480\\lab3\\.venv\\lib\\site-packages (from cffi>=2.0.0->cryptography>=2.1.4->azure-storage-blob>=12.15.0->azure-ai-projects>=1.0.0b11->autogen-ext[azure,openai]) (2.23)\n",
      "Requirement already satisfied: anyio<5,>=3.5.0 in c:\\pranav files\\college work\\csc 480\\lab3\\.venv\\lib\\site-packages (from openai>=1.93->autogen-ext[azure,openai]) (4.11.0)\n",
      "Requirement already satisfied: distro<2,>=1.7.0 in c:\\pranav files\\college work\\csc 480\\lab3\\.venv\\lib\\site-packages (from openai>=1.93->autogen-ext[azure,openai]) (1.9.0)\n",
      "Requirement already satisfied: httpx<1,>=0.23.0 in c:\\pranav files\\college work\\csc 480\\lab3\\.venv\\lib\\site-packages (from openai>=1.93->autogen-ext[azure,openai]) (0.28.1)\n",
      "Requirement already satisfied: jiter<1,>=0.4.0 in c:\\pranav files\\college work\\csc 480\\lab3\\.venv\\lib\\site-packages (from openai>=1.93->autogen-ext[azure,openai]) (0.11.0)\n",
      "Requirement already satisfied: sniffio in c:\\pranav files\\college work\\csc 480\\lab3\\.venv\\lib\\site-packages (from openai>=1.93->autogen-ext[azure,openai]) (1.3.1)\n",
      "Requirement already satisfied: tqdm>4 in c:\\pranav files\\college work\\csc 480\\lab3\\.venv\\lib\\site-packages (from openai>=1.93->autogen-ext[azure,openai]) (4.67.1)\n",
      "Requirement already satisfied: idna>=2.8 in c:\\pranav files\\college work\\csc 480\\lab3\\.venv\\lib\\site-packages (from anyio<5,>=3.5.0->openai>=1.93->autogen-ext[azure,openai]) (3.10)\n",
      "Requirement already satisfied: certifi in c:\\pranav files\\college work\\csc 480\\lab3\\.venv\\lib\\site-packages (from httpx<1,>=0.23.0->openai>=1.93->autogen-ext[azure,openai]) (2025.10.5)\n",
      "Requirement already satisfied: httpcore==1.* in c:\\pranav files\\college work\\csc 480\\lab3\\.venv\\lib\\site-packages (from httpx<1,>=0.23.0->openai>=1.93->autogen-ext[azure,openai]) (1.0.9)\n",
      "Requirement already satisfied: h11>=0.16 in c:\\pranav files\\college work\\csc 480\\lab3\\.venv\\lib\\site-packages (from httpcore==1.*->httpx<1,>=0.23.0->openai>=1.93->autogen-ext[azure,openai]) (0.16.0)\n",
      "Requirement already satisfied: importlib-metadata<8.8.0,>=6.0 in c:\\pranav files\\college work\\csc 480\\lab3\\.venv\\lib\\site-packages (from opentelemetry-api>=1.34.1->autogen-core) (8.7.0)\n",
      "Requirement already satisfied: zipp>=3.20 in c:\\pranav files\\college work\\csc 480\\lab3\\.venv\\lib\\site-packages (from importlib-metadata<8.8.0,>=6.0->opentelemetry-api>=1.34.1->autogen-core) (3.23.0)\n",
      "Requirement already satisfied: charset_normalizer<4,>=2 in c:\\pranav files\\college work\\csc 480\\lab3\\.venv\\lib\\site-packages (from requests>=2.21.0->azure-core->autogen-ext[azure,openai]) (3.4.3)\n",
      "Requirement already satisfied: urllib3<3,>=1.21.1 in c:\\pranav files\\college work\\csc 480\\lab3\\.venv\\lib\\site-packages (from requests>=2.21.0->azure-core->autogen-ext[azure,openai]) (2.5.0)\n",
      "Requirement already satisfied: regex>=2022.1.18 in c:\\pranav files\\college work\\csc 480\\lab3\\.venv\\lib\\site-packages (from tiktoken>=0.8.0->autogen-ext[azure,openai]) (2025.9.18)\n",
      "Requirement already satisfied: colorama in c:\\pranav files\\college work\\csc 480\\lab3\\.venv\\lib\\site-packages (from tqdm>4->openai>=1.93->autogen-ext[azure,openai]) (0.4.6)\n",
      "Requirement already satisfied: msal>=1.30.0 in c:\\pranav files\\college work\\csc 480\\lab3\\.venv\\lib\\site-packages (from azure-identity->autogen-ext[azure,openai]) (1.34.0)\n",
      "Requirement already satisfied: msal-extensions>=1.2.0 in c:\\pranav files\\college work\\csc 480\\lab3\\.venv\\lib\\site-packages (from azure-identity->autogen-ext[azure,openai]) (1.3.1)\n",
      "Requirement already satisfied: PyJWT<3,>=1.0.0 in c:\\pranav files\\college work\\csc 480\\lab3\\.venv\\lib\\site-packages (from PyJWT[crypto]<3,>=1.0.0->msal>=1.30.0->azure-identity->autogen-ext[azure,openai]) (2.10.1)\n",
      "Note: you may need to restart the kernel to use updated packages.\n"
     ]
    }
   ],
   "source": [
    "%pip install \"autogen-core\" \"autogen-agentchat\" \"autogen-ext[openai,azure]\" \"python-dotenv\""
   ]
  },
  {
   "cell_type": "code",
   "execution_count": 2,
   "id": "0678a3ac",
   "metadata": {},
   "outputs": [],
   "source": [
    "import os\n",
    "import asyncio\n",
    "from dataclasses import asdict\n",
    "\n",
    "from autogen_agentchat.agents import AssistantAgent\n",
    "from autogen_agentchat.conditions import TextMentionTermination\n",
    "from autogen_agentchat.teams import RoundRobinGroupChat\n",
    "from autogen_agentchat.base import TaskResult\n",
    "from autogen_ext.models.openai import AzureOpenAIChatCompletionClient\n",
    "\n",
    "from utils import SpellingBeeProblem, SearchResult, generalized_search"
   ]
  },
  {
   "cell_type": "code",
   "execution_count": 3,
   "id": "7399f3d1",
   "metadata": {},
   "outputs": [],
   "source": [
    "from pathlib import Path\n",
    "from dotenv import load_dotenv"
   ]
  },
  {
   "cell_type": "code",
   "execution_count": 4,
   "id": "c257eeb8",
   "metadata": {},
   "outputs": [],
   "source": [
    "cwd = Path.cwd()\n",
    "env_path = cwd.parent / \".env\"\n",
    "loaded = load_dotenv(env_path)"
   ]
  },
  {
   "cell_type": "code",
   "execution_count": 5,
   "id": "61e72813",
   "metadata": {},
   "outputs": [],
   "source": [
    "# Just like in the other labs\n",
    "azure_deployment = os.getenv(\"AZURE_DEPLOYMENT_NAME\")\n",
    "api_version = \"2024-12-01-preview\" \n",
    "azure_endpoint = os.getenv(\"AZURE_ENDPOINT\")\n",
    "# Expect AZURE_SUBSCRIPTION_KEY to be set in environment variables"
   ]
  },
  {
   "cell_type": "markdown",
   "id": "2575983f",
   "metadata": {},
   "source": [
    "## Agentic Heuristic Architecture Blueprint\n",
    "\n",
    "Based on the overview, sketch out how your heuristic agents and the generalized search tool interact:\n",
    "- **Feasibility Agent**: Evaluates constraint satisfaction and dictionary viability.\n",
    "- **Completeness Agent**: Estimates remaining effort to reach a valid Spelling Bee solution.\n",
    "- **Score Aggregator Agent**: Combines the scores and analysis of other agents into a final score.\n",
    "- *(Optional)* Additional agents for scoring letter diversity, pangram potential, etc.\n",
    "\n",
    "NOTE: The below system is just a example. Feel free to make it your own as you designed in part 1."
   ]
  },
  {
   "cell_type": "code",
   "execution_count": 6,
   "id": "2b5946f6",
   "metadata": {},
   "outputs": [],
   "source": [
    "def setup_agentic_heuristic_system():\n",
    "    \"\"\"Instantiate heuristic agents for Spelling Bee state evaluation.\"\"\"\n",
    "    client = AzureOpenAIChatCompletionClient(\n",
    "        azure_deployment=azure_deployment,\n",
    "        model=\"gpt-5-mini\",\n",
    "        api_version=api_version,\n",
    "        azure_endpoint=azure_endpoint,\n",
    "        api_key=os.getenv(\"AZURE_SUBSCRIPTION_KEY\"),\n",
    "    )\n",
    "\n",
    "    feasibility = AssistantAgent(\n",
    "        name=\"FeasibilityAnalyst\",\n",
    "        model_client=client,\n",
    "        system_message=\"\"\"You analyze whether a partial word can become a valid Spelling Bee answer.\n",
    "        This word must contain the required letter and only have allowed letters.\n",
    "        Cost: low (bad), high (excellent). Include rationale and numeric score (0-10) line 'SCORE: <float>'.\"\"\",\n",
    "    )\n",
    "\n",
    "    completeness = AssistantAgent(\n",
    "        name=\"CompletenessEstimator\",\n",
    "        model_client=client,\n",
    "        system_message=\"\"\"You estimate remaining effort to reach a full valid word. \n",
    "        Consider minimum word length (4 letters)\n",
    "        Assess likelihood of common word patterns\n",
    "        Cost: low (far) to high (close). Include rationale and numeric score (0-10 ; higher = closer to completion) line 'SCORE: <float>'.\"\"\",\n",
    "    )\n",
    "\n",
    "    aggregator = AssistantAgent(\n",
    "        name=\"HeuristicAggregator\",\n",
    "        model_client=client,\n",
    "        system_message=\"\"\"\n",
    "        You coordinate heuristic scoring for Spelling Bee nodes.\n",
    "        You will:\n",
    "        1. Consider analyses from collaborators.\n",
    "        2. Combine their numeric scores and rationales.\n",
    "        3. Ensure admissibility (never overestimate distance to goal)\n",
    "        4. Return a single numeric heuristic estimate h(n).\n",
    "        Always end responses with FINAL_SCORE: <float>.\"\"\",\n",
    "    )\n",
    "\n",
    "    return feasibility, completeness, aggregator"
   ]
  },
  {
   "cell_type": "code",
   "execution_count": 7,
   "id": "8d32132e",
   "metadata": {},
   "outputs": [],
   "source": [
    "def cost_fn(parent_state, action, next_state) -> float:\n",
    "    \"\"\"\n",
    "    Return the incremental cost g(n) for moving to next_state.\n",
    "    Customize this to reflect letter usage, word length, or other criteria.\n",
    "\n",
    "    Args:\n",
    "        parent_state: The current sub-word.\n",
    "        action: The next letter added.\n",
    "        next_state: The sub-word after adding the action letter.\n",
    "    Returns:\n",
    "        A numeric cost value (float).\n",
    "    \"\"\"\n",
    "    # Slightly penalize longer words to find solutions faster.\n",
    "    if(len(parent_state) + len(next_state) > 7):\n",
    "        return len(next_state) * 1.2\n",
    "    else:\n",
    "        return len(next_state)"
   ]
  },
  {
   "cell_type": "code",
   "execution_count": 12,
   "id": "562f3961",
   "metadata": {},
   "outputs": [],
   "source": [
    "async def run_agentic_search(\n",
    "    spelling_bee: SpellingBeeProblem, strategy: str = \"a_star\"\n",
    "):\n",
    "    \"\"\"Execute the generalized search with your cost and heuristic functions.\"\"\"\n",
    "    feasibility, completeness, aggregator = setup_agentic_heuristic_system()\n",
    "\n",
    "    async def heuristic_fn(state, min_state_len=3) -> float:\n",
    "        \"\"\"\n",
    "        Delegate to the agentic heuristic system to compute h(n) for `state`. In our problem space,\n",
    "        state is a partial word. You will need to implement the logic to send messages to your agents,\n",
    "        gather their responses, and compute a final numeric heuristic value.\n",
    "\n",
    "        Args:\n",
    "            state: The current state (partial word) to evaluate.\n",
    "        Returns:\n",
    "            A numeric heuristic estimate (float).\n",
    "        \"\"\"\n",
    "        if len(state) < min_state_len:\n",
    "            # No heuristic value for very short states\n",
    "            # There isn't enough information to evaluate\n",
    "            return 0.0\n",
    "\n",
    "        # See https://microsoft.github.io/autogen/stable//reference/python/autogen_agentchat.teams.html\n",
    "        team = RoundRobinGroupChat(\n",
    "            [feasibility, completeness, aggregator],\n",
    "            termination_condition=TextMentionTermination(\"FINAL_SCORE:\"),\n",
    "        )\n",
    "\n",
    "        # Get the result from the team\n",
    "        messages_generator = team.run_stream(\n",
    "            task=f\"Evaluate heuristic for state: {state}\", output_task_messages=False\n",
    "        )\n",
    "        async for message in messages_generator:\n",
    "            if isinstance(message, TaskResult):\n",
    "                response = message.messages[-1].content\n",
    "                break\n",
    "\n",
    "        # Parse the numeric score from the orchestrator's response\n",
    "        try:\n",
    "            print([line for line in response.splitlines()])\n",
    "            score_line = next(\n",
    "                line for line in response.splitlines() if \"FINAL_SCORE:\" in line\n",
    "            )\n",
    "            start_idx = score_line.index(\"FINAL_SCORE:\") + len(\"FINAL_SCORE:\")\n",
    "            end_idx = score_line.index(\".\", start_idx) + 1\n",
    "            final_score = float(score_line[start_idx:end_idx].strip())\n",
    "            return final_score\n",
    "        except (StopIteration, ValueError, IndexError):\n",
    "            print(\"Failed to parse score from orchestrator response. Defaulting to 0.0\")\n",
    "            return 0.0\n",
    "\n",
    "    print(f\"Running {strategy} search on: {spelling_bee}\")\n",
    "\n",
    "    result: SearchResult = await generalized_search(\n",
    "        problem=spelling_bee,\n",
    "        cost_fn=cost_fn,\n",
    "        heuristic_fn=heuristic_fn,\n",
    "        strategy=strategy,\n",
    "        max_expansions=43,  # May want to set this for debugging\n",
    "        verbose=True,\n",
    "    )\n",
    "\n",
    "    result_summary = asdict(result)\n",
    "    print(\"SearchResult summary:\")\n",
    "    for key, value in result_summary.items():\n",
    "        print(f\"  {key}: {value}\")\n",
    "\n",
    "    return result"
   ]
  },
  {
   "cell_type": "markdown",
   "id": "11e27464",
   "metadata": {},
   "source": [
    "## Example Puzzle 1: Starter Configuration\n",
    "\n",
    "Test the integrated system on a small Spelling Bee instance provided with the lab."
   ]
  },
  {
   "cell_type": "code",
   "execution_count": 13,
   "id": "7224610e",
   "metadata": {},
   "outputs": [
    {
     "name": "stdout",
     "output_type": "stream",
     "text": [
      "Running a_star search on: SpellingBeeProblem(letters='ADELOPR', required='O', words=32)\n",
      "['Both analysts note APO is a promising 3-letter prefix (common continuations) but not yet a valid 4+ entry; their closeness scores average ~6.25 (high likelihood under favorable tiles). However, to ensure admissibility (never overestimate the true remaining cost), I must return a lower-bound on the remaining effort. Without knowledge of the allowed/required-letter set, the only guaranteed necessary work is adding at least one letter to reach the minimum length of 4. Therefore the admissible heuristic (a guaranteed lower bound on distance-to-go) is 1.0.', '', 'FINAL_SCORE: 1.0']\n",
      "['FeasibilityAnalyst: DOL is a promising 3-letter fragment with many common continuations (dole, doll, dolt, dollar, dolce, doldrums), scored 7.0.', 'CompletenessEstimator: also rates DOL as close to completion (often 1–2 letters away) and scores 7.5.', '', 'Combined view: both analysts agree DOL has high likelihood of being extendable into valid 4+ words under typical allowed-letter sets; common one-letter extensions (e.g., E, L, T) often suffice.', '', 'Admissibility check: to be admissible (never overestimate remaining distance to a goal), the heuristic must be a guaranteed lower bound on the actual work required. Since DOL is length 3 and the Spelling Bee minimum length is 4, at least one additional letter is always required regardless of other tiles. Therefore the admissible lower-bound heuristic is 1.0.', '', 'FINAL_SCORE: 1.0']\n",
      "['Both analysts agree DOO is a strong 3-letter fragment with many common one-letter extensions (door, doom) and longer continuations (doodle, doodad, doozy), scoring 7.0 each for closeness under typical tile sets.', '', 'Admissibility check: the heuristic h(n) must be a guaranteed lower bound on the remaining effort (distance to a valid 4+ entry). Since DOO has length 3 and the Spelling Bee minimum is 4, at least one additional letter is always required regardless of allowed/required tiles. Therefore any admissible heuristic cannot exceed 1.0.', '', 'FINAL_SCORE: 1.0']\n",
      "['Both analysts agree DRO is a very productive 3-letter onset with many common one-letter extensions (drop, droop, drool, dross, droll, drone, droplet, droid). Feasibility score averages ~7.25 (good likelihood under typical tiles). However, to be admissible (never overestimate remaining distance), the heuristic must be a guaranteed lower bound on the letters/effort still required. DRO is length 3 and the Spelling Bee minimum is 4, so at least one additional letter is always required in the best case. Therefore the admissible heuristic is 1.0.', '', 'FINAL_SCORE: 1.0']\n",
      "['FeasibilityAnalyst scores ERR = 6.5 (productive stem with common continuations); CompletenessEstimator scores ERR = 7.0 (often only one added letter needed). Combined view: both agree ERR is a strong 3-letter stem with multiple high-frequency 4+ continuations (errs, error, erred, errand, errant, errata), so under typical tiles it is close to completion (average score ≈ 6.75).', '', 'Admissibility check: an admissible heuristic must be a guaranteed lower bound on the remaining effort. ERR has length 3 and the Spelling Bee minimum is 4, so regardless of allowed/required letters at least one additional letter insertion is always required. Therefore the admissible heuristic value is 1.0.', '', 'FINAL_SCORE: 1.0']\n",
      "['FeasibilityAnalyst: LOA = 7.0 (productive 3-letter fragment with many common one-letter extensions: load, loan, loaf, loam).', 'CompletenessEstimator: LOA = 7.5 (often only one added letter needed under typical tile sets).', '', 'Combined view: both agree LOA is a strong 3-letter onset with frequent 4-letter continuations; average closeness ≈ 7.25 under typical allowed/required-letter conditions.', '', 'Admissibility check: to be admissible (never overestimate remaining distance), the heuristic must be a guaranteed lower bound on the true remaining effort. LOA is length 3 and the Spelling Bee minimum is 4, so at least one additional letter is always required. Therefore the admissible heuristic value is 1.0.', '', 'FINAL_SCORE: 1.0']\n",
      "['FeasibilityAnalyst: LOO = 7.0 (productive 3-letter fragment with many common one-letter extensions: loop, look, loom, loot, loose).', 'CompletenessEstimator: LOO = 7.5 (often only one added letter needed under typical tiles).', 'Combined view: both agree LOO is a very strong 3-letter onset with many high-frequency 4+ continuations; average closeness ≈ 7.25.', '', 'Admissibility check: to be admissible (never overestimate remaining distance), the heuristic must be a guaranteed lower bound on actual remaining effort. LOO has length 3 and the Spelling Bee minimum is 4, so at least one additional letter is always required regardless of allowed/required tiles. Therefore the admissible heuristic is 1.0.', '', 'FINAL_SCORE: 1.0']\n",
      "['FeasibilityAnalyst: LOR = 6.5 — a plausible 3-letter fragment with common continuations (lore, lord, lory, lorn) and some longer forms; often extendable under typical tiles.', 'CompletenessEstimator: LOR = 7.0 — solid 3-letter fragment usually only one letter away from a valid 4+ word under typical allowed/required-letter sets.', 'Combined view: both analysts agree LOR is a reasonably productive onset with multiple one-letter completions in many tile configurations (average closeness ≈ 6.75).', '', 'Admissibility check: the heuristic must be a guaranteed lower bound on remaining effort (distance-to-go). LOR has length 3 and Spelling Bee answers require minimum length 4, so at least one additional letter is always required regardless of allowed/required letters. Therefore the admissible heuristic is 1.0.', '', 'FINAL_SCORE: 1.0']\n",
      "['FeasibilityAnalyst: OLD = 7.0 (common short continuations like older, oldest, olden).', 'CompletenessEstimator: OLD = 7.5 (often one letter away under typical tiles).', 'Combined (average) closeness ≈ 7.25.', '', 'Admissibility check: to be admissible the heuristic must be a guaranteed lower bound on remaining effort. OLD has length 3 and Spelling Bee answers require minimum length 4, so at least one additional letter is always required. Therefore the admissible heuristic is 1.0.', '', 'FINAL_SCORE: 1.0']\n",
      "['FeasibilityAnalyst: OPE = 7.0 (productive 3‑letter fragment with many common one‑letter continuations: open, opera, opened, opener, etc.).', 'CompletenessEstimator: OPE = 7.5 (often only one letter away under typical tiles).', 'Combined (average) closeness ≈ 7.25 — both agree OPE is highly likely to be extendable given typical allowed/required letters.', '', 'Admissibility check: to be admissible the heuristic must never overestimate the true remaining effort. OPE has length 3 and Spelling Bee answers require minimum length 4, so at least one additional letter is always required regardless of allowed/required tiles. Therefore the only guaranteed lower bound on distance-to-go is 1.0.', '', 'FINAL_SCORE: 1.0']\n",
      "['FeasibilityAnalyst scores ORA = 6.5 (viable 3-letter fragment with continuations like oral, orate, oration, oracle, orange). CompletenessEstimator scores ORA = 7.0 (often one letter away under typical tiles). Combined view: both agree ORA is a productive onset with several realistic one- or two-letter extensions (average ≈ 6.75).', '', 'Admissibility check: to be admissible the heuristic must never overestimate the true remaining effort. ORA is length 3 and Spelling Bee answers require minimum length 4, so at least one additional letter is always required regardless of allowed/required tiles. Therefore the only guaranteed lower bound on distance-to-go is 1.0.', '', 'FINAL_SCORE: 1.0']\n",
      "['FeasibilityAnalyst: ORD = 6.5 (reasonable 3-letter fragment with common continuations like order, ordeal, ordain, but fewer immediate 4-letter hits).', 'CompletenessEstimator: ORD = 6.5 (solid stem but often requires 1–3 added letters; more conditional than the most productive onsets).', 'Combined view: both analysts agree ORD is a useful fragment with realistic paths to valid words under typical tiles; average closeness ≈ 6.5.', '', 'Admissibility check: the heuristic must be a guaranteed lower bound on the true remaining effort (distance to a valid 4+ entry). ORD has length 3 and Spelling Bee answers require minimum length 4, so at least one additional letter is always required regardless of allowed/required tiles. Therefore the only admissible lower-bound heuristic value is 1.0.', '', 'FINAL_SCORE: 1.0']\n",
      "['FeasibilityAnalyst: PEO = 7.0 (promising 3‑letter fragment with common continuations peon, people, peony).', 'CompletenessEstimator: PEO = 7.0 (often one letter away; people and peon are high‑frequency targets).', '', 'Combined view: both analysts agree PEO is a useful fragment with several realistic one‑ or two‑letter extensions under typical tile sets (average closeness ≈ 7.0). However, to be admissible (never overestimate remaining distance to a valid 4+ entry) the heuristic must be a guaranteed lower bound on the actual letters/effort still required. PEO is length 3 and Spelling Bee answers require at least 4 letters, so at least one additional letter is always needed. Therefore the admissible heuristic (lower bound on distance-to-go) is 1.0.', '', 'FINAL_SCORE: 1.0']\n",
      "['FeasibilityAnalyst: POL = 7.5 (very productive 3-letter fragment with many common continuations: pole, poll, polo, polio, polar, police, policy, polish, polyp, polity, polka, etc.).', 'CompletenessEstimator: POL = 7.5 (often only one letter away — several high-frequency 4‑letter hits and many 5+ continuations).', '', 'Combined view: both analysts agree POL is a highly promising onset with many one‑letter and short extensions (average closeness ≈ 7.5). However, to be admissible the heuristic must be a guaranteed lower bound on the remaining effort (distance to a valid 4+ entry). POL has length 3 and Spelling Bee answers require at least 4 letters, so at least one additional letter is always required regardless of allowed/required tiles. Therefore the admissible heuristic value is 1.0.', '', 'FINAL_SCORE: 1.0']\n",
      "['FeasibilityAnalyst: POO = 7.0 (productive 3-letter fragment with many common continuations: pool, poor, poop, poof, pooch).', 'CompletenessEstimator: POO = 7.0 (often only one letter away under typical tiles).', '', 'Combined view: both analysts agree POO is a very promising 3-letter onset with multiple high-frequency one-letter extensions under typical allowed/required-letter sets (average closeness ≈ 7.0). However, to be admissible the heuristic must be a guaranteed lower bound on the remaining effort (never overestimate distance-to-go). With no knowledge of the allowed/required tiles the only certainty is that POO has length 3 and Spelling Bee answers require at least 4 letters, so at least one additional letter is always required.', '', 'FINAL_SCORE: 1.0']\n",
      "['FeasibilityAnalyst and CompletenessEstimator both rate POP = 7.0 (productive 3‑letter fragment with many common one‑ or two‑letter continuations: pope, pops, poppy, popes, popper, popular, etc.). Combined closeness ≈ 7.0 under typical allowed/required-letter sets.', '', 'Admissibility check: to be admissible the heuristic must never overestimate the true remaining effort. POP has length 3 and Spelling Bee answers require at least 4 letters, so at least one additional letter is always required regardless of allowed/required tiles. Therefore the only guaranteed lower bound on distance-to-go is 1.0.', '', 'FINAL_SCORE: 1.0']\n",
      "['Both analysts rate PRO highly (both gave 8.0) citing that \"pro-\" is an extremely productive onset with many common one‑letter completions (prod, prom, prop, prow) and numerous short/medium continuations (proof, probe, prove, proud, prose, proper, promote, program). Combined assessment: PRO is very likely to be extendable under typical allowed/required tiles and is often only one letter away.', '', 'Admissibility check: to be admissible the heuristic must never overestimate the true remaining effort. PRO has length 3 and Spelling Bee answers require ≥4 letters, so at least one additional letter is always required. Therefore the only guaranteed lower bound on distance‑to‑goal is 1.0.', '', 'FINAL_SCORE: 1.0']\n",
      "['FeasibilityAnalyst: REL = 8.0 (productive onset with many common one‑letter completions: rely, relic, relay, relax, relief, etc.).', 'CompletenessEstimator: REL = 8.0 (often only one letter away; many short/high‑frequency continuations).', '', 'Combined view: both analysts strongly agree REL is highly likely to be extended under typical tiles (average ≈ 8.0). However, to be admissible (never overestimate remaining distance to a valid 4+ entry) the heuristic must be a guaranteed lower bound. REL has length 3 and Spelling Bee answers require ≥4 letters, so at least one additional letter is always required. Therefore the admissible heuristic is:', '', 'FINAL_SCORE: 1.0']\n",
      "['FeasibilityAnalyst: ROA = 8.0 (productive onset with many high‑frequency continuations: road, roar, roam, roast, roach, etc.).', 'CompletenessEstimator: ROA = 8.0 (often only one letter away; many immediate 4‑letter completions).', '', 'Combined view: both analysts strongly agree ROA is a very promising 3‑letter fragment with multiple one‑letter completions in typical tile sets (average closeness ≈ 8.0). However, admissibility requires the heuristic to be a guaranteed lower bound on remaining effort. ROA is length 3 and Spelling Bee answers require at least 4 letters, so at least one additional letter is always needed regardless of allowed/required tiles.', '', 'FINAL_SCORE: 1.0']\n",
      "['FeasibilityAnalyst and CompletenessEstimator both rate ROL = 7.0 (productive 3‑letter fragment with immediate 4‑letter hits like role and roll, and common derivatives such as rolls, roller, rolling). Combined view: ROL is usually only one small extension away under typical allowed/required tiles.', '', 'Admissibility check: the heuristic must be a guaranteed lower bound on remaining effort. ROL is length 3 and Spelling Bee answers require at least 4 letters, so at least one additional letter is always required. Therefore the admissible heuristic (never overestimating distance-to-go) is 1.0.', '', 'FINAL_SCORE: 1.0']\n",
      "['FeasibilityAnalyst: ROP = 6.5 (useful fragment with common continuations like rope, ropes, roped).', 'CompletenessEstimator: ROP = 7.0 (often one letter from a valid 4+ word).', '', 'Combined view: average closeness ≈ 6.75 — both analysts agree ROP is a promising 3‑letter onset with one‑letter completions common when appropriate tiles (E, S, D, I, etc.) are available.', '', 'Admissibility check: to be admissible the heuristic must be a guaranteed lower bound on remaining effort. ROP has length 3 and Spelling Bee answers require ≥4 letters, so at least one additional letter is always required regardless of allowed/required tiles. Therefore the admissible heuristic is 1.0.', '', 'FINAL_SCORE: 1.0']\n",
      "['Both analysts agree APOL is a productive 4‑letter prefix with several common continuations (apology, apologist, apologia, apologetic, apolitical) and scored it 7.5 for closeness under typical allowed/required tiles. Combined view: APOL is a focused, high-probability stem that typically needs small additions (often 1–3 letters) to reach a common valid word.', '', 'Admissibility check: to be admissible the heuristic must never overestimate the true remaining effort. Both analysts note APOL is not itself a common standalone word and typically requires at least one added letter to become a valid Spelling Bee entry. Therefore the only guaranteed lower bound on remaining work is 1 letter.', '', 'FINAL_SCORE: 1.0']\n",
      "['FeasibilityAnalyst: DOLL = 8.0 (common 4‑letter word; often immediately valid if required/allowed letters include D,O,L).', 'CompletenessEstimator: DOLL = 8.0 (meets the 4‑letter minimum and is a high‑frequency headword; often usable immediately or with a single small extension).', '', 'Combined view: both analysts strongly agree DOLL is a high‑value fragment and in many tile configurations is already a valid answer.', '', 'Admissibility check: an admissible heuristic must never overestimate the true remaining effort. Because DOLL is already a common 4‑letter word, there exist valid puzzle configurations in which no additional letters are required (remaining effort = 0). Therefore the only guaranteed lower bound on remaining effort across all possible allowed/required‑letter settings is 0.0.', '', 'FINAL_SCORE: 0.0']\n",
      "['FeasibilityAnalyst: DOOR = 8.0 — common 4‑letter word, often immediately valid if the required/center letter is D, O, or R; many short compound/inflectional extensions exist (doors, doorway, doormat, doorknob).', 'CompletenessEstimator: DOOR = 8.0 — meets the 4‑letter minimum and is a very frequent headword; zero added letters required in favorable required/allowed‑letter configurations, small extensions available otherwise.', '', 'Combined view: both analysts strongly agree DOOR is high‑value and typically requires little or no extra work to be a valid Spelling Bee entry when the required/center letter is present. Average closeness ≈ 8.0.', '', 'Admissibility check: an admissible heuristic must never overestimate the true remaining effort. Because DOOR is already a common 4‑letter dictionary word, there exist valid puzzle configurations where remaining effort = 0 (no additional letters needed). Therefore the only guaranteed lower bound on the remaining work is 0.0.', '', 'FINAL_SCORE: 0.0']\n",
      "['Both analysts agree DROP = 8.0 (common 4‑letter word; often immediately valid if the required/center letter is among D,R,O,P; many short extensions exist when needed). Combined assessment: DROP is a high‑value fragment that in typical tile sets is either already valid (zero extra letters) or requires only small extensions.', '', 'Admissibility check: an admissible heuristic must never overestimate the true remaining effort. Because DROP is already a dictionary 4‑letter word, there exist valid puzzle configurations where no additional letters are required (remaining effort = 0). Therefore the only guaranteed lower bound on remaining effort across all possible allowed/required‑letter settings is 0.0.', '', 'FINAL_SCORE: 0.0']\n",
      "['FeasibilityAnalyst: ERRO = 7.0 — a viable 4-letter fragment very close to common words (notably “error”).', 'CompletenessEstimator: ERRO = 9.0 — typically one added letter (R → “error”) yields a common valid word.', '', 'Both analysts agree ERRO is near-complete (most common completion is a single letter to form “error”). To be admissible (never overestimate remaining effort) the heuristic must be a guaranteed lower bound on the letters still required. ERRO is not itself a standard dictionary word, so zero additional letters is not possible; the minimal guaranteed number of additions in the best-case is 1 (adding R to form “error”). Therefore the admissible heuristic is 1.0.', '', 'FINAL_SCORE: 1.0']\n",
      "['FeasibilityAnalyst: LOAD = 8.0 (common 4‑letter word; many short extensions like loads, loaded, loader, loading).', 'CompletenessEstimator: LOAD = 8.0 (meets minimum length and is high‑frequency; often usable immediately or with a single short extension).', '', 'Combined view: both analysts agree LOAD is a high‑value fragment with immediate validity in many tile configurations and easy short extensions otherwise (average ≈ 8.0).', '', 'Admissibility check: an admissible heuristic must never overestimate remaining effort. Because LOAD is already a dictionary 4‑letter word, there exist puzzle configurations where no additional letters are required (remaining effort = 0). The guaranteed lower bound on remaining work is therefore 0.0.', '', 'FINAL_SCORE: 0.0']\n",
      "['Both analysts rate LOOP = 8.0 (common 4-letter headword with many short extensions such as loops, looped, loopy, looping, loophole), and agree it is usually immediately usable or requires at most one small addition under typical tile sets.', '', 'Admissibility check: since LOOP is already a valid 4-letter dictionary word, there exist puzzle configurations where no additional letters are required (remaining effort = 0). An admissible heuristic must be a guaranteed lower bound on remaining effort, so the only safe admissible value is 0.0.', '', 'FINAL_SCORE: 0.0']\n",
      "['FeasibilityAnalyst: LORD = 8.0 (common 4‑letter word, many short extensions; often immediately valid).', 'CompletenessEstimator: LORD = 8.5 (meets minimum length and is high‑frequency; usually immediate or one small extension).', '', 'Combined view: both analysts strongly agree LORD is high‑value and frequently already a usable entry (average closeness ≈ 8.25). However, admissibility requires the heuristic be a guaranteed lower bound on remaining effort. Because LORD is a valid 4‑letter dictionary word, there exist puzzle configurations where no additional letters are required (remaining effort = 0). Therefore the only admissible (never-overestimating) heuristic is 0.0.', '', 'FINAL_SCORE: 0.0']\n",
      "['Both analysts rate OLDE = 7.0 for closeness (productive 4‑letter fragment that usually needs only 0–1 short additions to reach common words like older/olden/oldie). They agree it is highly promising but note OLDE’s standalone acceptability is dictionary‑dependent (archaic/variant spelling).', '', 'Admissibility check: an admissible heuristic must never overestimate the true remaining effort for the actual puzzle instance. Because OLDE is already 4 letters and is accepted as a word in some wordlists (i.e., there exist valid puzzle configurations where no additional letters are required), the only safe guaranteed lower bound across unknown puzzle dictionaries is 0.0 (zero letters required in the best case). Therefore to ensure admissibility I return:', '', 'FINAL_SCORE: 0.0']\n",
      "['FeasibilityAnalyst: OPER = 8.0 (productive 4‑letter prefix with common continuations like opera, operate, operator).', 'CompletenessEstimator: OPER = 8.0 (usually one small addition yields a high‑frequency word).', '', 'Combined view: both analysts strongly agree OPER is near-complete (common one‑ or two‑letter continuations). However, OPER by itself is not generally an accepted standalone headword, so at least one additional letter is required in any standard dictionary to reach a valid word (e.g., add A → opera). The admissible heuristic must be a guaranteed lower bound on remaining effort; therefore the safe admissible value is 1.0.', '', 'FINAL_SCORE: 1.0']\n",
      "['FeasibilityAnalyst: ORAL = 8.0 (common 4‑letter word with short extensions: orals, orally, etc.).', 'CompletenessEstimator: ORAL = 8.0 (meets minimum length and is high‑frequency; typically immediate or one short extension).', '', 'Combined view: both analysts agree ORAL is a high‑value fragment that is often immediately usable or requires only small extensions.', '', 'Admissibility check: because ORAL is already a valid 4‑letter dictionary word, there exist puzzle configurations where no additional letters are required (remaining effort = 0). An admissible heuristic must be a guaranteed lower bound on remaining effort, so the only safe admissible value is 0.0.', '', 'FINAL_SCORE: 0.0']\n",
      "['Both analysts score ORDE = 7.5 (common 4‑letter fragment that is one short step from high‑frequency words like \"order\"/\"orders\" or two letters from \"ordeal\"). Combined view: ORDE is very promising and typically needs only a small addition (most often a single R) to become a standard word.', '', 'Admissibility check: an admissible heuristic must be a guaranteed lower bound on the remaining effort. ORDE is not generally accepted as a standalone dictionary lemma, so there exist no puzzle configurations where zero additional letters are always sufficient; in the best guaranteed case you must add at least one letter (e.g., R → \"order\"). Therefore the admissible lower bound on remaining letters is 1.0.', '', 'FINAL_SCORE: 1.0']\n",
      "['FeasibilityAnalyst: PEOP = 8.0 (very close to high‑frequency targets like \"people\"; requires continuation).', 'CompletenessEstimator: PEOP = 8.5 (typically just +L → \"people\"; often only one letter away).', '', 'Combined assessment: both analysts agree PEOP is a highly promising 4‑letter fragment that most commonly needs a single additional letter (L) to form the frequent word \"people\" (and related forms), giving average closeness ≈ 8.25.', '', 'Admissibility check: PEOP is not generally a standalone dictionary lemma, so zero additional letters is not guaranteed; the minimal guaranteed remaining work is adding at least one letter. To be admissible (never overestimate the true remaining effort), the heuristic must be ≤ that guaranteed lower bound.', '', 'FINAL_SCORE: 1.0']\n",
      "['FeasibilityAnalyst: POLA = 8.0 — a productive 4‑letter fragment (common short completions include POLAR with +R; OPAL is an anagram) and highly likely to become a valid entry with minimal additions.', 'CompletenessEstimator: POLA = 8.0 — typically 0–1 small steps (0 if OPAL as anagram is usable in the puzzle’s rules; 1 if you add R → POLAR).', '', 'Combined: both analysts agree POLA is near‑complete (average closeness ≈ 8.0). Crucially, because POLA’s letters can form the common word OPAL without adding letters (in puzzles that allow reordering) there exist valid configurations where no additional letters are required. To be admissible (never overestimate remaining effort) we must return a lower bound on the remaining work across possible puzzle instances — and that lower bound is 0.', '', 'FINAL_SCORE: 0.0']\n",
      "['Both analysts rate POLE = 8.0 (common 4‑letter word with many short, high‑frequency extensions like poles, polearm, polecat, polemic). Combined assessment: high likelihood of immediate usability or easy extension under typical tile sets.', '', 'Admissibility check: to be admissible the heuristic must be a guaranteed lower bound on remaining effort. POLE is a valid 4‑letter dictionary word, so there are puzzle configurations in which zero additional letters are required (remaining effort = 0). Therefore the only admissible heuristic is 0.0.', '', 'FINAL_SCORE: 0.0']\n",
      "['Both analysts rate POLL highly (8.5 each) because it is a common 4‑letter dictionary word with many short extensions (polls, polled, poller, polling, pollster), so under typical tiles it is immediately usable or needs only a small extension.', '', 'Admissibility check: to be admissible the heuristic must never overestimate the true remaining effort. Because POLL is already a valid 4‑letter word, there exist puzzle configurations where no additional letters are required (remaining effort = 0). Therefore the only guaranteed lower bound on remaining effort is 0.0.', '', 'FINAL_SCORE: 0.0']\n",
      "['FeasibilityAnalyst: POLO = 8.0 (common 4‑letter word; many short extensions like polos, polio).', 'CompletenessEstimator: POLO = 8.0 (meets minimum length and is frequently usable immediately or with a small extension).', '', 'Combined view: both analysts agree POLO is high‑value and often immediately usable under typical tile sets (average closeness ≈ 8.0).', '', 'Admissibility check: to be admissible the heuristic must be a guaranteed lower bound on remaining effort. Because POLO is already a valid 4‑letter dictionary word, there exist puzzle configurations where no additional letters are required (remaining effort = 0). Therefore the only safe admissible heuristic is 0.0.', '', 'FINAL_SCORE: 0.0']\n",
      "['FeasibilityAnalyst: POOL = 8.0 (common 4‑letter word with many short extensions).', 'CompletenessEstimator: POOL = 8.0 (meets minimum length and is often immediately usable).', '', 'Combined view: both analysts agree POOL is high‑value and typically requires little or no extra work under typical tile sets. However, to be admissible the heuristic must never overestimate remaining effort. Because POOL is already a valid 4‑letter dictionary word, there exist puzzle configurations where no additional letters are required (remaining effort = 0). Therefore the only guaranteed lower bound is 0.0.', '', 'FINAL_SCORE: 0.0']\n",
      "['FeasibilityAnalyst: POOR = 8.0 (common 4‑letter word with many short extensions).', 'CompletenessEstimator: POOR = 8.0 (meets minimum length and usually usable as‑is or with a short extension).', '', 'Combined view: both analysts agree POOR is high‑value and typically requires little or no extra work. Their average closeness ≈ 8.0.', '', 'Admissibility check: an admissible heuristic must never overestimate remaining effort. POOR is already a valid 4‑letter dictionary word, so there exist puzzle configurations where no additional letters are required (remaining effort = 0). Therefore the only guaranteed lower bound on remaining effort is 0.0.', '', 'FINAL_SCORE: 0.0']\n",
      "['FeasibilityAnalyst: POPE = 8.0 (common 4‑letter headword with short extensions like popes, popery).  ', 'CompletenessEstimator: POPE = 8.0 (meets minimum length and is usually immediately usable).', '', 'Both analysts agree POPE is high‑value under typical tile sets. However, to be admissible the heuristic must be a guaranteed lower bound on remaining effort (never overestimate). Because POPE is already a standard 4‑letter dictionary word, there exist puzzle configurations where no additional letters are required (remaining effort = 0). Therefore the only safe admissible heuristic is 0.0.', '', 'FINAL_SCORE: 0.0']\n",
      "['FeasibilityAnalyst: PROP = 8.5 (common 4‑letter word with many short, high‑frequency extensions: props, propped, proper, property, propel, prophet).  ', 'CompletenessEstimator: PROP = 8.5 (typically immediate or 1–2 small additions to reach many common derivatives).', '', 'Combined view: both analysts strongly agree PROP is a high‑value fragment and often already usable or easily extended (average closeness ≈ 8.5). However, admissibility requires the heuristic to be a guaranteed lower bound on remaining effort to a valid 4+ entry. PROP is itself a valid 4‑letter dictionary word, so there exist puzzle configurations where zero additional letters are required (remaining effort = 0). Therefore the only admissible (never-overestimating) heuristic is 0.0.', '', 'FINAL_SCORE: 0.0']\n",
      "['Both analysts score RELO = 7.5 (productive 4‑letter prefix with common completions like reload, relocate; typically only a small number of added letters needed). However, to be admissible (never overestimate remaining effort) we must return a guaranteed lower bound on letters still required to reach a valid 4+ word. RELO is not itself a standard standalone lemma in most wordlists, so you cannot rely on zero additional letters; the minimal guaranteed addition is one letter (e.g., add R → \"order\" is not formed from RELO without reordering, typical safe completions need at least +1 such as \"reload\"). Therefore the admissible heuristic is 1.0.', '', 'FINAL_SCORE: 1.0']\n",
      "['FeasibilityAnalyst: ROAD = 8.0 — common 4‑letter word with many short extensions (roads, roadie, roadway, roadside, etc.).  ', 'CompletenessEstimator: ROAD = 8.0 — meets minimum length and is typically immediately usable or easily extended.', '', 'Combined view: both analysts agree ROAD is a high‑value fragment and often immediately valid in typical tile sets. To be admissible (never overestimate remaining effort), the heuristic must be a guaranteed lower bound on letters/effort still required. Because ROAD is already a standard 4‑letter dictionary word, there exist puzzle configurations where no additional letters are required (remaining effort = 0). Therefore the admissible heuristic (lower bound) is 0.0.', '', 'FINAL_SCORE: 0.0']\n",
      "['Both analysts rate ROLE = 8.0 (common 4‑letter dictionary word with immediate validity when the required/center letter is R, O, L, or E, and with easy short extensions like roles). Combined view: high likelihood of immediate usability or only small extension needed under typical tile sets.', '', 'Admissibility check: to be admissible the heuristic must never overestimate remaining effort. ROLE is already a standard 4‑letter word, so there exist puzzle configurations where zero additional letters are required. Therefore the only guaranteed lower bound on remaining effort is 0.0.', '', 'FINAL_SCORE: 0.0']\n",
      "['Both analysts rate ROLL = 8.5 (common 4‑letter lemma with many short, high‑frequency extensions: rolls, rolled, roller, rolling), indicating it is usually immediately usable or only a small extension away.', '', 'Admissibility check: ROLL itself is a valid 4‑letter dictionary word, so there exist puzzle configurations requiring zero additional letters (remaining effort = 0). An admissible heuristic must never overestimate the true remaining effort; therefore the only guaranteed lower bound is 0.0.', '', 'FINAL_SCORE: 0.0']\n",
      "['Both analysts rate ROPE = 8.0 (common 4‑letter headword with many short extensions). However, to be admissible the heuristic must be a guaranteed lower bound on remaining effort. ROPE is already a valid 4‑letter dictionary word, so there exist puzzle configurations requiring zero additional letters. Therefore the admissible heuristic is 0.0.', '', 'FINAL_SCORE: 0.0']\n",
      "SearchResult summary:\n",
      "  success: True\n",
      "  goal_state: DOLL\n",
      "  actions: ['D', 'O', 'L', 'L']\n",
      "  cost: 10.0\n",
      "  expansions: 42\n",
      "  explored: 42\n",
      "  frontier_size: 25\n"
     ]
    },
    {
     "data": {
      "text/plain": [
       "SearchResult(success=True, goal_state='DOLL', actions=['D', 'O', 'L', 'L'], cost=10.0, expansions=42, explored=42, frontier_size=25)"
      ]
     },
     "execution_count": 13,
     "metadata": {},
     "output_type": "execute_result"
    }
   ],
   "source": [
    "# Provided helper will create a Spelling Bee problem instance, e.g. letters=\"ADELOPR\", center=\"O\"\n",
    "starter_problem = SpellingBeeProblem.from_letters(\n",
    "    letters=[\"A\", \"D\", \"E\", \"L\", \"O\", \"P\", \"R\"],\n",
    "    required_letter=\"O\",\n",
    ")\n",
    "\n",
    "# Uncomment to run once cost_fn and heuristic_fn are implemented\n",
    "await run_agentic_search(starter_problem, strategy=\"a_star\")"
   ]
  },
  {
   "cell_type": "markdown",
   "id": "5c09db3e",
   "metadata": {},
   "source": [
    "## Example Puzzle 2: Alternate Strategy Comparison\n",
    "\n",
    "Run the same instance under Uniform Cost Search to compare behavior vs. A*."
   ]
  },
  {
   "cell_type": "code",
   "execution_count": 10,
   "id": "b62112e4",
   "metadata": {},
   "outputs": [
    {
     "name": "stdout",
     "output_type": "stream",
     "text": [
      "Running uniform_cost search on: SpellingBeeProblem(letters='ADELOPR', required='O', words=32)\n",
      "Expanding: 'APOL' + 'L' -> 'APOLL'\n",
      "  Step cost: 6.0\n",
      "  New cost: 16.0\n",
      "  Heuristic score: 0.0\n",
      "SearchResult summary:\n",
      "  success: True\n",
      "  goal_state: DOLL\n",
      "  actions: ['D', 'O', 'L', 'L']\n",
      "  cost: 10.0\n",
      "  expansions: 43\n",
      "  explored: 43\n",
      "  frontier_size: 25\n"
     ]
    },
    {
     "data": {
      "text/plain": [
       "SearchResult(success=True, goal_state='DOLL', actions=['D', 'O', 'L', 'L'], cost=10.0, expansions=43, explored=43, frontier_size=25)"
      ]
     },
     "execution_count": 10,
     "metadata": {},
     "output_type": "execute_result"
    }
   ],
   "source": [
    "# # Uncomment to compare strategies once heuristic_fn is operational\n",
    "await run_agentic_search(starter_problem, strategy=\"uniform_cost\")"
   ]
  },
  {
   "cell_type": "markdown",
   "id": "b502b40b",
   "metadata": {},
   "source": [
    "## Your Experiment\n",
    "\n",
    "Define your own Spelling Bee instance or heuristic variant and record results. This could be [today's puzzle](https://www.nytimes.com/puzzles/spelling-bee)."
   ]
  },
  {
   "cell_type": "code",
   "execution_count": 11,
   "id": "dcc3672b",
   "metadata": {},
   "outputs": [],
   "source": [
    "# custom_problem = SpellingBeeProblem.from_letters(\n",
    "#     letters=[\"A\", \"I\", \"Z\", \"G\", \"B\", \"N\", \"L\"],\n",
    "#     required_letter=\"L\",\n",
    "# )\n",
    "\n",
    "# await run_agentic_search(custom_problem, strategy=\"a_star\")"
   ]
  },
  {
   "cell_type": "markdown",
   "id": "50c59100",
   "metadata": {},
   "source": [
    "## Reflection & Analysis\n",
    "\n",
    "### Heuristic effectiveness\n",
    "[Discuss where your agentic heuristic provided strong guidance.]\n",
    "\n",
    "### Failure modes / surprises\n",
    "[Document puzzles or states where the heuristic misled the search or produced high cost.]\n",
    "\n",
    "### Cost vs. heuristic alignment\n",
    "[Reflect on whether $g(n)$ and $h(n)$ share compatible units/scales.]\n",
    "\n",
    "### Communication insights\n",
    "[Explain how MCP/A2A design choices supported or hindered collaboration.]\n",
    "\n",
    "### Future improvements\n",
    "[Outline ideas for richer heuristics, additional agents, or tool integrations.]"
   ]
  },
  {
   "cell_type": "markdown",
   "id": "a1d173ae",
   "metadata": {},
   "source": [
    "## References\n",
    "\n",
    "- `L3_overview.md`\n",
    "- [AutoGen Documentation](https://microsoft.github.io/autogen/stable/index.html)\n",
    "- [Model Context Protocol](https://modelcontextprotocol.io/docs/getting-started/intro)\n",
    "- [Agent-to-Agent Protocol](https://a2a-protocol.org/latest/)\n",
    "- [NYT Spelling Bee](https://www.nytimes.com/puzzles/spelling-bee)"
   ]
  }
 ],
 "metadata": {
  "kernelspec": {
   "display_name": ".venv",
   "language": "python",
   "name": "python3"
  },
  "language_info": {
   "codemirror_mode": {
    "name": "ipython",
    "version": 3
   },
   "file_extension": ".py",
   "mimetype": "text/x-python",
   "name": "python",
   "nbconvert_exporter": "python",
   "pygments_lexer": "ipython3",
   "version": "3.11.0"
  }
 },
 "nbformat": 4,
 "nbformat_minor": 5
}

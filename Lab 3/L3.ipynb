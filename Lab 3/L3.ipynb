{
 "cells": [
  {
   "cell_type": "markdown",
   "id": "2d8b3187",
   "metadata": {},
   "source": [
    "# CSC 480-F25 Lab 3: Agentic Heuristic Search (NYT Spelling Bee)"
   ]
  },
  {
   "cell_type": "markdown",
   "id": "597fcded",
   "metadata": {},
   "source": [
    "# Authors:"
   ]
  },
  {
   "cell_type": "markdown",
   "id": "ecc34f35",
   "metadata": {},
   "source": [
    "***Arnav Bhola, Pranav Krishna***\n",
    "\n",
    "California Polytechnic State University, San Luis Obispo;\n",
    "\n",
    "Computer Science & Software Engineering Department"
   ]
  },
  {
   "cell_type": "markdown",
   "id": "5d17928c",
   "metadata": {},
   "source": [
    "# Overview\n",
    "\n",
    "This lab focuses on:\n",
    "- Integrating a provided generalized search engine as a tool inside an agentic workflow\n",
    "- Designing an agentic heuristic system that collaborates to estimate $h(n)$ for NYT Spelling Bee states\n",
    "- Implementing a custom cost function $g(n)$ and evaluating search strategies (Uniform Cost, A*)\n",
    "- Coordinating agent communication via MCP-style tool exposure and A2A interactions\n",
    "- Reflecting on how agentic heuristics complement classical search methods\n",
    "\n",
    "NOTE: The Spelling Bee problem definition and generalized search function are provided for you. Your primary work is to wire them into your agentic solution and iterate on the heuristic design (see part 2 of this notebook).\n",
    "\n",
    "## Learning Objectives\n",
    "\n",
    "By the end of this lab, you will be able to:\n",
    "\n",
    "- Integrate a provided generalized search function as a tool within an AutoGen-based agentic system\n",
    "- Design and implement an agent team that produces numeric heuristic estimates to guide search\n",
    "- Define and justify a cost function that complements your heuristic in the Spelling Bee domain\n",
    "- Specify MCP-style tool schemas and A2A message flows for heuristic collaboration\n",
    "- Analyze how different heuristic strategies impact search quality, cost, and convergence"
   ]
  },
  {
   "cell_type": "markdown",
   "id": "c55e9e0d",
   "metadata": {},
   "source": [
    "# Part 1: Agentic Heuristic Design and Planning"
   ]
  },
  {
   "cell_type": "markdown",
   "id": "168872dd",
   "metadata": {},
   "source": [
    "## 1. Problem Statement & Search Context\n",
    "\n",
    "**Provided Problem:** NYT Spelling Bee puzzle instance (letters, required center letter, dictionary utilities)\n",
    "\n",
    "**Goal:** Integrate the provided Spelling Bee problem specification with the generalized search engine and your agentic heuristic.\n",
    "\n",
    "**Task Breakdown:** Outline the high-level steps you will take to reach a working solution.\n",
    "1. Configure SpellingBeeProblem with letters and required center letter\n",
    "2. Expose generalized_search by implementing cost_fn and heuristic_fn wrappers\n",
    "3. Design 2-3 specialized agents that analyze different aspects of state quality\n",
    "4. Use RoundRobinGroupChat to coordinate agents and aggregate scores\n",
    "5. Test on sample puzzles and iterate based on expansion counts"
   ]
  },
  {
   "cell_type": "markdown",
   "id": "56161440",
   "metadata": {},
   "source": [
    "## 2. Agentic Heuristic Team Definition\n",
    "\n",
    "Define the agents who collaborate to estimate $h(n)$ for a given Spelling Bee state. Feel free to use more, or fewer.\n",
    "\n",
    "### Agent 1: FeasibilityAnalyst\n",
    "- **Role:** Constraint checker and dictionary validator\n",
    "- **Responsibilities:** \n",
    "  - Check if state contains only allowed letters\n",
    "  - Verify required letter is present\n",
    "  - Assess if current prefix exists in valid word prefixes\n",
    "- **Inputs:** Current state (partial word), allowed letters, required letter\n",
    "- **Outputs:** Score 0-10 reflecting constraint satisfaction, rationale\n",
    "- **Success Criteria:** Correctly identifies invalid prefixes that can't lead to solutions\n",
    "\n",
    "### Agent 2: CompletenessEstimator  \n",
    "- **Role:** Distance-to-goal estimator\n",
    "- **Responsibilities:**\n",
    "  - Estimate how many more letters needed to form valid word\n",
    "  - Consider minimum word length (4 letters)\n",
    "  - Assess likelihood of common word patterns\n",
    "- **Inputs:** Current state length, min word length, letter usage patterns\n",
    "- **Outputs:** Score 0-10 (higher = closer to completion), rationale\n",
    "- **Success Criteria:** Provides lower scores for short states, higher for near-complete words\n",
    "\n",
    "### Agent 3: HeuristicAggregator\n",
    "- **Role:** Score coordinator and combiner\n",
    "- **Responsibilities:**\n",
    "  - Collect scores from FeasibilityAnalyst and CompletenessEstimator\n",
    "  - Weight and combine scores into single h(n)\n",
    "  - Ensure admissibility (never overestimate distance to goal)\n",
    "- **Inputs:** Sub-agent scores and rationales\n",
    "- **Outputs:** Single numeric FINAL_SCORE\n",
    "- **Success Criteria:** Returns consistent, numeric heuristic values"
   ]
  },
  {
   "cell_type": "markdown",
   "id": "53934c12",
   "metadata": {},
   "source": [
    "## 3. Tool Integration & Coordination Pattern\n",
    "\n",
    "**Chosen Pattern:** Manager-Worker with Sequential Coordination\n",
    "\n",
    "**Justification:**\n",
    "- Manager (HeuristicAggregator) coordinates two specialist workers\n",
    "- Sequential because feasibility must be checked before estimating completeness\n",
    "- Simpler than full collaborative team, reduces message overhead\n",
    "- Clear responsibility boundaries minimize conflicts\n",
    "\n",
    "**Integration Plan:** Outline how you will connect the provided components.\n",
    "- generalized_search calls heuristic_fn(state) whenever it needs h(n)\n",
    "- heuristic_fn creates RoundRobinGroupChat with 3 agents\n",
    "- Agents discuss state in sequence, aggregator produces FINAL_SCORE\n",
    "- cost_fn returns len(next_state) (each letter added costs 1)\n",
    "- Search maintains frontier/explored set; we just provide callbacks"
   ]
  },
  {
   "cell_type": "markdown",
   "id": "cdec6d3d",
   "metadata": {},
   "source": [
    "## 4. Communication Design\n",
    "\n",
    "### Model Context Protocol (MCP)\n",
    "**Tool Schema:** generalized_search exposed as async function\n",
    "- Parameters: problem (SpellingBeeProblem), cost_fn (callable), heuristic_fn (async callable), strategy (str)\n",
    "- Returns: SearchResult with success, goal_state, actions, cost, expansions\n",
    "\n",
    "### Agent-to-Agent (A2A) Interactions\n",
    "\n",
    "Describe the kind of communications you expect from your system.\n",
    "\n",
    "#### Interaction 1: HeuristicAggregator → FeasibilityAnalyst\n",
    "- **Purpose:** Request constraint analysis for current state\n",
    "- **Key Fields:** state string, allowed letters, required letter\n",
    "- **Message Format:** \"Evaluate feasibility for state: {state}\"\n",
    "\n",
    "#### Interaction 2: HeuristicAggregator → CompletenessEstimator  \n",
    "- **Purpose:** Request distance-to-goal estimate\n",
    "- **Key Fields:** state string, state length, min required length\n",
    "- **Message Format:** \"Estimate completeness for state: {state}\"\n",
    "\n",
    "#### Interaction 3: Sub-agents → HeuristicAggregator\n",
    "- **Purpose:** Return partial scores with reasoning\n",
    "- **Key Fields:** Numeric score, rationale text with \"SCORE: X.X\"\n",
    "- **Message Format:** Text ending with \"SCORE: <float>\"\n",
    "\n",
    "*(Add more interactions as needed.)*"
   ]
  },
  {
   "cell_type": "markdown",
   "id": "eacb6914",
   "metadata": {},
   "source": [
    "# Part 2: Integrating the Generalized Search Tool"
   ]
  },
  {
   "cell_type": "markdown",
   "id": "2c1fd14e",
   "metadata": {},
   "source": [
    "## Environment Setup\n",
    "\n",
    "Install required packages and configure model access before running the agentic heuristic experiments."
   ]
  },
  {
   "cell_type": "code",
   "execution_count": 34,
   "id": "0c2d75f5",
   "metadata": {},
   "outputs": [
    {
     "name": "stdout",
     "output_type": "stream",
     "text": [
      "Requirement already satisfied: autogen-core in /Users/arnavbhola/CSC480/.venv/lib/python3.12/site-packages (0.7.5)\n",
      "Requirement already satisfied: autogen-agentchat in /Users/arnavbhola/CSC480/.venv/lib/python3.12/site-packages (0.7.5)\n",
      "Requirement already satisfied: autogen-ext[azure,openai] in /Users/arnavbhola/CSC480/.venv/lib/python3.12/site-packages (0.7.5)\n",
      "Requirement already satisfied: jsonref~=1.1.0 in /Users/arnavbhola/CSC480/.venv/lib/python3.12/site-packages (from autogen-core) (1.1.0)\n",
      "Requirement already satisfied: opentelemetry-api>=1.34.1 in /Users/arnavbhola/CSC480/.venv/lib/python3.12/site-packages (from autogen-core) (1.37.0)\n",
      "Requirement already satisfied: pillow>=11.0.0 in /Users/arnavbhola/CSC480/.venv/lib/python3.12/site-packages (from autogen-core) (11.3.0)\n",
      "Requirement already satisfied: protobuf~=5.29.3 in /Users/arnavbhola/CSC480/.venv/lib/python3.12/site-packages (from autogen-core) (5.29.5)\n",
      "Requirement already satisfied: pydantic<3.0.0,>=2.10.0 in /Users/arnavbhola/CSC480/.venv/lib/python3.12/site-packages (from autogen-core) (2.11.9)\n",
      "Requirement already satisfied: typing-extensions>=4.0.0 in /Users/arnavbhola/CSC480/.venv/lib/python3.12/site-packages (from autogen-core) (4.15.0)\n",
      "Requirement already satisfied: azure-ai-inference>=1.0.0b9 in /Users/arnavbhola/CSC480/.venv/lib/python3.12/site-packages (from autogen-ext[azure,openai]) (1.0.0b9)\n",
      "Requirement already satisfied: azure-ai-projects>=1.0.0b11 in /Users/arnavbhola/CSC480/.venv/lib/python3.12/site-packages (from autogen-ext[azure,openai]) (1.1.0b4)\n",
      "Requirement already satisfied: azure-core in /Users/arnavbhola/CSC480/.venv/lib/python3.12/site-packages (from autogen-ext[azure,openai]) (1.35.1)\n",
      "Requirement already satisfied: azure-identity in /Users/arnavbhola/CSC480/.venv/lib/python3.12/site-packages (from autogen-ext[azure,openai]) (1.25.0)\n",
      "Requirement already satisfied: azure-search-documents>=11.4.0 in /Users/arnavbhola/CSC480/.venv/lib/python3.12/site-packages (from autogen-ext[azure,openai]) (11.5.3)\n",
      "Requirement already satisfied: aiofiles in /Users/arnavbhola/CSC480/.venv/lib/python3.12/site-packages (from autogen-ext[azure,openai]) (24.1.0)\n",
      "Requirement already satisfied: openai>=1.93 in /Users/arnavbhola/CSC480/.venv/lib/python3.12/site-packages (from autogen-ext[azure,openai]) (2.0.0)\n",
      "Requirement already satisfied: tiktoken>=0.8.0 in /Users/arnavbhola/CSC480/.venv/lib/python3.12/site-packages (from autogen-ext[azure,openai]) (0.11.0)\n",
      "Requirement already satisfied: isodate>=0.6.1 in /Users/arnavbhola/CSC480/.venv/lib/python3.12/site-packages (from azure-ai-inference>=1.0.0b9->autogen-ext[azure,openai]) (0.7.2)\n",
      "Requirement already satisfied: azure-storage-blob>=12.15.0 in /Users/arnavbhola/CSC480/.venv/lib/python3.12/site-packages (from azure-ai-projects>=1.0.0b11->autogen-ext[azure,openai]) (12.26.0)\n",
      "Requirement already satisfied: azure-ai-agents>=1.2.0b3 in /Users/arnavbhola/CSC480/.venv/lib/python3.12/site-packages (from azure-ai-projects>=1.0.0b11->autogen-ext[azure,openai]) (1.2.0b5)\n",
      "Requirement already satisfied: requests>=2.21.0 in /Users/arnavbhola/CSC480/.venv/lib/python3.12/site-packages (from azure-core->autogen-ext[azure,openai]) (2.32.5)\n",
      "Requirement already satisfied: six>=1.11.0 in /Users/arnavbhola/CSC480/.venv/lib/python3.12/site-packages (from azure-core->autogen-ext[azure,openai]) (1.17.0)\n",
      "Requirement already satisfied: azure-common>=1.1 in /Users/arnavbhola/CSC480/.venv/lib/python3.12/site-packages (from azure-search-documents>=11.4.0->autogen-ext[azure,openai]) (1.1.28)\n",
      "Requirement already satisfied: anyio<5,>=3.5.0 in /Users/arnavbhola/CSC480/.venv/lib/python3.12/site-packages (from openai>=1.93->autogen-ext[azure,openai]) (4.11.0)\n",
      "Requirement already satisfied: distro<2,>=1.7.0 in /Users/arnavbhola/CSC480/.venv/lib/python3.12/site-packages (from openai>=1.93->autogen-ext[azure,openai]) (1.9.0)\n",
      "Requirement already satisfied: httpx<1,>=0.23.0 in /Users/arnavbhola/CSC480/.venv/lib/python3.12/site-packages (from openai>=1.93->autogen-ext[azure,openai]) (0.28.1)\n",
      "Requirement already satisfied: jiter<1,>=0.4.0 in /Users/arnavbhola/CSC480/.venv/lib/python3.12/site-packages (from openai>=1.93->autogen-ext[azure,openai]) (0.11.0)\n",
      "Requirement already satisfied: sniffio in /Users/arnavbhola/CSC480/.venv/lib/python3.12/site-packages (from openai>=1.93->autogen-ext[azure,openai]) (1.3.1)\n",
      "Requirement already satisfied: tqdm>4 in /Users/arnavbhola/CSC480/.venv/lib/python3.12/site-packages (from openai>=1.93->autogen-ext[azure,openai]) (4.67.1)\n",
      "Requirement already satisfied: importlib-metadata<8.8.0,>=6.0 in /Users/arnavbhola/CSC480/.venv/lib/python3.12/site-packages (from opentelemetry-api>=1.34.1->autogen-core) (8.7.0)\n",
      "Requirement already satisfied: annotated-types>=0.6.0 in /Users/arnavbhola/CSC480/.venv/lib/python3.12/site-packages (from pydantic<3.0.0,>=2.10.0->autogen-core) (0.7.0)\n",
      "Requirement already satisfied: pydantic-core==2.33.2 in /Users/arnavbhola/CSC480/.venv/lib/python3.12/site-packages (from pydantic<3.0.0,>=2.10.0->autogen-core) (2.33.2)\n",
      "Requirement already satisfied: typing-inspection>=0.4.0 in /Users/arnavbhola/CSC480/.venv/lib/python3.12/site-packages (from pydantic<3.0.0,>=2.10.0->autogen-core) (0.4.1)\n",
      "Requirement already satisfied: regex>=2022.1.18 in /Users/arnavbhola/CSC480/.venv/lib/python3.12/site-packages (from tiktoken>=0.8.0->autogen-ext[azure,openai]) (2025.9.18)\n",
      "Requirement already satisfied: cryptography>=2.5 in /Users/arnavbhola/CSC480/.venv/lib/python3.12/site-packages (from azure-identity->autogen-ext[azure,openai]) (46.0.1)\n",
      "Requirement already satisfied: msal>=1.30.0 in /Users/arnavbhola/CSC480/.venv/lib/python3.12/site-packages (from azure-identity->autogen-ext[azure,openai]) (1.34.0)\n",
      "Requirement already satisfied: msal-extensions>=1.2.0 in /Users/arnavbhola/CSC480/.venv/lib/python3.12/site-packages (from azure-identity->autogen-ext[azure,openai]) (1.3.1)\n",
      "Requirement already satisfied: idna>=2.8 in /Users/arnavbhola/CSC480/.venv/lib/python3.12/site-packages (from anyio<5,>=3.5.0->openai>=1.93->autogen-ext[azure,openai]) (3.10)\n",
      "Requirement already satisfied: cffi>=2.0.0 in /Users/arnavbhola/CSC480/.venv/lib/python3.12/site-packages (from cryptography>=2.5->azure-identity->autogen-ext[azure,openai]) (2.0.0)\n",
      "Requirement already satisfied: certifi in /Users/arnavbhola/CSC480/.venv/lib/python3.12/site-packages (from httpx<1,>=0.23.0->openai>=1.93->autogen-ext[azure,openai]) (2025.8.3)\n",
      "Requirement already satisfied: httpcore==1.* in /Users/arnavbhola/CSC480/.venv/lib/python3.12/site-packages (from httpx<1,>=0.23.0->openai>=1.93->autogen-ext[azure,openai]) (1.0.9)\n",
      "Requirement already satisfied: h11>=0.16 in /Users/arnavbhola/CSC480/.venv/lib/python3.12/site-packages (from httpcore==1.*->httpx<1,>=0.23.0->openai>=1.93->autogen-ext[azure,openai]) (0.16.0)\n",
      "Requirement already satisfied: zipp>=3.20 in /Users/arnavbhola/CSC480/.venv/lib/python3.12/site-packages (from importlib-metadata<8.8.0,>=6.0->opentelemetry-api>=1.34.1->autogen-core) (3.23.0)\n",
      "Requirement already satisfied: PyJWT[crypto]<3,>=1.0.0 in /Users/arnavbhola/CSC480/.venv/lib/python3.12/site-packages (from msal>=1.30.0->azure-identity->autogen-ext[azure,openai]) (2.10.1)\n",
      "Requirement already satisfied: charset_normalizer<4,>=2 in /Users/arnavbhola/CSC480/.venv/lib/python3.12/site-packages (from requests>=2.21.0->azure-core->autogen-ext[azure,openai]) (3.4.3)\n",
      "Requirement already satisfied: urllib3<3,>=1.21.1 in /Users/arnavbhola/CSC480/.venv/lib/python3.12/site-packages (from requests>=2.21.0->azure-core->autogen-ext[azure,openai]) (2.5.0)\n",
      "Requirement already satisfied: pycparser in /Users/arnavbhola/CSC480/.venv/lib/python3.12/site-packages (from cffi>=2.0.0->cryptography>=2.5->azure-identity->autogen-ext[azure,openai]) (2.23)\n",
      "\n",
      "\u001b[1m[\u001b[0m\u001b[34;49mnotice\u001b[0m\u001b[1;39;49m]\u001b[0m\u001b[39;49m A new release of pip is available: \u001b[0m\u001b[31;49m23.2.1\u001b[0m\u001b[39;49m -> \u001b[0m\u001b[32;49m25.2\u001b[0m\n",
      "\u001b[1m[\u001b[0m\u001b[34;49mnotice\u001b[0m\u001b[1;39;49m]\u001b[0m\u001b[39;49m To update, run: \u001b[0m\u001b[32;49mpip install --upgrade pip\u001b[0m\n",
      "Note: you may need to restart the kernel to use updated packages.\n"
     ]
    }
   ],
   "source": [
    "%pip install \"autogen-core\" \"autogen-agentchat\" \"autogen-ext[openai,azure]\""
   ]
  },
  {
   "cell_type": "code",
   "execution_count": 35,
   "id": "0678a3ac",
   "metadata": {},
   "outputs": [],
   "source": [
    "import os\n",
    "import asyncio\n",
    "from dataclasses import asdict\n",
    "\n",
    "from autogen_agentchat.agents import AssistantAgent\n",
    "from autogen_agentchat.conditions import TextMentionTermination\n",
    "from autogen_agentchat.teams import RoundRobinGroupChat\n",
    "from autogen_agentchat.base import TaskResult\n",
    "from autogen_ext.models.openai import AzureOpenAIChatCompletionClient\n",
    "\n",
    "from utils import SpellingBeeProblem, SearchResult, generalized_search"
   ]
  },
  {
   "cell_type": "code",
   "execution_count": 36,
   "id": "7399f3d1",
   "metadata": {},
   "outputs": [],
   "source": [
    "from pathlib import Path\n",
    "from dotenv import load_dotenv"
   ]
  },
  {
   "cell_type": "code",
   "execution_count": 37,
   "id": "c257eeb8",
   "metadata": {},
   "outputs": [],
   "source": [
    "cwd = Path.cwd()\n",
    "env_path = cwd.parent / \".env\"\n",
    "loaded = load_dotenv(env_path)"
   ]
  },
  {
   "cell_type": "code",
   "execution_count": 38,
   "id": "61e72813",
   "metadata": {},
   "outputs": [],
   "source": [
    "# Just like in the other labs\n",
    "azure_deployment = os.getenv(\"AZURE_DEPLOYMENT_NAME\")\n",
    "api_version = \"2024-12-01-preview\" \n",
    "azure_endpoint = os.getenv(\"AZURE_ENDPOINT\")\n",
    "# Expect AZURE_SUBSCRIPTION_KEY to be set in environment variables"
   ]
  },
  {
   "cell_type": "markdown",
   "id": "2575983f",
   "metadata": {},
   "source": [
    "## Agentic Heuristic Architecture Blueprint\n",
    "\n",
    "Based on the overview, sketch out how your heuristic agents and the generalized search tool interact:\n",
    "- **Feasibility Agent**: Evaluates constraint satisfaction and dictionary viability.\n",
    "- **Completeness Agent**: Estimates remaining effort to reach a valid Spelling Bee solution.\n",
    "- **Score Aggregator Agent**: Combines the scores and analysis of other agents into a final score.\n",
    "- *(Optional)* Additional agents for scoring letter diversity, pangram potential, etc.\n",
    "\n",
    "NOTE: The below system is just a example. Feel free to make it your own as you designed in part 1."
   ]
  },
  {
   "cell_type": "code",
   "execution_count": 39,
   "id": "2b5946f6",
   "metadata": {},
   "outputs": [],
   "source": [
    "def setup_agentic_heuristic_system():\n",
    "    \"\"\"Instantiate heuristic agents for Spelling Bee state evaluation.\"\"\"\n",
    "    client = AzureOpenAIChatCompletionClient(\n",
    "        azure_deployment=azure_deployment,\n",
    "        model=\"gpt-5-mini\",\n",
    "        api_version=api_version,\n",
    "        azure_endpoint=azure_endpoint,\n",
    "        api_key=os.getenv(\"AZURE_SUBSCRIPTION_KEY\"),\n",
    "    )\n",
    "\n",
    "    feasibility = AssistantAgent(\n",
    "        name=\"FeasibilityAnalyst\",\n",
    "        model_client=client,\n",
    "        system_message=\"\"\"You analyze whether a partial word can become a valid Spelling Bee answer.\n",
    "Cost: low (bad), high (excellent). Include rationale and numeric score line 'SCORE: <float>'.\"\"\",\n",
    "    )\n",
    "\n",
    "    completeness = AssistantAgent(\n",
    "        name=\"CompletenessEstimator\",\n",
    "        model_client=client,\n",
    "        system_message=\"\"\"You estimate remaining effort to reach a full valid word.\n",
    "Cost: low (far) to high (close). Include rationale and numeric score line 'SCORE: <float>'.\"\"\",\n",
    "    )\n",
    "\n",
    "    aggregator = AssistantAgent(\n",
    "        name=\"HeuristicAggregator\",\n",
    "        model_client=client,\n",
    "        system_message=\"\"\"You coordinate heuristic scoring for Spelling Bee nodes.\n",
    "You will:\n",
    "1. Consider analyses from collaborators.\n",
    "2. Combine their numeric scores and rationales.\n",
    "3. Return a single numeric heuristic estimate h(n).\n",
    "Always end responses with FINAL_SCORE: <float>.\"\"\",\n",
    "    )\n",
    "\n",
    "    return feasibility, completeness, aggregator"
   ]
  },
  {
   "cell_type": "code",
   "execution_count": 40,
   "id": "8d32132e",
   "metadata": {},
   "outputs": [],
   "source": [
    "def cost_fn(parent_state, action, next_state) -> float:\n",
    "    \"\"\"\n",
    "    Return the incremental cost g(n) for moving to next_state.\n",
    "    Customize this to reflect letter usage, word length, or other criteria.\n",
    "\n",
    "    Args:\n",
    "        parent_state: The current sub-word.\n",
    "        action: The next letter added.\n",
    "        next_state: The sub-word after adding the action letter.\n",
    "    Returns:\n",
    "        A numeric cost value (float).\n",
    "    \"\"\"\n",
    "    # Slightly penalize longer words to find solutions faster.\n",
    "    return 1.0"
   ]
  },
  {
   "cell_type": "code",
   "execution_count": 45,
   "id": "562f3961",
   "metadata": {},
   "outputs": [],
   "source": [
    "async def run_agentic_search(\n",
    "    spelling_bee: SpellingBeeProblem, strategy: str = \"a_star\"\n",
    "):\n",
    "    \"\"\"Execute the generalized search with your cost and heuristic functions.\"\"\"\n",
    "    feasibility, completeness, aggregator = setup_agentic_heuristic_system()\n",
    "\n",
    "    async def heuristic_fn(state, min_state_len=3) -> float:\n",
    "        \"\"\"\n",
    "        Delegate to the agentic heuristic system to compute h(n) for `state`. In our problem space,\n",
    "        state is a partial word. You will need to implement the logic to send messages to your agents,\n",
    "        gather their responses, and compute a final numeric heuristic value.\n",
    "\n",
    "        Args:\n",
    "            state: The current state (partial word) to evaluate.\n",
    "        Returns:\n",
    "            A numeric heuristic estimate (float).\n",
    "        \"\"\"\n",
    "        if len(state) < min_state_len:\n",
    "            # No heuristic value for very short states\n",
    "            # There isn't enough information to evaluate\n",
    "            return 0.0\n",
    "\n",
    "        # See https://microsoft.github.io/autogen/stable//reference/python/autogen_agentchat.teams.html\n",
    "        team = RoundRobinGroupChat(\n",
    "            [feasibility, completeness, aggregator],\n",
    "            termination_condition=TextMentionTermination(\"FINAL_SCORE:\"),\n",
    "        )\n",
    "\n",
    "        # Get the result from the team\n",
    "        messages_generator = team.run_stream(\n",
    "            task=f\"Evaluate heuristic for state: {state}\", output_task_messages=False\n",
    "        )\n",
    "        async for message in messages_generator:\n",
    "            if isinstance(message, TaskResult):\n",
    "                response = message.messages[-1].content\n",
    "                break\n",
    "\n",
    "        # Parse the numeric score from the orchestrator's response\n",
    "        try:\n",
    "            score_line = next(\n",
    "                line for line in response.splitlines() if \"FINAL_SCORE:\" in line\n",
    "            )\n",
    "            start_idx = score_line.index(\"FINAL_SCORE:\") + len(\"FINAL_SCORE:\")\n",
    "            end_idx = score_line.index(\".\", start_idx) + 1\n",
    "            final_score = float(score_line[start_idx:end_idx].strip())\n",
    "            return final_score\n",
    "        except (StopIteration, ValueError, IndexError):\n",
    "            print(\"Failed to parse score from orchestrator response. Defaulting to 0.0\")\n",
    "            return 0.0\n",
    "\n",
    "    print(f\"Running {strategy} search on: {spelling_bee}\")\n",
    "\n",
    "    result: SearchResult = await generalized_search(\n",
    "        problem=spelling_bee,\n",
    "        cost_fn=cost_fn,\n",
    "        heuristic_fn=heuristic_fn,\n",
    "        strategy=strategy,\n",
    "        max_expansions=30,  # May want to set this for debugging\n",
    "        verbose=True,\n",
    "    )\n",
    "\n",
    "    result_summary = asdict(result)\n",
    "    print(\"SearchResult summary:\")\n",
    "    for key, value in result_summary.items():\n",
    "        print(f\"  {key}: {value}\")\n",
    "\n",
    "    return result"
   ]
  },
  {
   "cell_type": "markdown",
   "id": "11e27464",
   "metadata": {},
   "source": [
    "## Example Puzzle 1: Starter Configuration\n",
    "\n",
    "Test the integrated system on a small Spelling Bee instance provided with the lab."
   ]
  },
  {
   "cell_type": "code",
   "execution_count": 46,
   "id": "7224610e",
   "metadata": {},
   "outputs": [
    {
     "name": "stdout",
     "output_type": "stream",
     "text": [
      "Running a_star search on: SpellingBeeProblem(letters='ADELOPR', required='O', words=279)\n",
      "SearchResult summary:\n",
      "  success: False\n",
      "  goal_state: None\n",
      "  actions: []\n",
      "  cost: inf\n",
      "  expansions: 30\n",
      "  explored: 30\n",
      "  frontier_size: 65\n"
     ]
    },
    {
     "data": {
      "text/plain": [
       "SearchResult(success=False, goal_state=None, actions=[], cost=inf, expansions=30, explored=30, frontier_size=65)"
      ]
     },
     "execution_count": 46,
     "metadata": {},
     "output_type": "execute_result"
    }
   ],
   "source": [
    "# Provided helper will create a Spelling Bee problem instance, e.g. letters=\"ADELOPR\", center=\"O\"\n",
    "starter_problem = SpellingBeeProblem.from_letters(\n",
    "    letters=[\"A\", \"D\", \"E\", \"L\", \"O\", \"P\", \"R\"],\n",
    "    required_letter=\"O\",\n",
    ")\n",
    "\n",
    "# Uncomment to run once cost_fn and heuristic_fn are implemented\n",
    "await run_agentic_search(starter_problem, strategy=\"a_star\")"
   ]
  },
  {
   "cell_type": "markdown",
   "id": "5c09db3e",
   "metadata": {},
   "source": [
    "## Example Puzzle 2: Alternate Strategy Comparison\n",
    "\n",
    "Run the same instance under Uniform Cost Search to compare behavior vs. A*."
   ]
  },
  {
   "cell_type": "code",
   "execution_count": 43,
   "id": "b62112e4",
   "metadata": {},
   "outputs": [],
   "source": [
    "# # Uncomment to compare strategies once heuristic_fn is operational\n",
    "# await run_agentic_search(starter_problem, strategy=\"uniform_cost\")"
   ]
  },
  {
   "cell_type": "markdown",
   "id": "b502b40b",
   "metadata": {},
   "source": [
    "## Your Experiment\n",
    "\n",
    "Define your own Spelling Bee instance or heuristic variant and record results. This could be [today's puzzle](https://www.nytimes.com/puzzles/spelling-bee)."
   ]
  },
  {
   "cell_type": "code",
   "execution_count": 44,
   "id": "dcc3672b",
   "metadata": {},
   "outputs": [],
   "source": [
    "# custom_problem = SpellingBeeProblem.from_letters(\n",
    "#     letters=[\"A\", \"I\", \"Z\", \"G\", \"B\", \"N\", \"L\"],\n",
    "#     required_letter=\"L\",\n",
    "# )\n",
    "\n",
    "# await run_agentic_search(custom_problem, strategy=\"a_star\")"
   ]
  },
  {
   "cell_type": "markdown",
   "id": "50c59100",
   "metadata": {},
   "source": [
    "## Reflection & Analysis\n",
    "\n",
    "### Heuristic effectiveness\n",
    "[Discuss where your agentic heuristic provided strong guidance.]\n",
    "\n",
    "### Failure modes / surprises\n",
    "[Document puzzles or states where the heuristic misled the search or produced high cost.]\n",
    "\n",
    "### Cost vs. heuristic alignment\n",
    "[Reflect on whether $g(n)$ and $h(n)$ share compatible units/scales.]\n",
    "\n",
    "### Communication insights\n",
    "[Explain how MCP/A2A design choices supported or hindered collaboration.]\n",
    "\n",
    "### Future improvements\n",
    "[Outline ideas for richer heuristics, additional agents, or tool integrations.]"
   ]
  },
  {
   "cell_type": "markdown",
   "id": "a1d173ae",
   "metadata": {},
   "source": [
    "## References\n",
    "\n",
    "- `L3_overview.md`\n",
    "- [AutoGen Documentation](https://microsoft.github.io/autogen/stable/index.html)\n",
    "- [Model Context Protocol](https://modelcontextprotocol.io/docs/getting-started/intro)\n",
    "- [Agent-to-Agent Protocol](https://a2a-protocol.org/latest/)\n",
    "- [NYT Spelling Bee](https://www.nytimes.com/puzzles/spelling-bee)"
   ]
  }
 ],
 "metadata": {
  "kernelspec": {
   "display_name": ".venv",
   "language": "python",
   "name": "python3"
  },
  "language_info": {
   "codemirror_mode": {
    "name": "ipython",
    "version": 3
   },
   "file_extension": ".py",
   "mimetype": "text/x-python",
   "name": "python",
   "nbconvert_exporter": "python",
   "pygments_lexer": "ipython3",
   "version": "3.12.0"
  }
 },
 "nbformat": 4,
 "nbformat_minor": 5
}
